{
 "cells": [
  {
   "cell_type": "code",
   "execution_count": null,
   "metadata": {
    "collapsed": true
   },
   "outputs": [],
   "source": [
    "from IPython.display import YouTubeVideo\n",
    "\n",
    "YouTubeVideo(\"agCTBIveteg\")"
   ]
  },
  {
   "cell_type": "markdown",
   "metadata": {},
   "source": [
    "# Functions and Namespaces \n",
    "\n",
    "## Why Have Modules? \n",
    "\n",
    "* Why do we want to have a ``math`` module and a ``cmath`` module?\n",
    "* Why not have it all right out of the box in Python\n",
    "\n",
    "## Modules Allow us to Avoid Collisions of Names\n",
    "\n",
    "* Is ``sqrt`` a function defined on $\\mathbb{R}$ or on $\\mathbb{C}$?\n",
    "* Having ``math.sqrt`` and ``cmath.sqrt`` allows us to have both unambiguously\n",
    "* It is like using two knives to keep our peanut butter and jam from getting polluted in our peanut butter and jam example."
   ]
  },
  {
   "cell_type": "markdown",
   "metadata": {
    "internals": {
     "slide_helper": "subslide_end",
     "slide_type": "subslide"
    },
    "slide_helper": "subslide_end",
    "slideshow": {
     "slide_type": "subslide"
    }
   },
   "source": [
    "### Hiding functions\n",
    "* If I use an existing name (e.g. **print** or **len**) for my function, my new function name will \"hide\" the built in function. That is, I will no longer have access to the original function in my programs. (Within the scope of the \"name space\".)\n",
    "\n",
    "\n",
    "This will create a \n",
    "In a Python shell define the following function\n",
    "~~~~~~~~~~~~~Python\n",
    "def len(n):\n",
    "\treturn n*n\n",
    "~~~~~~~~~~~~~\n",
    "* What does **len('Brian')** do?\n",
    "* compare this to len() in a different Python shell"
   ]
  },
  {
   "cell_type": "code",
   "execution_count": null,
   "metadata": {
    "collapsed": true
   },
   "outputs": [],
   "source": [
    "#I am confused by this"
   ]
  },
  {
   "cell_type": "code",
   "execution_count": 1,
   "metadata": {},
   "outputs": [
    {
     "name": "stdout",
     "output_type": "stream",
     "text": [
      "5\n"
     ]
    }
   ],
   "source": [
    "print(len('Brian'))"
   ]
  },
  {
   "cell_type": "code",
   "execution_count": 2,
   "metadata": {
    "internals": {
     "slide_helper": "subslide_end",
     "slide_type": "subslide"
    },
    "slide_helper": "subslide_end",
    "slideshow": {
     "slide_type": "subslide"
    }
   },
   "outputs": [
    {
     "ename": "TypeError",
     "evalue": "can't multiply sequence by non-int of type 'str'",
     "output_type": "error",
     "traceback": [
      "\u001b[0;31m---------------------------------------------------------------------------\u001b[0m",
      "\u001b[0;31mTypeError\u001b[0m                                 Traceback (most recent call last)",
      "\u001b[0;32m<ipython-input-2-d034cbefaab0>\u001b[0m in \u001b[0;36m<module>\u001b[0;34m()\u001b[0m\n\u001b[1;32m      1\u001b[0m \u001b[0;32mdef\u001b[0m \u001b[0mlen\u001b[0m\u001b[0;34m(\u001b[0m\u001b[0mn\u001b[0m\u001b[0;34m)\u001b[0m\u001b[0;34m:\u001b[0m\u001b[0;34m\u001b[0m\u001b[0m\n\u001b[1;32m      2\u001b[0m     \u001b[0;32mreturn\u001b[0m \u001b[0mn\u001b[0m\u001b[0;34m*\u001b[0m\u001b[0mn\u001b[0m\u001b[0;34m\u001b[0m\u001b[0m\n\u001b[0;32m----> 3\u001b[0;31m \u001b[0mprint\u001b[0m\u001b[0;34m(\u001b[0m\u001b[0mlen\u001b[0m\u001b[0;34m(\u001b[0m\u001b[0;34m'Brian'\u001b[0m\u001b[0;34m)\u001b[0m\u001b[0;34m)\u001b[0m\u001b[0;34m\u001b[0m\u001b[0m\n\u001b[0m",
      "\u001b[0;32m<ipython-input-2-d034cbefaab0>\u001b[0m in \u001b[0;36mlen\u001b[0;34m(n)\u001b[0m\n\u001b[1;32m      1\u001b[0m \u001b[0;32mdef\u001b[0m \u001b[0mlen\u001b[0m\u001b[0;34m(\u001b[0m\u001b[0mn\u001b[0m\u001b[0;34m)\u001b[0m\u001b[0;34m:\u001b[0m\u001b[0;34m\u001b[0m\u001b[0m\n\u001b[0;32m----> 2\u001b[0;31m     \u001b[0;32mreturn\u001b[0m \u001b[0mn\u001b[0m\u001b[0;34m*\u001b[0m\u001b[0mn\u001b[0m\u001b[0;34m\u001b[0m\u001b[0m\n\u001b[0m\u001b[1;32m      3\u001b[0m \u001b[0mprint\u001b[0m\u001b[0;34m(\u001b[0m\u001b[0mlen\u001b[0m\u001b[0;34m(\u001b[0m\u001b[0;34m'Brian'\u001b[0m\u001b[0;34m)\u001b[0m\u001b[0;34m)\u001b[0m\u001b[0;34m\u001b[0m\u001b[0m\n",
      "\u001b[0;31mTypeError\u001b[0m: can't multiply sequence by non-int of type 'str'"
     ]
    }
   ],
   "source": [
    "def len(n):\n",
    "    return n*n\n",
    "print(len('Brian'))"
   ]
  },
  {
   "cell_type": "code",
   "execution_count": 3,
   "metadata": {},
   "outputs": [
    {
     "name": "stdout",
     "output_type": "stream",
     "text": [
      "81\n"
     ]
    }
   ],
   "source": [
    "print(len(9))"
   ]
  },
  {
   "cell_type": "markdown",
   "metadata": {
    "internals": {
     "slide_helper": "subslide_end",
     "slide_type": "subslide"
    },
    "slide_helper": "subslide_end",
    "slideshow": {
     "slide_type": "slide"
    }
   },
   "source": [
    "# [Scope](http://www.python-course.eu/python3_namespaces.php)\n",
    "* Local and Global Scope\n",
    "* Local name hides Global names\n",
    "* Parameter names have no relationship to argument names in function call\n",
    "\n",
    "* We can see what is in the local namespace with the [``locals``](https://docs.python.org/3/library/functions.html#locals) function which returns a dictionary of the local names\n",
    "* We can see what is in the global namespace with the [``globals``](https://docs.python.org/3/library/functions.html#globals) function which returns a dictionary of the global names\n",
    "\n",
    "#### Note: IPython creates a lot of *hidden* variables to keep track of the code state in the cell and the notebook"
   ]
  },
  {
   "cell_type": "markdown",
   "metadata": {},
   "source": [
    "In the following cell, we use a couple of variables to explore local and global variables. The key ideas to think about are\n",
    "\n",
    "1. The name I use in a function is unrelated to the name of the variable when I called the function.\n",
    "1. A variable defined in a function is only visible within that function."
   ]
  },
  {
   "cell_type": "code",
   "execution_count": 4,
   "metadata": {},
   "outputs": [
    {
     "name": "stdout",
     "output_type": "stream",
     "text": [
      "b= 5\n",
      "c= 10\n",
      "function1 locals {'b': 5, 'aNumber': 5}\n",
      "global value of c is 10\n",
      "1\n",
      "c= 4\n",
      "b= 4\n",
      "c= 10\n",
      "function1 locals {'b': 4, 'aNumber': 4}\n",
      "global value of c is 10\n",
      "1\n",
      "b= 4\n",
      "c= 10\n",
      "function1 locals {'b': 4, 'aNumber': 4}\n",
      "global value of c is 10\n",
      "1\n",
      "main locals {'c': 4}\n"
     ]
    }
   ],
   "source": [
    "c = 10\n",
    "def function1(aNumber):\n",
    "    \"\"\"This function takes a number (aNumber) and returns a 1\"\"\"\n",
    "    b = aNumber # defining a local variable that I'm not using\n",
    "    print(\"b=\",b)\n",
    "    print(\"c=\",c)\n",
    "    print(\"function1 locals\",locals())\n",
    "    if 'c' in globals():\n",
    "        print('global value of c is',globals()['c'])\n",
    "    else:\n",
    "        print('c not in globals')\n",
    "    #print(\"function1 globals\",globals())\n",
    "    return 1\n",
    "    print(\"Even though the function will never get here,\"\\\n",
    "          \"this is still part of the function\")\n",
    "    \n",
    "# This marks the end of the function because the indentation has \n",
    "# returned to the level of the def\n",
    "def main():\n",
    "    print(function1(5))\n",
    "    c = 4\n",
    "    print(\"c=\",c)\n",
    "    print(function1(c))\n",
    "    print(function1(4))\n",
    "    print(\"main locals\",locals())\n",
    "main()"
   ]
  },
  {
   "cell_type": "code",
   "execution_count": 5,
   "metadata": {},
   "outputs": [
    {
     "data": {
      "text/plain": [
       "False"
      ]
     },
     "execution_count": 5,
     "metadata": {},
     "output_type": "execute_result"
    }
   ],
   "source": [
    "#print(\"What is b=?\",b)\n",
    "'b' in globals()"
   ]
  },
  {
   "cell_type": "code",
   "execution_count": 6,
   "metadata": {
    "internals": {
     "slide_helper": "subslide_end",
     "slide_type": "subslide"
    },
    "slide_helper": "subslide_end",
    "slideshow": {
     "slide_type": "subslide"
    }
   },
   "outputs": [
    {
     "data": {
      "text/plain": [
       "'NAMPAHC NAIRB'"
      ]
     },
     "execution_count": 6,
     "metadata": {},
     "output_type": "execute_result"
    }
   ],
   "source": [
    "def string_reverse_and_capitalize(aString):\n",
    "    \"\"\"This function reverses the passed string aString and \n",
    "    returns it in uppercase\"\"\"\n",
    "    tempString = aString.upper()\n",
    "    tempString2 = tempString[::-1]\n",
    "    return tempString2\n",
    "string_reverse_and_capitalize(\"Brian Chapman\")"
   ]
  },
  {
   "cell_type": "markdown",
   "metadata": {},
   "source": [
    "#### Now that I've exited `string_reverse_and_capitalize`, do `tempString` and `tempString2` exist?"
   ]
  },
  {
   "cell_type": "code",
   "execution_count": 7,
   "metadata": {},
   "outputs": [
    {
     "name": "stdout",
     "output_type": "stream",
     "text": [
      "False\n",
      "False\n"
     ]
    }
   ],
   "source": [
    "print('tempString' in locals())\n",
    "print('tempString' in globals())"
   ]
  },
  {
   "cell_type": "code",
   "execution_count": 8,
   "metadata": {},
   "outputs": [
    {
     "name": "stdout",
     "output_type": "stream",
     "text": [
      "False\n",
      "False\n"
     ]
    }
   ],
   "source": [
    "print('tempString2' in locals())\n",
    "print('tempString2' in globals())"
   ]
  },
  {
   "cell_type": "code",
   "execution_count": 9,
   "metadata": {},
   "outputs": [
    {
     "name": "stdout",
     "output_type": "stream",
     "text": [
      "True\n",
      "True\n"
     ]
    }
   ],
   "source": [
    "print('c' in locals())\n",
    "print('c' in globals())"
   ]
  },
  {
   "cell_type": "code",
   "execution_count": 10,
   "metadata": {},
   "outputs": [
    {
     "name": "stdout",
     "output_type": "stream",
     "text": [
      "15\n",
      "5\n"
     ]
    }
   ],
   "source": [
    "def function3(a):\n",
    "    d = a*3\n",
    "    return d\n",
    "    \n",
    "b = 5\n",
    "c = function3(b)\n",
    "print(c)\n",
    "print(b)"
   ]
  },
  {
   "cell_type": "code",
   "execution_count": 11,
   "metadata": {
    "internals": {
     "slide_helper": "subslide_end",
     "slide_type": "subslide"
    },
    "slide_helper": "subslide_end",
    "slideshow": {
     "slide_type": "subslide"
    }
   },
   "outputs": [
    {
     "ename": "NameError",
     "evalue": "name 'd' is not defined",
     "output_type": "error",
     "traceback": [
      "\u001b[0;31m---------------------------------------------------------------------------\u001b[0m",
      "\u001b[0;31mNameError\u001b[0m                                 Traceback (most recent call last)",
      "\u001b[0;32m<ipython-input-11-9909575fff82>\u001b[0m in \u001b[0;36m<module>\u001b[0;34m()\u001b[0m\n\u001b[0;32m----> 1\u001b[0;31m \u001b[0mprint\u001b[0m\u001b[0;34m(\u001b[0m\u001b[0md\u001b[0m\u001b[0;34m)\u001b[0m\u001b[0;34m\u001b[0m\u001b[0m\n\u001b[0m",
      "\u001b[0;31mNameError\u001b[0m: name 'd' is not defined"
     ]
    }
   ],
   "source": [
    "print(d)"
   ]
  },
  {
   "cell_type": "markdown",
   "metadata": {
    "internals": {
     "slide_helper": "subslide_end",
     "slide_type": "subslide"
    },
    "slide_helper": "slide_end",
    "slideshow": {
     "slide_type": "subslide"
    }
   },
   "source": [
    "**NOTE THAT THE VARIABLE NAMES IN THE FUNCTION DEFINITION (e.g. \"a\") DO NOT CORRESPOND TO THE VARIABLE NAMES WHEN THE FUNCTION IS CALLED (e.g. \"b\")**"
   ]
  },
  {
   "cell_type": "code",
   "execution_count": 12,
   "metadata": {
    "internals": {
     "slide_helper": "subslide_end",
     "slide_type": "subslide"
    },
    "slide_helper": "slide_end",
    "slideshow": {
     "slide_type": "subslide"
    }
   },
   "outputs": [
    {
     "name": "stdout",
     "output_type": "stream",
     "text": [
      "e is 2.718281828459045\n",
      "e is 2\n",
      "f is 2\n"
     ]
    },
    {
     "ename": "NameError",
     "evalue": "name 'd' is not defined",
     "output_type": "error",
     "traceback": [
      "\u001b[0;31m---------------------------------------------------------------------------\u001b[0m",
      "\u001b[0;31mNameError\u001b[0m                                 Traceback (most recent call last)",
      "\u001b[0;32m<ipython-input-12-dde396c27d4b>\u001b[0m in \u001b[0;36m<module>\u001b[0;34m()\u001b[0m\n\u001b[1;32m     10\u001b[0m \u001b[0;34m\u001b[0m\u001b[0m\n\u001b[1;32m     11\u001b[0m \u001b[0mprint\u001b[0m\u001b[0;34m(\u001b[0m\u001b[0;34m\"f is %s\"\u001b[0m\u001b[0;34m%\u001b[0m\u001b[0mf\u001b[0m\u001b[0;34m)\u001b[0m\u001b[0;34m\u001b[0m\u001b[0m\n\u001b[0;32m---> 12\u001b[0;31m \u001b[0mprint\u001b[0m\u001b[0;34m(\u001b[0m\u001b[0;34m\"d is\"\u001b[0m\u001b[0;34m,\u001b[0m\u001b[0md\u001b[0m\u001b[0;34m)\u001b[0m\u001b[0;34m\u001b[0m\u001b[0m\n\u001b[0m",
      "\u001b[0;31mNameError\u001b[0m: name 'd' is not defined"
     ]
    }
   ],
   "source": [
    "import math\n",
    "e = math.e\n",
    "print(\"e is\",e)\n",
    "def function4(d):\n",
    "    e = d-3\n",
    "    print(\"e is\",e)\n",
    "    return e\n",
    "    \n",
    "f = function4(5)\n",
    "\n",
    "print(\"f is %s\"%f)\n",
    "print(\"d is\",d) "
   ]
  },
  {
   "cell_type": "code",
   "execution_count": null,
   "metadata": {
    "collapsed": true,
    "internals": {
     "slide_helper": "subslide_end"
    },
    "slide_helper": "slide_end",
    "slideshow": {
     "slide_type": "-"
    }
   },
   "outputs": [],
   "source": []
  }
 ],
 "metadata": {
  "kernelspec": {
   "display_name": "Python 3",
   "language": "python",
   "name": "python3"
  },
  "language_info": {
   "codemirror_mode": {
    "name": "ipython",
    "version": 3
   },
   "file_extension": ".py",
   "mimetype": "text/x-python",
   "name": "python",
   "nbconvert_exporter": "python",
   "pygments_lexer": "ipython3",
   "version": "3.5.2"
  }
 },
 "nbformat": 4,
 "nbformat_minor": 1
}
