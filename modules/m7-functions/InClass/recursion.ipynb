{
 "cells": [
  {
   "cell_type": "markdown",
   "metadata": {},
   "source": [
    "## Solving the problem using recursion\n",
    "\n",
    "Recursive functions are functions that call themselves. This is usually done instead of a implementing a loop."
   ]
  },
  {
   "cell_type": "markdown",
   "metadata": {},
   "source": [
    "### [factorial](https://en.wikipedia.org/wiki/Factorial): A famous recursive function\n",
    "\n",
    "The factorial function (usually depicted as $n!$), is the product of all positive integers less than $n$. $0!$ is defined to be 1 ($0! := 1$).\n",
    "\n",
    "* The domain of the factorial function is?\n",
    "* The range of the factorial function is?\n"
   ]
  },
  {
   "cell_type": "code",
   "execution_count": 4,
   "metadata": {
    "collapsed": true
   },
   "outputs": [],
   "source": [
    "def factorial(n):\n",
    "    print(n)\n",
    "    if n < 0:\n",
    "        raise ValueError(\"%s: n must be a non-negative integer\"%n)\n",
    "    if type(n) != int:\n",
    "        raise ValueError(\"%s: n must be an intger\"%n)\n",
    "    if n < 2:\n",
    "        return 1\n",
    "    else:\n",
    "        return n*factorial(n-1)"
   ]
  },
  {
   "cell_type": "code",
   "execution_count": 6,
   "metadata": {},
   "outputs": [
    {
     "name": "stdout",
     "output_type": "stream",
     "text": [
      "6\n",
      "5\n",
      "4\n",
      "3\n",
      "2\n",
      "1\n"
     ]
    },
    {
     "data": {
      "text/plain": [
       "720"
      ]
     },
     "execution_count": 6,
     "metadata": {},
     "output_type": "execute_result"
    }
   ],
   "source": [
    "factorial(6)"
   ]
  },
  {
   "cell_type": "markdown",
   "metadata": {},
   "source": [
    "### [Fibonacci Numbers](https://en.wikipedia.org/wiki/Fibonacci_number): Famous recursive numbers"
   ]
  },
  {
   "cell_type": "code",
   "execution_count": 17,
   "metadata": {
    "collapsed": true
   },
   "outputs": [],
   "source": [
    "def fibonacci(n):\n",
    "    print(n)\n",
    "    if n == 0:\n",
    "        return 1\n",
    "    if n == 1:\n",
    "        return 1\n",
    "    if n == 2:\n",
    "        return 1\n",
    "    return fibonacci(n-1) + fibonacci(n-2) #def of fibonacci number"
   ]
  },
  {
   "cell_type": "code",
   "execution_count": 12,
   "metadata": {},
   "outputs": [
    {
     "data": {
      "text/plain": [
       "[1, 1, 1, 2, 3, 5, 8, 13, 21, 34]"
      ]
     },
     "execution_count": 12,
     "metadata": {},
     "output_type": "execute_result"
    }
   ],
   "source": [
    "[fibonacci(n) for n in range(10)]"
   ]
  },
  {
   "cell_type": "code",
   "execution_count": 18,
   "metadata": {},
   "outputs": [
    {
     "name": "stdout",
     "output_type": "stream",
     "text": [
      "Fibonacci # 0\n",
      "0\n",
      "Fibonacci # 1\n",
      "1\n",
      "Fibonacci # 2\n",
      "2\n",
      "Fibonacci # 3\n",
      "3\n",
      "2\n",
      "1\n",
      "Fibonacci # 4\n",
      "4\n",
      "3\n",
      "2\n",
      "1\n",
      "2\n",
      "[1, 1, 1, 2, 3]\n"
     ]
    }
   ],
   "source": [
    "fnum = []\n",
    "for i in range(5):\n",
    "    print(\"Fibonacci # %d\" %i)\n",
    "    fnum.append(fibonacci(i))\n",
    "print(fnum)"
   ]
  },
  {
   "cell_type": "code",
   "execution_count": null,
   "metadata": {
    "collapsed": true
   },
   "outputs": [],
   "source": [
    "factorial(2)"
   ]
  },
  {
   "cell_type": "markdown",
   "metadata": {},
   "source": [
    "## Modify `get_pos_integer_take2` to get a a positive integer from the user using recursion"
   ]
  },
  {
   "cell_type": "code",
   "execution_count": 27,
   "metadata": {
    "collapsed": true,
    "deletable": false,
    "nbgrader": {
     "checksum": "10a62a413587993175db1a62879adeba",
     "grade": false,
     "grade_id": "cell-c44acabc93ef7176",
     "locked": false,
     "schema_version": 1,
     "solution": true
    }
   },
   "outputs": [],
   "source": [
    "def get_pos_integer_take2(prompt=\"Enter a positive integer\"):\n",
    "    try:\n",
    "        num = int(input(prompt))\n",
    "        if num <0:\n",
    "            return get_pos_integer_take2(prompt)\n",
    "        else:\n",
    "            return num\n",
    "    except ValueError:\n",
    "        return get_pos_integer_take2(prompt=prompt)"
   ]
  },
  {
   "cell_type": "code",
   "execution_count": 26,
   "metadata": {},
   "outputs": [
    {
     "name": "stdout",
     "output_type": "stream",
     "text": [
      "Enter a positive integer-4\n",
      "Enter a positive integer-4\n",
      "Enter a positive integer-3\n",
      "Enter a positive integer2\n"
     ]
    }
   ],
   "source": [
    "get_pos_integer_take2()"
   ]
  },
  {
   "cell_type": "markdown",
   "metadata": {},
   "source": [
    "## Does this function do one thing?\n",
    "## Could we break in into smaller pieces?"
   ]
  },
  {
   "cell_type": "code",
   "execution_count": null,
   "metadata": {
    "collapsed": true,
    "internals": {
     "slide_helper": "subslide_end"
    },
    "slide_helper": "slide_end",
    "slideshow": {
     "slide_type": "-"
    }
   },
   "outputs": [],
   "source": []
  }
 ],
 "metadata": {
  "kernelspec": {
   "display_name": "Python 3",
   "language": "python",
   "name": "python3"
  },
  "language_info": {
   "codemirror_mode": {
    "name": "ipython",
    "version": 3
   },
   "file_extension": ".py",
   "mimetype": "text/x-python",
   "name": "python",
   "nbconvert_exporter": "python",
   "pygments_lexer": "ipython3",
   "version": "3.5.2"
  }
 },
 "nbformat": 4,
 "nbformat_minor": 1
}
