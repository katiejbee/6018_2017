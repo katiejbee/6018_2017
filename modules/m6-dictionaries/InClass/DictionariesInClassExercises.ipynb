{
 "cells": [
  {
   "cell_type": "markdown",
   "metadata": {},
   "source": [
    "# Working with Dictionaries"
   ]
  },
  {
   "cell_type": "code",
   "execution_count": 32,
   "metadata": {
    "collapsed": true
   },
   "outputs": [],
   "source": [
    "from nose.tools import assert_equals, assert_true\n",
    "from ipywidgets import interact\n",
    "from IPython.display import HTML, display"
   ]
  },
  {
   "cell_type": "markdown",
   "metadata": {},
   "source": [
    "**Exercise:** Create a dictionary variable named \"sequences\" that has as values sequences1 through sequence3 and keys \"seq1\", \"seq2\", and \"seq3\"."
   ]
  },
  {
   "cell_type": "code",
   "execution_count": 33,
   "metadata": {
    "collapsed": true
   },
   "outputs": [],
   "source": [
    "# the \"\\\" character can be used as a line continuation in PPython\n",
    "sequence1 = \\\n",
    "\"\"\"AGTTGTTAGTCTACGTGGACCGACAAGAACAGTTTCGAATCGGAAGCTTGCTTAACGTAGTTCTAACAGT\n",
    "TTTTTATTAGAGAGCAGATCTCTGATGAACAACCAACGGAAAAAGACGGGTCGACCGTCTTTCAATATGC\"\"\"\n",
    "sequence2= \\\n",
    "\"\"\"TGAAACGCGCGAGAAACCGCGTGTCAACTGTTTCACAGTTGGCGAAGAGATTCTCAAAAGGATTGCTTTC\n",
    "AGGCCAAGGACCCATGAAATTGGTGATGGCTTTTATAGCATTCCTAAGATTTCTAGCCATACC\"\"\"\n",
    "sequence3= \\\n",
    "\"\"\"GCAGGAATTTTGGCTAGATGGGGCTCATTCAAGAAGAATGGAGCGATCAAAGTGTTACGGGTCAAGA\n",
    "AAGAAATCTCAAACATGTTGAACATAATGAACAGGAGGAAAAGATCTGTGACCATGCTCCTCATGCTGCT\"\"\"\n",
    "sequence4= \\\n",
    "\"\"\"GCCCACAGCCCTGGCGTTCCATCTGACCACCCGAGGGGGAGAGCCGCACATGATAGTTAGCAAGCAGGAA\n",
    "AGAGGAAAATCACTTTTGTTTAAGACCTCTGCAGGTGTCAACATGTGCACCCTTATTGCAATGGATTTGG\n",
    "GAGAGTTATGTGAGGACACAATGACCTACAAATGCCCCCGGATCACTGAGACGGAACCAGATGACGTTGA\n",
    "CTGTTGGTGCAATGCCACGGAGACATGGGTGACCTATGGAACATGTTCTCAAACTGGTGAACACCGACGA\n",
    "GACAAACGTTCCGTCGCACTGGCACCACACGTAGGGCTTGGTCTAGAAACAAGAACCGAAACGTGGATGT\"\"\"\n"
   ]
  },
  {
   "cell_type": "code",
   "execution_count": 34,
   "metadata": {
    "collapsed": true,
    "deletable": false,
    "nbgrader": {
     "checksum": "eca5030da51451a3c47a55252241e2a6",
     "grade": false,
     "grade_id": "cell-087ca748f1868500",
     "locked": false,
     "schema_version": 1,
     "solution": true
    }
   },
   "outputs": [],
   "source": [
    "sequences = {\"seq1\":sequence1, \"seq2\":sequence2, \"seq3\":sequence3} \n",
    "#remember keys have to be immutable\n",
    "#or, assuming you have some lists...\n",
    "values = [sequence1, sequence2, sequence3, sequence4]\n",
    "keys = [\"seq1\", \"seq2\", \"seq3\", \"seq4\"]\n",
    "dict1 = {}\n",
    "for i in range(len(keys)):\n",
    "    dict1[keys[i]] = values[i]\n",
    "    "
   ]
  },
  {
   "cell_type": "code",
   "execution_count": 35,
   "metadata": {
    "collapsed": true,
    "deletable": false,
    "editable": false,
    "nbgrader": {
     "checksum": "213002f6d66dc6192a69f0279e5f6ee8",
     "grade": true,
     "grade_id": "cell-9702a4cf0625d955",
     "locked": true,
     "points": 0,
     "schema_version": 1,
     "solution": false
    }
   },
   "outputs": [],
   "source": [
    "assert_true(type(sequences),dict)\n",
    "assert_true(\"seq1\" in sequences)\n",
    "assert_true(\"seq4\" not in sequences)\n",
    "assert_true(sequences[\"seq2\"]==sequence2)"
   ]
  },
  {
   "cell_type": "code",
   "execution_count": 36,
   "metadata": {},
   "outputs": [
    {
     "data": {
      "text/plain": [
       "[('seq1',\n",
       "  'AGTTGTTAGTCTACGTGGACCGACAAGAACAGTTTCGAATCGGAAGCTTGCTTAACGTAGTTCTAACAGT\\nTTTTTATTAGAGAGCAGATCTCTGATGAACAACCAACGGAAAAAGACGGGTCGACCGTCTTTCAATATGC'),\n",
       " ('seq2',\n",
       "  'TGAAACGCGCGAGAAACCGCGTGTCAACTGTTTCACAGTTGGCGAAGAGATTCTCAAAAGGATTGCTTTC\\nAGGCCAAGGACCCATGAAATTGGTGATGGCTTTTATAGCATTCCTAAGATTTCTAGCCATACC'),\n",
       " ('seq3',\n",
       "  'GCAGGAATTTTGGCTAGATGGGGCTCATTCAAGAAGAATGGAGCGATCAAAGTGTTACGGGTCAAGA\\nAAGAAATCTCAAACATGTTGAACATAATGAACAGGAGGAAAAGATCTGTGACCATGCTCCTCATGCTGCT'),\n",
       " ('seq4',\n",
       "  'GCCCACAGCCCTGGCGTTCCATCTGACCACCCGAGGGGGAGAGCCGCACATGATAGTTAGCAAGCAGGAA\\nAGAGGAAAATCACTTTTGTTTAAGACCTCTGCAGGTGTCAACATGTGCACCCTTATTGCAATGGATTTGG\\nGAGAGTTATGTGAGGACACAATGACCTACAAATGCCCCCGGATCACTGAGACGGAACCAGATGACGTTGA\\nCTGTTGGTGCAATGCCACGGAGACATGGGTGACCTATGGAACATGTTCTCAAACTGGTGAACACCGACGA\\nGACAAACGTTCCGTCGCACTGGCACCACACGTAGGGCTTGGTCTAGAAACAAGAACCGAAACGTGGATGT')]"
      ]
     },
     "execution_count": 36,
     "metadata": {},
     "output_type": "execute_result"
    }
   ],
   "source": [
    "list(zip(keys, values))\n",
    "#can pass a list of key-value pair tuples to dict e.g dict(zip(keys, values))"
   ]
  },
  {
   "cell_type": "code",
   "execution_count": 37,
   "metadata": {},
   "outputs": [
    {
     "data": {
      "text/plain": [
       "{'seq1': 'AGTTGTTAGTCTACGTGGACCGACAAGAACAGTTTCGAATCGGAAGCTTGCTTAACGTAGTTCTAACAGT\\nTTTTTATTAGAGAGCAGATCTCTGATGAACAACCAACGGAAAAAGACGGGTCGACCGTCTTTCAATATGC',\n",
       " 'seq2': 'TGAAACGCGCGAGAAACCGCGTGTCAACTGTTTCACAGTTGGCGAAGAGATTCTCAAAAGGATTGCTTTC\\nAGGCCAAGGACCCATGAAATTGGTGATGGCTTTTATAGCATTCCTAAGATTTCTAGCCATACC',\n",
       " 'seq3': 'GCAGGAATTTTGGCTAGATGGGGCTCATTCAAGAAGAATGGAGCGATCAAAGTGTTACGGGTCAAGA\\nAAGAAATCTCAAACATGTTGAACATAATGAACAGGAGGAAAAGATCTGTGACCATGCTCCTCATGCTGCT',\n",
       " 'seq4': 'GCCCACAGCCCTGGCGTTCCATCTGACCACCCGAGGGGGAGAGCCGCACATGATAGTTAGCAAGCAGGAA\\nAGAGGAAAATCACTTTTGTTTAAGACCTCTGCAGGTGTCAACATGTGCACCCTTATTGCAATGGATTTGG\\nGAGAGTTATGTGAGGACACAATGACCTACAAATGCCCCCGGATCACTGAGACGGAACCAGATGACGTTGA\\nCTGTTGGTGCAATGCCACGGAGACATGGGTGACCTATGGAACATGTTCTCAAACTGGTGAACACCGACGA\\nGACAAACGTTCCGTCGCACTGGCACCACACGTAGGGCTTGGTCTAGAAACAAGAACCGAAACGTGGATGT'}"
      ]
     },
     "execution_count": 37,
     "metadata": {},
     "output_type": "execute_result"
    }
   ],
   "source": [
    "{keys[i]: values[i] for i in range(len(keys))}"
   ]
  },
  {
   "cell_type": "markdown",
   "metadata": {},
   "source": [
    "**Exercise:** Modify the function in the cell below, so that it returns the count of how many times the kmer occurs in sequence. Before counting, make sure both `sequence` and `kmer` consists only of valid DNA sequence symbols (i.e. `A`, `C`, `T`, and `G`). If either is not a proper DNA sequence we will have the function fail (raise an Exception)"
   ]
  },
  {
   "cell_type": "code",
   "execution_count": 38,
   "metadata": {
    "collapsed": true,
    "deletable": false,
    "nbgrader": {
     "checksum": "8ae554ddaca0d8760a7283e9b84b3594",
     "grade": false,
     "grade_id": "cell-465b81aa4bb8bd74",
     "locked": false,
     "schema_version": 1,
     "solution": true
    }
   },
   "outputs": [],
   "source": [
    "def kmer_count(sequence=\"\", kmer = \"CCGATTCG\"):\n",
    "    \"\"\"This is an example of defining a function with keyword arguments:\n",
    "    \n",
    "    sequence and kmer are variables in the function kmer_present. \n",
    "    \n",
    "    These variables have DEFAULT VALUES (\"\" and \"CCGATTCG\" respectively) \n",
    "    that will be used if no values are provided explicitly\"\"\"\n",
    "    \n",
    "    #check validity with sets -- is ACTG a subset of kmer?\n",
    "    sequence=sequence.replace(\"\\n\",\"\").upper()\n",
    "    kmer=kmer.replace(\"\\n\",\"\").upper()\n",
    "    \n",
    "    if not set(kmer).issubset(set(\"ATCG\")) or not set(sequence).issubset(set(\"ATCG\")):\n",
    "        raise ValueError(\"Invalid DNA\")\n",
    "    \n",
    "    return sequence.count(kmer)\n",
    "    \n",
    "    #see class upload"
   ]
  },
  {
   "cell_type": "code",
   "execution_count": 39,
   "metadata": {},
   "outputs": [
    {
     "data": {
      "text/plain": [
       "False"
      ]
     },
     "execution_count": 39,
     "metadata": {},
     "output_type": "execute_result"
    }
   ],
   "source": [
    "testkmer=\"CCAT\"\n",
    "testkmer_set=set(kmer)\n",
    "testkmer_set.issubset(set(\"ATCG\"))"
   ]
  },
  {
   "cell_type": "code",
   "execution_count": 40,
   "metadata": {
    "deletable": false,
    "editable": false,
    "nbgrader": {
     "checksum": "a40a6eeaf178b3a4d15fa07585592cf2",
     "grade": true,
     "grade_id": "cell-b04563ddd6e6dece",
     "locked": true,
     "points": 0,
     "schema_version": 1,
     "solution": false
    }
   },
   "outputs": [
    {
     "name": "stderr",
     "output_type": "stream",
     "text": [
      "/opt/conda/lib/python3.5/site-packages/ipykernel_launcher.py:1: DeprecationWarning: Please use assertEqual instead.\n",
      "  \"\"\"Entry point for launching an IPython kernel.\n",
      "/opt/conda/lib/python3.5/site-packages/ipykernel_launcher.py:2: DeprecationWarning: Please use assertEqual instead.\n",
      "  \n",
      "/opt/conda/lib/python3.5/site-packages/ipykernel_launcher.py:3: DeprecationWarning: Please use assertEqual instead.\n",
      "  This is separate from the ipykernel package so we can avoid doing imports until\n",
      "/opt/conda/lib/python3.5/site-packages/ipykernel_launcher.py:4: DeprecationWarning: Please use assertEqual instead.\n",
      "  after removing the cwd from sys.path.\n"
     ]
    }
   ],
   "source": [
    "assert_equals(kmer_count(sequence4, kmer=\"CTG\"),7)\n",
    "assert_equals(kmer_count(sequence4, kmer=\"CACACGTAGGG\"),1)\n",
    "assert_equals(kmer_count(sequence4, kmer=\"CAGG\"), 2)\n",
    "assert_equals(kmer_count(sequence4, kmer=\"CAGGTTT\"), 0)"
   ]
  },
  {
   "cell_type": "code",
   "execution_count": 45,
   "metadata": {
    "deletable": false,
    "nbgrader": {
     "checksum": "93f384066704a8e249cca87beb6e1dcc",
     "grade": false,
     "grade_id": "cell-d67e935ca18fc09d",
     "locked": false,
     "schema_version": 1,
     "solution": true
    }
   },
   "outputs": [
    {
     "data": {
      "application/vnd.jupyter.widget-view+json": {
       "model_id": "dbed83c91cf445a4a641135b9df99cfb",
       "version_major": 2,
       "version_minor": 0
      },
      "text/plain": [
       "A Jupyter Widget"
      ]
     },
     "metadata": {},
     "output_type": "display_data"
    }
   ],
   "source": [
    "@interact(sequence = sequences, kmer = \"\"\n",
    ") #decorators make new things out of functions: create a dropdown with a dictionary input & text area with a string input\n",
    "def kmer_present(sequence=\"\", kmer = \"CCGATTCG\"):\n",
    "    \"\"\"This is an example of defining a function with keyword arguments:\n",
    "    \n",
    "    sequence and kmer are variables in the function kmer_present. \n",
    "    \n",
    "    These variables have DEFAULT VALUES (\"\" and \"CCGATTCG\" respectively) that will be used if no values are provided\n",
    "    explicitly.\n",
    "    \"\"\"\n",
    "    sequence=sequence.upper()\n",
    "    kmer=kmer.upper()\n",
    "    \n",
    "    # Here we are going to create a string with HTML markup. We will use the string format() method to insert\n",
    "    # our values into the string.\n",
    "    \n",
    "    # create a variable to store the length of the sequence\n",
    "    seq_length = len(sequence) # replace this with actual value\n",
    "    \n",
    "    # create a variable to store the answer of whether the kmer is in the sequence\n",
    "    s = '<h3>KMER Values:</h3><table>\\n'\n",
    "    s += '<tr><td>{0}</td><td>{1}</td></tr>\\n'.format(\"sequence length\",seq_length)\n",
    "    try: # we try to do something, if it works, we do that block. if we get a value error, go to the except block.\n",
    "        count = kmer_count(sequence, kmer)\n",
    "        s+= '<tr><td>{0}</td><td>{1}</td></tr>\\n'.format(\"kmer: \"+kmer.upper(),count)\n",
    "        if count >0:\n",
    "            high_sequence = sequence.replace(kmer, '<font color=\"red\">%s</font>'%kmer)\n",
    "        else:\n",
    "            high_sequence = sequence\n",
    "    except ValueError:\n",
    "        s+= '<tr><td>{0}</td><td>{1}</td></tr>\\n'.format(\"kmer: \"+kmer.upper(),\"Not a valid kmer\")\n",
    "        high_sequence = sequence\n",
    "    s += '<tr><td>{0}</td><td>{1}</td></tr>'.format(\"sequence \", high_sequence)    \n",
    "    s += '</table>'\n",
    "\n",
    "    display(HTML(s))"
   ]
  },
  {
   "cell_type": "code",
   "execution_count": null,
   "metadata": {
    "collapsed": true
   },
   "outputs": [],
   "source": []
  }
 ],
 "metadata": {
  "anaconda-cloud": {},
  "kernelspec": {
   "display_name": "Python 3",
   "language": "python",
   "name": "python3"
  },
  "language_info": {
   "codemirror_mode": {
    "name": "ipython",
    "version": 3
   },
   "file_extension": ".py",
   "mimetype": "text/x-python",
   "name": "python",
   "nbconvert_exporter": "python",
   "pygments_lexer": "ipython3",
   "version": "3.5.2"
  }
 },
 "nbformat": 4,
 "nbformat_minor": 1
}
