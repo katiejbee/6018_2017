{
 "cells": [
  {
   "cell_type": "markdown",
   "metadata": {},
   "source": [
    "# [Exceptions](https://docs.python.org/3.5/tutorial/errors.html#exceptions)\n",
    "## Greek Myth for Exceptions: Sisyphus\n",
    ">Sisyphus was son of the king Aeolus of Thessaly and Enarete, and the founder and first king of Ephyra (Corinth). He was the father of Glaucus by the nymph Merope, and the grandfather of Bellerophon.\n",
    ">\n",
    "> Sisyphus promoted navigation and commerce, but was avaricious and deceitful, violating the laws of hospitality by killing travelers and guests. He took pleasure in these killings because they allowed him to maintain his dominant position. From Homer onwards, Sisyphus was famed as the craftiest of men. He seduced his niece, took his brother's throne and betrayed Zeus's secrets. Zeus then ordered Hades to chain Sisyphus in Tartarus. Sisyphus slyly asked Thanatos to try the chains to show how they worked. When Thanatos did so, Sisyphus secured them and threatened Hades. This caused an uproar, and no human could die until Ares (who was annoyed that his battles had lost their fun because his opponents would not die) intervened, freeing Thanatos and sending Sisyphus to Tartarus.\n",
    ">....\n",
    ">As a punishment from the gods for his trickery, Sisyphus was compelled to roll a huge rock up a steep hill, but before he could reach the top of the hill, the rock would always roll back down again, forcing him to begin again.[2] The maddening nature of the punishment was reserved for Sisyphus due to his hubristic belief that his cleverness surpassed that of Zeus. [wikipedia](http://en.wikipedia.org/wiki/Sisyphus)\n",
    "\n",
    "# Introduction to Exceptions\n",
    "* Often times as programs are executed they encounter situations that left to themselves may cause the program to fail/quit. \n",
    "* For example, if I try to open a file that doesn't exist or try to perform an illegal mathematical operation. \n",
    "* Fortunately most modern computer languages, including Python, provide a mechanism for handling these situations. \n",
    "* Instead of simply dropping dead, Python programs that encounter these situations create (\"throw\") exceptions. \n",
    "* When an exception is thrown, program execution stops and looks for code designed specifically for dealing with (\"handling\") the exception. \n",
    "    * If relevant code is not found at the current program scope, the exception travels up to the previous calling scope and so on until appropriate code is found. \n",
    "    * If  no appropriate code is found, the program exits.\n",
    "\n",
    "* The Python mechanism for dealing with these exceptions, is the **try/except** (or **try/finally**) structure. \n",
    "    * The python keyword *try* marks the beginning of a block of code, similar to and **if**, **for**, **while**, **def**, and **class**. \n",
    "    * Essentially what happens is Python *TRIES* to execute all the statements within the indented block of code associated with the **try** statement. \n",
    "    * If an exception is encountered execution jumps out of the block of code and proceeds to the associated **except/finally** statement. \n",
    "    * Once handled, the exception \"disappears\"\" and the program continues past the **except** block. \n",
    "        * Note, it does not return to the code within the **try** block."
   ]
  },
  {
   "cell_type": "markdown",
   "metadata": {},
   "source": [
    "## Types of Exceptions\n",
    "### ``FileNotFoundError``"
   ]
  },
  {
   "cell_type": "code",
   "execution_count": 1,
   "metadata": {},
   "outputs": [
    {
     "ename": "FileNotFoundError",
     "evalue": "[Errno 2] No such file or directory: 'My Nobel Prize Speach.txt'",
     "output_type": "error",
     "traceback": [
      "\u001b[0;31m---------------------------------------------------------------------------\u001b[0m",
      "\u001b[0;31mFileNotFoundError\u001b[0m                         Traceback (most recent call last)",
      "\u001b[0;32m<ipython-input-1-d9d251faecff>\u001b[0m in \u001b[0;36m<module>\u001b[0;34m()\u001b[0m\n\u001b[0;32m----> 1\u001b[0;31m \u001b[0mfo\u001b[0m \u001b[0;34m=\u001b[0m \u001b[0mopen\u001b[0m\u001b[0;34m(\u001b[0m\u001b[0;34m\"My Nobel Prize Speach.txt\"\u001b[0m\u001b[0;34m,\u001b[0m\u001b[0;34m\"r\"\u001b[0m\u001b[0;34m)\u001b[0m\u001b[0;34m\u001b[0m\u001b[0m\n\u001b[0m",
      "\u001b[0;31mFileNotFoundError\u001b[0m: [Errno 2] No such file or directory: 'My Nobel Prize Speach.txt'"
     ]
    }
   ],
   "source": [
    "fo = open(\"My Nobel Prize Speach.txt\",\"r\")"
   ]
  },
  {
   "cell_type": "code",
   "execution_count": 2,
   "metadata": {},
   "outputs": [
    {
     "ename": "FileNotFoundError",
     "evalue": "[Errno 2] No such file or directory: '../Data/testFile.txt'",
     "output_type": "error",
     "traceback": [
      "\u001b[0;31m---------------------------------------------------------------------------\u001b[0m",
      "\u001b[0;31mFileNotFoundError\u001b[0m                         Traceback (most recent call last)",
      "\u001b[0;32m<ipython-input-2-74f462e0dc08>\u001b[0m in \u001b[0;36m<module>\u001b[0;34m()\u001b[0m\n\u001b[0;32m----> 1\u001b[0;31m \u001b[0;32mwith\u001b[0m \u001b[0mopen\u001b[0m\u001b[0;34m(\u001b[0m\u001b[0;34m\"../Data/testFile.txt\"\u001b[0m\u001b[0;34m,\u001b[0m\u001b[0;34m\"r\"\u001b[0m\u001b[0;34m)\u001b[0m \u001b[0;32mas\u001b[0m \u001b[0mf0\u001b[0m\u001b[0;34m:\u001b[0m\u001b[0;34m\u001b[0m\u001b[0m\n\u001b[0m\u001b[1;32m      2\u001b[0m     \u001b[0mdata\u001b[0m \u001b[0;34m=\u001b[0m \u001b[0mfo\u001b[0m\u001b[0;34m.\u001b[0m\u001b[0mread\u001b[0m\u001b[0;34m(\u001b[0m\u001b[0;34m)\u001b[0m\u001b[0;34m\u001b[0m\u001b[0m\n\u001b[1;32m      3\u001b[0m     \u001b[0mprint\u001b[0m\u001b[0;34m(\u001b[0m\u001b[0mdata\u001b[0m\u001b[0;34m)\u001b[0m\u001b[0;34m\u001b[0m\u001b[0m\n",
      "\u001b[0;31mFileNotFoundError\u001b[0m: [Errno 2] No such file or directory: '../Data/testFile.txt'"
     ]
    }
   ],
   "source": [
    "#another way of opening a file to read\n",
    "with open(\"../Data/testFile.txt\",\"r\") as f0:\n",
    "    data = fo.read()\n",
    "    print(data)"
   ]
  },
  {
   "cell_type": "markdown",
   "metadata": {},
   "source": [
    "## ``UnsupportedOperation``"
   ]
  },
  {
   "cell_type": "code",
   "execution_count": 3,
   "metadata": {
    "collapsed": true
   },
   "outputs": [],
   "source": [
    "!touch m8_test.txt\n",
    "#touch is a unix command (as indicated by the preceding !)\n",
    "#if the file doesn't exist, creates an empty file with that name\n",
    "#if it does, changes the modify date (without making changes)"
   ]
  },
  {
   "cell_type": "code",
   "execution_count": 4,
   "metadata": {},
   "outputs": [
    {
     "ename": "UnsupportedOperation",
     "evalue": "not writable",
     "output_type": "error",
     "traceback": [
      "\u001b[0;31m---------------------------------------------------------------------------\u001b[0m",
      "\u001b[0;31mUnsupportedOperation\u001b[0m                      Traceback (most recent call last)",
      "\u001b[0;32m<ipython-input-4-225549f997dc>\u001b[0m in \u001b[0;36m<module>\u001b[0;34m()\u001b[0m\n\u001b[1;32m      1\u001b[0m \u001b[0;32mwith\u001b[0m \u001b[0mopen\u001b[0m\u001b[0;34m(\u001b[0m\u001b[0;34m\"m8_test.txt\"\u001b[0m\u001b[0;34m,\u001b[0m\u001b[0;34m\"r\"\u001b[0m\u001b[0;34m)\u001b[0m \u001b[0;32mas\u001b[0m \u001b[0mfo\u001b[0m\u001b[0;34m:\u001b[0m\u001b[0;34m\u001b[0m\u001b[0m\n\u001b[0;32m----> 2\u001b[0;31m     \u001b[0mfo\u001b[0m\u001b[0;34m.\u001b[0m\u001b[0mwrite\u001b[0m\u001b[0;34m(\u001b[0m\u001b[0;34m\"efgh\"\u001b[0m\u001b[0;34m)\u001b[0m\u001b[0;34m\u001b[0m\u001b[0m\n\u001b[0m",
      "\u001b[0;31mUnsupportedOperation\u001b[0m: not writable"
     ]
    }
   ],
   "source": [
    "with open(\"m8_test.txt\",\"r\") as fo:\n",
    "    fo.write(\"efgh\")"
   ]
  },
  {
   "cell_type": "markdown",
   "metadata": {},
   "source": [
    "## ``NameError``"
   ]
  },
  {
   "cell_type": "code",
   "execution_count": null,
   "metadata": {
    "collapsed": true
   },
   "outputs": [],
   "source": [
    "#this happens when you have an undefined variable\n",
    "a=c"
   ]
  },
  {
   "cell_type": "markdown",
   "metadata": {},
   "source": [
    "## ``ZeroDivisionError``"
   ]
  },
  {
   "cell_type": "code",
   "execution_count": null,
   "metadata": {
    "collapsed": true
   },
   "outputs": [],
   "source": [
    "14/0"
   ]
  },
  {
   "cell_type": "markdown",
   "metadata": {},
   "source": [
    "## ``ValueError``"
   ]
  },
  {
   "cell_type": "code",
   "execution_count": null,
   "metadata": {
    "collapsed": true
   },
   "outputs": [],
   "source": [
    "import math\n",
    "math.sqrt(-1)"
   ]
  },
  {
   "cell_type": "code",
   "execution_count": null,
   "metadata": {
    "collapsed": true
   },
   "outputs": [],
   "source": [
    "chr(-95) #chr takes a positive integer and tells you what character in unicode it is"
   ]
  },
  {
   "cell_type": "markdown",
   "metadata": {},
   "source": [
    "## ``TypeError``"
   ]
  },
  {
   "cell_type": "code",
   "execution_count": null,
   "metadata": {
    "collapsed": true
   },
   "outputs": [],
   "source": [
    "b = [0,1,2,3,4,5]\n",
    "b[1.5]"
   ]
  },
  {
   "cell_type": "code",
   "execution_count": null,
   "metadata": {
    "collapsed": true
   },
   "outputs": [],
   "source": [
    "print(\"%d\"%\"a\") #this substitues values into a string, d looks for an integer not a string"
   ]
  },
  {
   "cell_type": "markdown",
   "metadata": {},
   "source": [
    "## Here is a basic block of try/except code."
   ]
  },
  {
   "cell_type": "code",
   "execution_count": null,
   "metadata": {
    "collapsed": true
   },
   "outputs": [],
   "source": [
    "try:\n",
    "    with open(input(\"Enter name of file to open\\n\"),\"r\") as fo:\n",
    "        data = fo.read()\n",
    "except:\n",
    "    pass\n",
    "print(\"So what happened?\")\n",
    "# What happens when I type in a nonexistant file"
   ]
  },
  {
   "cell_type": "markdown",
   "metadata": {},
   "source": [
    "##  We can get more information as follows:"
   ]
  },
  {
   "cell_type": "code",
   "execution_count": null,
   "metadata": {
    "collapsed": true
   },
   "outputs": [],
   "source": [
    "try:\n",
    "    with open(input(\"Enter name of file to open\\n\"),\"r\") as fo:\n",
    "        data = fo.read()\n",
    "except Exception as error:\n",
    "    print(\"failed due to error\", error)\n"
   ]
  },
  {
   "cell_type": "markdown",
   "metadata": {},
   "source": [
    "## Handling Different Types of Exceptions\n",
    "* As written now, the **except** will catch all types of exceptions. \n",
    "* We should be as specific as possible. \n",
    "* So we could (should?) do the following:\n",
    "    * For this small fragment of code there is essentially one thing that *EXPECT* to go wrong: I can try to open a file that doesn't exist. \n",
    "    * So I would be expecting an **IOError.** I can then code a more specific except clause:\n"
   ]
  },
  {
   "cell_type": "code",
   "execution_count": null,
   "metadata": {
    "collapsed": true
   },
   "outputs": [],
   "source": [
    "try:\n",
    "    with open(input(\"Enter name of file to open\"),\"r\") as fo:\n",
    "        data = fo.read()\n",
    "    print(math.sqrt(float(input(\"Enter a non-negative number\\n\"))))\n",
    "except IOError as  error:\n",
    "    print (\"failed due to error\", error)\n",
    "except ValueError as errorv:\n",
    "    print(errorv,\"You didn't enter a valid number\")\n"
   ]
  },
  {
   "cell_type": "markdown",
   "metadata": {},
   "source": [
    "## Example\n",
    "* The sinc function is defined as follows: $sinc(x) = \\frac{sin(\\pi x)}{\\pi x}$\n",
    "* What happens when $x=0$? Division by zero is undefined, but the limit of the function as x approaches zero is actually 1.\n",
    "* Use **try/except** to define the sinc function\n"
   ]
  },
  {
   "cell_type": "code",
   "execution_count": null,
   "metadata": {
    "collapsed": true
   },
   "outputs": [],
   "source": [
    "import math\n",
    "def sinc1(x):\n",
    "    try:\n",
    "        return math.sin(math.pi*x)/(math.pi*x)\n",
    "    except ZeroDivisionError:\n",
    "        return 1\n",
    "\n",
    "def sinc2(x):\n",
    "    if x == 0:\n",
    "        return 1\n",
    "    else:\n",
    "        return math.sin(math.pi*x)/(math.pi*x)\n",
    "sinc(0)\n",
    "\n",
    "#why choose one over the other? speed?\n",
    "#%timei t"
   ]
  },
  {
   "cell_type": "code",
   "execution_count": null,
   "metadata": {
    "collapsed": true
   },
   "outputs": [],
   "source": [
    "%matplotlib inline\n",
    "import matplotlib.pyplot as plt\n",
    "import numpy as np\n",
    "plt.plot(np.arange(-10, 10, 0.2), [sinc(x) for x in np.arange(-10,10, 0.2)])"
   ]
  },
  {
   "cell_type": "markdown",
   "metadata": {},
   "source": [
    "## We can raise exceptions\n",
    "\n",
    "#### Consider our greatest common denominator function ``gcd`` or our function for computing trapezoidal area. \n",
    "#### These require all the arguments to be positive are positive. \n",
    "#### We could write a function that tests whether the numbers are both positive and  raise an exception if not"
   ]
  },
  {
   "cell_type": "code",
   "execution_count": null,
   "metadata": {
    "collapsed": true
   },
   "outputs": [],
   "source": [
    "def allpositive(*x):\n",
    "    \"\"\"\n",
    "    Determines the greatest common denominator of two positive integers\n",
    "    \"\"\"\n",
    "    for y in x:\n",
    "        if y < 1:\n",
    "            raise ValueError(\"%s: all numbers must be positive\"%y)\n",
    "    else:\n",
    "        return True"
   ]
  },
  {
   "cell_type": "code",
   "execution_count": null,
   "metadata": {
    "collapsed": true
   },
   "outputs": [],
   "source": [
    "allpositive(3,5,7,-8)"
   ]
  },
  {
   "cell_type": "code",
   "execution_count": null,
   "metadata": {
    "collapsed": true
   },
   "outputs": [],
   "source": []
  }
 ],
 "metadata": {
  "anaconda-cloud": {},
  "kernelspec": {
   "display_name": "Python 3",
   "language": "python",
   "name": "python3"
  },
  "language_info": {
   "codemirror_mode": {
    "name": "ipython",
    "version": 3
   },
   "file_extension": ".py",
   "mimetype": "text/x-python",
   "name": "python",
   "nbconvert_exporter": "python",
   "pygments_lexer": "ipython3",
   "version": "3.5.2"
  }
 },
 "nbformat": 4,
 "nbformat_minor": 1
}
