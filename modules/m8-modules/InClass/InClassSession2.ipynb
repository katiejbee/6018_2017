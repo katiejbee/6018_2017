{
 "cells": [
  {
   "cell_type": "markdown",
   "metadata": {},
   "source": [
    "# Working with Modules and Packages in Python\n",
    "\n",
    "Once we start thinking of modules and packages, we have to start thinking in terms of the underlying operating system/file system. First, we need to understand where Python is looking for modules and packages on the operating system and second, understanding that a module is a file (.py file) in the file system and a package is a directory in the file system.\n",
    "\n",
    "## Exploring the Python Installation\n",
    "\n",
    "### Open a terminal and `cd` to `/opt/conda/lib/python3.5`\n",
    "\n",
    "* Each `.py` file is a module in the Python standard library\n",
    "    * Look for example at `datetime.py`\n",
    "* Each directory is a package\n",
    "    * Look for example at `collections`\n",
    "    "
   ]
  },
  {
   "cell_type": "code",
   "execution_count": null,
   "metadata": {
    "collapsed": true
   },
   "outputs": [],
   "source": [
    "#look with vim \"name of thing\""
   ]
  },
  {
   "cell_type": "markdown",
   "metadata": {},
   "source": [
    "### Why isn't there a `math.py` file?\n",
    "#### Where is `math` hiding?"
   ]
  },
  {
   "cell_type": "code",
   "execution_count": 1,
   "metadata": {},
   "outputs": [
    {
     "data": {
      "text/plain": [
       "'/opt/conda/lib/python3.5/lib-dynload/math.so'"
      ]
     },
     "execution_count": 1,
     "metadata": {},
     "output_type": "execute_result"
    }
   ],
   "source": [
    "import math #creates a module object, with attributes (e.g. file, name)\n",
    "math.__file__ #you can differentiate between running it like a program or not"
   ]
  },
  {
   "cell_type": "markdown",
   "metadata": {},
   "source": [
    "\n",
    "Modules and packages take us outside of the Jupyter notebook and get us working with Python files (text files ending in ``.py``). Within the Jupyterhub environment we are working with, this will require us to use [vi/vim](http://www.vim.org/). It will also get us more involved with our operating system and environment variables.\n",
    "\n",
    "## vi/vim\n",
    "* Editing within vim on Jupyterhub is going to be somewhat limited.\n",
    "    * Use copy and paste from your browser\n",
    "    * Learn basics of vi\n",
    "* Long-term, clone to your computer and use favorite text editor\n",
    "    * [GVim](http://www.vim.org/)\n",
    "    * [Atom](https://atom.io/)\n",
    "    * Many others\n"
   ]
  },
  {
   "cell_type": "markdown",
   "metadata": {},
   "source": [
    "## Configuring ouor Computing Environment\n",
    "\n",
    "Every computer comes with a default configuration but also the ability for a user to customize their work environment. In this section we are going to explore important ways to customize our computing environment relative to running python\n",
    "\n",
    "\n",
    "### Working in the bash (bourne again shell)\n",
    "\n",
    "### Open a terminal in Jupyterhub and type `\"echo $PATH\"` (no quotes)\n",
    "\n",
    "#### You should see something like this:\n",
    "\n",
    "\n",
    "```bash\n",
    "jovyan@e55077e8f408:~$ echo $PATH\n",
    "/opt/conda/bin:/opt/conda/bin:/usr/local/sbin:/usr/local/bin:/usr/sbin:/usr/bin:/sbin:/bin\n",
    "jovyan@e55077e8f408:~$\n",
    "```\n",
    "\n",
    "These are all the directories that the operating system looks in to find an executable program.\n",
    "\n",
    "\n",
    "### In your terminal type the following \"which ipython\"\n",
    "#### (I have notebook cells repeating the commands below)\n",
    "\n",
    "#### You should see something like this:\n",
    "\n",
    "```bash\n",
    "jovyan@e55077e8f408:~$ which ipython\n",
    "/opt/conda/bin/ipython\n",
    "jovyan@e55077e8f408:~$\n",
    "```\n",
    "\n",
    "#### The operating system found an executable file named `ipython` in the directory `/opt/conda/bin/`"
   ]
  },
  {
   "cell_type": "code",
   "execution_count": null,
   "metadata": {
    "collapsed": true
   },
   "outputs": [],
   "source": [
    "#path is list of directories where OS looks for executables\n",
    "#which answers where did you find it\n",
    "%%bash\n",
    "which ipython"
   ]
  },
  {
   "cell_type": "markdown",
   "metadata": {},
   "source": [
    "### In your terminal type the following \"which ziggy\"\n",
    "\n",
    "#### You should not get any response\n",
    "#### The operating system was unable to find an executable program named ziggy in any of the directories contained in \"`PATH`\""
   ]
  },
  {
   "cell_type": "code",
   "execution_count": null,
   "metadata": {
    "collapsed": true
   },
   "outputs": [],
   "source": [
    "%%bash\n",
    "which ziggy"
   ]
  },
  {
   "cell_type": "markdown",
   "metadata": {},
   "source": [
    "### We are going to create a directory in our `work` directory named `bin` and copy the file `ziggy.py` to it\n",
    "\n",
    "* Note you may need to change the permissions on `ziggy.py` to make it executable."
   ]
  },
  {
   "cell_type": "code",
   "execution_count": null,
   "metadata": {
    "collapsed": true
   },
   "outputs": [],
   "source": [
    "%%bash\n",
    "mkdir ~/work/bin"
   ]
  },
  {
   "cell_type": "code",
   "execution_count": null,
   "metadata": {
    "collapsed": true
   },
   "outputs": [],
   "source": [
    "%%bash\n",
    "cp ./ziggy.py ~/work/bin"
   ]
  },
  {
   "cell_type": "code",
   "execution_count": null,
   "metadata": {
    "collapsed": true
   },
   "outputs": [],
   "source": [
    "%%bash\n",
    "~/work/bin/ziggy.py"
   ]
  },
  {
   "cell_type": "code",
   "execution_count": null,
   "metadata": {
    "collapsed": true
   },
   "outputs": [],
   "source": [
    "%%bash\n",
    "ziggy.py"
   ]
  },
  {
   "cell_type": "markdown",
   "metadata": {},
   "source": [
    "### We can add our `bin` directory to `PATH`"
   ]
  },
  {
   "cell_type": "code",
   "execution_count": null,
   "metadata": {
    "collapsed": true
   },
   "outputs": [],
   "source": [
    "%%bash\n",
    "export PATH=$HOME/work/bin:$PATH\n",
    "ziggy.py"
   ]
  },
  {
   "cell_type": "markdown",
   "metadata": {},
   "source": [
    "### Open a new terminal and type `ziggy.py`"
   ]
  },
  {
   "cell_type": "code",
   "execution_count": null,
   "metadata": {
    "collapsed": true
   },
   "outputs": [],
   "source": [
    "%%bash\n",
    "ziggy.py\n",
    "\n",
    "#won't be found in new terminal, because we only modified the one instance"
   ]
  },
  {
   "cell_type": "markdown",
   "metadata": {},
   "source": [
    "### The change was only temporary (for that instance of the shell)"
   ]
  },
  {
   "cell_type": "markdown",
   "metadata": {},
   "source": [
    "### Make a backup of `~/.bashrc`"
   ]
  },
  {
   "cell_type": "code",
   "execution_count": null,
   "metadata": {
    "collapsed": true
   },
   "outputs": [],
   "source": [
    "%%bash\n",
    "cp ~/.bashrc ~/.bashrc_backup\n",
    "\n",
    "#.bashrc defines the computing environment for that shell\n",
    "#make a backup before making changes because messing up .bashrc means we might not be able to get into terminal"
   ]
  },
  {
   "cell_type": "markdown",
   "metadata": {},
   "source": [
    "### Use `vim` to edit the .bashrc file to add the following line\n",
    "\n",
    "```bash\n",
    "\n",
    "export PATH=$HOME/work/bin:$PATH\n",
    "\n",
    "```\n",
    "\n",
    "### Open a new terminal and type `echo $PATH`"
   ]
  },
  {
   "cell_type": "code",
   "execution_count": null,
   "metadata": {
    "collapsed": true
   },
   "outputs": [],
   "source": [
    "%%bash\n",
    "echo $PATH"
   ]
  },
  {
   "cell_type": "markdown",
   "metadata": {},
   "source": [
    "### We can change our default Python without changing our system\n",
    "\n",
    "#### Open a terminal and `cd ~/work/bin`\n",
    "#### In the terminal type the following\n",
    "\n",
    "```bash\n",
    "ln -s /usr/bin/python2 python\n",
    "```\n",
    "\n",
    "In a terminal open a Python shell by typing `python`."
   ]
  },
  {
   "cell_type": "markdown",
   "metadata": {},
   "source": [
    "## At the bash prompt  type `echo $PYTHONPATH`.\n",
    "\n",
    "What do you see?"
   ]
  },
  {
   "cell_type": "code",
   "execution_count": null,
   "metadata": {
    "collapsed": true
   },
   "outputs": [],
   "source": [
    "%%bash\n",
    "echo $PYTHONPATH"
   ]
  },
  {
   "cell_type": "markdown",
   "metadata": {},
   "source": [
    "### Open a new terminal and type `ipython`\n",
    "\n",
    "#### Within `IPython` type the following commands\n",
    "\n",
    "You should see our modified `PYTHONPATH`"
   ]
  },
  {
   "cell_type": "code",
   "execution_count": 1,
   "metadata": {},
   "outputs": [
    {
     "data": {
      "text/plain": [
       "['',\n",
       " '/opt/conda/lib/python35.zip',\n",
       " '/opt/conda/lib/python3.5',\n",
       " '/opt/conda/lib/python3.5/plat-linux',\n",
       " '/opt/conda/lib/python3.5/lib-dynload',\n",
       " '/opt/conda/lib/python3.5/site-packages',\n",
       " '/opt/conda/lib/python3.5/site-packages/Mako-1.0.7-py3.5.egg',\n",
       " '/opt/conda/lib/python3.5/site-packages/cycler-0.10.0-py3.5.egg',\n",
       " '/opt/conda/lib/python3.5/site-packages/setuptools-27.2.0-py3.5.egg',\n",
       " '/opt/conda/lib/python3.5/site-packages/IPython/extensions',\n",
       " '/home/jovyan/.ipython',\n",
       " '/home/jovyan/work/6018_2017/modules/m8-modules/ClassPrep']"
      ]
     },
     "execution_count": 1,
     "metadata": {},
     "output_type": "execute_result"
    }
   ],
   "source": [
    "import sys\n",
    "sys.path"
   ]
  },
  {
   "cell_type": "code",
   "execution_count": null,
   "metadata": {
    "collapsed": true
   },
   "outputs": [],
   "source": [
    "import chapmanbe"
   ]
  },
  {
   "cell_type": "markdown",
   "metadata": {},
   "source": [
    "### Why doesn't this work for our notebooks?\n",
    "\n",
    "The notebooks are looking to the directory `~/.ipython/profile_default/startup` to configure the environment"
   ]
  },
  {
   "cell_type": "code",
   "execution_count": null,
   "metadata": {
    "collapsed": true
   },
   "outputs": [],
   "source": [
    "! cat ~/.ipython/profile_default/startup/README"
   ]
  },
  {
   "cell_type": "markdown",
   "metadata": {},
   "source": [
    "### copy `00-first.py` to `~/.ipython/profile_default/startup/`\n",
    "#### Restart the kernel  and look at `sys.path`"
   ]
  },
  {
   "cell_type": "markdown",
   "metadata": {},
   "source": [
    "## Exercises"
   ]
  },
  {
   "cell_type": "markdown",
   "metadata": {},
   "source": [
    "#### Use functions in the Python standard library to replicate the steps we did manually above (e.g. make  a directory, copy a file, run a command)"
   ]
  },
  {
   "cell_type": "code",
   "execution_count": 2,
   "metadata": {},
   "outputs": [
    {
     "data": {
      "text/plain": [
       "'/home/jovyan/work/bin/ziggy.py'"
      ]
     },
     "execution_count": 2,
     "metadata": {},
     "output_type": "execute_result"
    }
   ],
   "source": [
    "#https://docs.python.org/3/library/os.html\n",
    "import os\n",
    "import shutil #helps copy files\n",
    "\n",
    "#os.path.expanduser(\"~\") #get home directory\n",
    "#os.getcwd() #get user's current working directory\n",
    "\n",
    "#os.mkdir(os.path.join(os.path.expanduser(\"~\"), \"work\", \"bin\")) #make a directory\n",
    "\n",
    "shutil.copy(\"./ziggy.py\", #copy the file\n",
    "           os.path.join(os.path.expanduser(\"~\"), \"work\", \"bin\", \"ziggy.py\"))"
   ]
  },
  {
   "cell_type": "code",
   "execution_count": 4,
   "metadata": {},
   "outputs": [],
   "source": [
    "#execute a system command -- use the subprocess package\n",
    "#https://docs.python.org/3/library/subprocess.html\n",
    "\n",
    "import subprocess\n",
    "#subprocess.???(\"which python\") #don't remember what method"
   ]
  },
  {
   "cell_type": "markdown",
   "metadata": {},
   "source": [
    "### Group Exercises"
   ]
  },
  {
   "cell_type": "markdown",
   "metadata": {},
   "source": [
    "#### Find a module in the standard library that you could use to read in/parse the following file:\n",
    "\n",
    "`~/DATA/Misc/bmi_faculty_papers_details.json`"
   ]
  },
  {
   "cell_type": "code",
   "execution_count": null,
   "metadata": {
    "collapsed": true
   },
   "outputs": [],
   "source": [
    "#with open(fname) as f0: #with will automatically close for you\n",
    "#    contents = f0.read()\n",
    "\n",
    "with open (\"/home/jovyan/DATA/Misc/bmi_faculty_papers_details.json\") as f0:\n",
    "    contents = f0.read()\n",
    "\n",
    "    #import json\n",
    "#json.loads(contents)\n"
   ]
  },
  {
   "cell_type": "code",
   "execution_count": null,
   "metadata": {
    "collapsed": true
   },
   "outputs": [],
   "source": []
  },
  {
   "cell_type": "code",
   "execution_count": null,
   "metadata": {
    "collapsed": true
   },
   "outputs": [],
   "source": [
    "import json\n",
    "from pprint import pprint #pretty print tries to reflect a thing's structure\n",
    "with open (\"/home/jovyan/DATA/Misc/bmi_faculty_papers_details.json\") as data:\n",
    "    data = json.load(data)\n",
    "pprint(data)\n"
   ]
  },
  {
   "cell_type": "markdown",
   "metadata": {},
   "source": [
    "#### Find a module in the standard library that you could use to read in/parse the following file:\n",
    "\n",
    "`~/DATA/AirQuality/Class_PM25_Data.csv`"
   ]
  },
  {
   "cell_type": "code",
   "execution_count": 7,
   "metadata": {},
   "outputs": [
    {
     "data": {
      "text/html": [
       "<div>\n",
       "<table border=\"1\" class=\"dataframe\">\n",
       "  <thead>\n",
       "    <tr style=\"text-align: right;\">\n",
       "      <th></th>\n",
       "      <th>Block_Group_ID</th>\n",
       "      <th>Income</th>\n",
       "      <th>Elevation</th>\n",
       "      <th>PM25_MAR_8</th>\n",
       "    </tr>\n",
       "  </thead>\n",
       "  <tbody>\n",
       "    <tr>\n",
       "      <th>0</th>\n",
       "      <td>4.903510e+11</td>\n",
       "      <td>43646.0</td>\n",
       "      <td>1307.687012</td>\n",
       "      <td>3.651442</td>\n",
       "    </tr>\n",
       "    <tr>\n",
       "      <th>1</th>\n",
       "      <td>4.903510e+11</td>\n",
       "      <td>35775.0</td>\n",
       "      <td>1296.852051</td>\n",
       "      <td>3.840161</td>\n",
       "    </tr>\n",
       "    <tr>\n",
       "      <th>2</th>\n",
       "      <td>4.903510e+11</td>\n",
       "      <td>38281.0</td>\n",
       "      <td>1289.720459</td>\n",
       "      <td>3.957534</td>\n",
       "    </tr>\n",
       "    <tr>\n",
       "      <th>3</th>\n",
       "      <td>4.903510e+11</td>\n",
       "      <td>64091.0</td>\n",
       "      <td>1301.926758</td>\n",
       "      <td>3.945700</td>\n",
       "    </tr>\n",
       "    <tr>\n",
       "      <th>4</th>\n",
       "      <td>4.903510e+11</td>\n",
       "      <td>37083.0</td>\n",
       "      <td>1296.852051</td>\n",
       "      <td>3.648757</td>\n",
       "    </tr>\n",
       "    <tr>\n",
       "      <th>5</th>\n",
       "      <td>4.903510e+11</td>\n",
       "      <td>21500.0</td>\n",
       "      <td>1301.860962</td>\n",
       "      <td>4.565435</td>\n",
       "    </tr>\n",
       "    <tr>\n",
       "      <th>6</th>\n",
       "      <td>4.903510e+11</td>\n",
       "      <td>41154.0</td>\n",
       "      <td>1321.069824</td>\n",
       "      <td>3.173814</td>\n",
       "    </tr>\n",
       "    <tr>\n",
       "      <th>7</th>\n",
       "      <td>4.903510e+11</td>\n",
       "      <td>33772.0</td>\n",
       "      <td>1321.069824</td>\n",
       "      <td>3.751625</td>\n",
       "    </tr>\n",
       "    <tr>\n",
       "      <th>8</th>\n",
       "      <td>4.903510e+11</td>\n",
       "      <td>37566.0</td>\n",
       "      <td>1321.069824</td>\n",
       "      <td>3.659221</td>\n",
       "    </tr>\n",
       "    <tr>\n",
       "      <th>9</th>\n",
       "      <td>4.903510e+11</td>\n",
       "      <td>33438.0</td>\n",
       "      <td>1410.462280</td>\n",
       "      <td>3.562500</td>\n",
       "    </tr>\n",
       "    <tr>\n",
       "      <th>10</th>\n",
       "      <td>4.903510e+11</td>\n",
       "      <td>24034.0</td>\n",
       "      <td>1352.378174</td>\n",
       "      <td>3.452457</td>\n",
       "    </tr>\n",
       "    <tr>\n",
       "      <th>11</th>\n",
       "      <td>4.903510e+11</td>\n",
       "      <td>7941.0</td>\n",
       "      <td>1410.462280</td>\n",
       "      <td>3.490519</td>\n",
       "    </tr>\n",
       "    <tr>\n",
       "      <th>12</th>\n",
       "      <td>4.903510e+11</td>\n",
       "      <td>29844.0</td>\n",
       "      <td>1363.379150</td>\n",
       "      <td>3.738308</td>\n",
       "    </tr>\n",
       "    <tr>\n",
       "      <th>13</th>\n",
       "      <td>4.903510e+11</td>\n",
       "      <td>17833.0</td>\n",
       "      <td>1363.379150</td>\n",
       "      <td>3.124819</td>\n",
       "    </tr>\n",
       "    <tr>\n",
       "      <th>14</th>\n",
       "      <td>4.903510e+11</td>\n",
       "      <td>41667.0</td>\n",
       "      <td>1363.379150</td>\n",
       "      <td>3.360178</td>\n",
       "    </tr>\n",
       "    <tr>\n",
       "      <th>15</th>\n",
       "      <td>4.903510e+11</td>\n",
       "      <td>32452.0</td>\n",
       "      <td>1324.700195</td>\n",
       "      <td>4.012285</td>\n",
       "    </tr>\n",
       "    <tr>\n",
       "      <th>16</th>\n",
       "      <td>4.903510e+11</td>\n",
       "      <td>34583.0</td>\n",
       "      <td>1324.700195</td>\n",
       "      <td>3.883058</td>\n",
       "    </tr>\n",
       "    <tr>\n",
       "      <th>17</th>\n",
       "      <td>4.903510e+11</td>\n",
       "      <td>32500.0</td>\n",
       "      <td>1324.700195</td>\n",
       "      <td>3.423729</td>\n",
       "    </tr>\n",
       "    <tr>\n",
       "      <th>18</th>\n",
       "      <td>4.903510e+11</td>\n",
       "      <td>26667.0</td>\n",
       "      <td>1324.700195</td>\n",
       "      <td>3.696211</td>\n",
       "    </tr>\n",
       "    <tr>\n",
       "      <th>19</th>\n",
       "      <td>4.903510e+11</td>\n",
       "      <td>19135.0</td>\n",
       "      <td>1310.390137</td>\n",
       "      <td>4.080429</td>\n",
       "    </tr>\n",
       "    <tr>\n",
       "      <th>20</th>\n",
       "      <td>4.903510e+11</td>\n",
       "      <td>32444.0</td>\n",
       "      <td>1301.860962</td>\n",
       "      <td>3.811173</td>\n",
       "    </tr>\n",
       "    <tr>\n",
       "      <th>21</th>\n",
       "      <td>4.903510e+11</td>\n",
       "      <td>30326.0</td>\n",
       "      <td>1301.860962</td>\n",
       "      <td>5.432379</td>\n",
       "    </tr>\n",
       "    <tr>\n",
       "      <th>22</th>\n",
       "      <td>4.903510e+11</td>\n",
       "      <td>26875.0</td>\n",
       "      <td>1295.940796</td>\n",
       "      <td>3.989217</td>\n",
       "    </tr>\n",
       "    <tr>\n",
       "      <th>23</th>\n",
       "      <td>4.903510e+11</td>\n",
       "      <td>32167.0</td>\n",
       "      <td>1289.893799</td>\n",
       "      <td>4.787936</td>\n",
       "    </tr>\n",
       "    <tr>\n",
       "      <th>24</th>\n",
       "      <td>4.903510e+11</td>\n",
       "      <td>23636.0</td>\n",
       "      <td>1302.235352</td>\n",
       "      <td>3.795578</td>\n",
       "    </tr>\n",
       "    <tr>\n",
       "      <th>25</th>\n",
       "      <td>4.903510e+11</td>\n",
       "      <td>23804.0</td>\n",
       "      <td>1300.055786</td>\n",
       "      <td>4.249092</td>\n",
       "    </tr>\n",
       "    <tr>\n",
       "      <th>26</th>\n",
       "      <td>4.903510e+11</td>\n",
       "      <td>26324.0</td>\n",
       "      <td>1294.430908</td>\n",
       "      <td>4.401813</td>\n",
       "    </tr>\n",
       "    <tr>\n",
       "      <th>27</th>\n",
       "      <td>4.903510e+11</td>\n",
       "      <td>37250.0</td>\n",
       "      <td>1290.085449</td>\n",
       "      <td>4.809583</td>\n",
       "    </tr>\n",
       "    <tr>\n",
       "      <th>28</th>\n",
       "      <td>4.903510e+11</td>\n",
       "      <td>33295.0</td>\n",
       "      <td>1291.912109</td>\n",
       "      <td>3.505779</td>\n",
       "    </tr>\n",
       "    <tr>\n",
       "      <th>29</th>\n",
       "      <td>4.903510e+11</td>\n",
       "      <td>17500.0</td>\n",
       "      <td>1291.912109</td>\n",
       "      <td>3.738520</td>\n",
       "    </tr>\n",
       "    <tr>\n",
       "      <th>...</th>\n",
       "      <td>...</td>\n",
       "      <td>...</td>\n",
       "      <td>...</td>\n",
       "      <td>...</td>\n",
       "    </tr>\n",
       "    <tr>\n",
       "      <th>35</th>\n",
       "      <td>4.903510e+11</td>\n",
       "      <td>48995.0</td>\n",
       "      <td>1304.054932</td>\n",
       "      <td>2.800728</td>\n",
       "    </tr>\n",
       "    <tr>\n",
       "      <th>36</th>\n",
       "      <td>4.903510e+11</td>\n",
       "      <td>37604.0</td>\n",
       "      <td>1303.677490</td>\n",
       "      <td>2.437500</td>\n",
       "    </tr>\n",
       "    <tr>\n",
       "      <th>37</th>\n",
       "      <td>4.903510e+11</td>\n",
       "      <td>56172.0</td>\n",
       "      <td>1402.824585</td>\n",
       "      <td>1.406767</td>\n",
       "    </tr>\n",
       "    <tr>\n",
       "      <th>38</th>\n",
       "      <td>4.903510e+11</td>\n",
       "      <td>70043.0</td>\n",
       "      <td>1402.824585</td>\n",
       "      <td>1.749048</td>\n",
       "    </tr>\n",
       "    <tr>\n",
       "      <th>39</th>\n",
       "      <td>4.903510e+11</td>\n",
       "      <td>66193.0</td>\n",
       "      <td>1402.824585</td>\n",
       "      <td>1.452167</td>\n",
       "    </tr>\n",
       "    <tr>\n",
       "      <th>40</th>\n",
       "      <td>4.903510e+11</td>\n",
       "      <td>71771.0</td>\n",
       "      <td>1352.061768</td>\n",
       "      <td>1.615929</td>\n",
       "    </tr>\n",
       "    <tr>\n",
       "      <th>41</th>\n",
       "      <td>4.903510e+11</td>\n",
       "      <td>55912.0</td>\n",
       "      <td>1379.241943</td>\n",
       "      <td>2.485638</td>\n",
       "    </tr>\n",
       "    <tr>\n",
       "      <th>42</th>\n",
       "      <td>4.903510e+11</td>\n",
       "      <td>62034.0</td>\n",
       "      <td>1325.755859</td>\n",
       "      <td>1.706022</td>\n",
       "    </tr>\n",
       "    <tr>\n",
       "      <th>43</th>\n",
       "      <td>4.903510e+11</td>\n",
       "      <td>73141.0</td>\n",
       "      <td>1356.056274</td>\n",
       "      <td>1.597851</td>\n",
       "    </tr>\n",
       "    <tr>\n",
       "      <th>44</th>\n",
       "      <td>4.903510e+11</td>\n",
       "      <td>45664.0</td>\n",
       "      <td>1382.777832</td>\n",
       "      <td>2.455689</td>\n",
       "    </tr>\n",
       "    <tr>\n",
       "      <th>45</th>\n",
       "      <td>4.903510e+11</td>\n",
       "      <td>93841.0</td>\n",
       "      <td>1459.374756</td>\n",
       "      <td>1.400000</td>\n",
       "    </tr>\n",
       "    <tr>\n",
       "      <th>46</th>\n",
       "      <td>4.903510e+11</td>\n",
       "      <td>85438.0</td>\n",
       "      <td>1454.270020</td>\n",
       "      <td>2.016352</td>\n",
       "    </tr>\n",
       "    <tr>\n",
       "      <th>47</th>\n",
       "      <td>4.903510e+11</td>\n",
       "      <td>73140.0</td>\n",
       "      <td>1450.543457</td>\n",
       "      <td>1.352491</td>\n",
       "    </tr>\n",
       "    <tr>\n",
       "      <th>48</th>\n",
       "      <td>4.903510e+11</td>\n",
       "      <td>47500.0</td>\n",
       "      <td>1402.824585</td>\n",
       "      <td>1.382470</td>\n",
       "    </tr>\n",
       "    <tr>\n",
       "      <th>49</th>\n",
       "      <td>4.903510e+11</td>\n",
       "      <td>78300.0</td>\n",
       "      <td>1422.806519</td>\n",
       "      <td>1.277662</td>\n",
       "    </tr>\n",
       "    <tr>\n",
       "      <th>50</th>\n",
       "      <td>4.903510e+11</td>\n",
       "      <td>79241.0</td>\n",
       "      <td>1450.543457</td>\n",
       "      <td>1.340553</td>\n",
       "    </tr>\n",
       "    <tr>\n",
       "      <th>51</th>\n",
       "      <td>4.903510e+11</td>\n",
       "      <td>79524.0</td>\n",
       "      <td>1422.806519</td>\n",
       "      <td>1.328252</td>\n",
       "    </tr>\n",
       "    <tr>\n",
       "      <th>52</th>\n",
       "      <td>4.903510e+11</td>\n",
       "      <td>42201.0</td>\n",
       "      <td>1289.318970</td>\n",
       "      <td>5.579777</td>\n",
       "    </tr>\n",
       "    <tr>\n",
       "      <th>53</th>\n",
       "      <td>4.903510e+11</td>\n",
       "      <td>39534.0</td>\n",
       "      <td>1291.039795</td>\n",
       "      <td>4.402230</td>\n",
       "    </tr>\n",
       "    <tr>\n",
       "      <th>54</th>\n",
       "      <td>4.903510e+11</td>\n",
       "      <td>22607.0</td>\n",
       "      <td>1294.049683</td>\n",
       "      <td>4.388888</td>\n",
       "    </tr>\n",
       "    <tr>\n",
       "      <th>55</th>\n",
       "      <td>4.903510e+11</td>\n",
       "      <td>44444.0</td>\n",
       "      <td>1294.049683</td>\n",
       "      <td>3.692419</td>\n",
       "    </tr>\n",
       "    <tr>\n",
       "      <th>56</th>\n",
       "      <td>4.903510e+11</td>\n",
       "      <td>55638.0</td>\n",
       "      <td>1294.049683</td>\n",
       "      <td>3.164319</td>\n",
       "    </tr>\n",
       "    <tr>\n",
       "      <th>57</th>\n",
       "      <td>4.903510e+11</td>\n",
       "      <td>51378.0</td>\n",
       "      <td>1301.030884</td>\n",
       "      <td>3.424324</td>\n",
       "    </tr>\n",
       "    <tr>\n",
       "      <th>58</th>\n",
       "      <td>4.903510e+11</td>\n",
       "      <td>24348.0</td>\n",
       "      <td>1295.383911</td>\n",
       "      <td>2.332639</td>\n",
       "    </tr>\n",
       "    <tr>\n",
       "      <th>59</th>\n",
       "      <td>4.903510e+11</td>\n",
       "      <td>35375.0</td>\n",
       "      <td>1305.029541</td>\n",
       "      <td>3.595146</td>\n",
       "    </tr>\n",
       "    <tr>\n",
       "      <th>60</th>\n",
       "      <td>4.903510e+11</td>\n",
       "      <td>69188.0</td>\n",
       "      <td>1321.630859</td>\n",
       "      <td>4.409883</td>\n",
       "    </tr>\n",
       "    <tr>\n",
       "      <th>61</th>\n",
       "      <td>4.903510e+11</td>\n",
       "      <td>69493.0</td>\n",
       "      <td>1312.114014</td>\n",
       "      <td>3.989309</td>\n",
       "    </tr>\n",
       "    <tr>\n",
       "      <th>62</th>\n",
       "      <td>4.903510e+11</td>\n",
       "      <td>92551.0</td>\n",
       "      <td>1557.853394</td>\n",
       "      <td>1.537066</td>\n",
       "    </tr>\n",
       "    <tr>\n",
       "      <th>63</th>\n",
       "      <td>4.903510e+11</td>\n",
       "      <td>60817.0</td>\n",
       "      <td>1552.666016</td>\n",
       "      <td>2.252555</td>\n",
       "    </tr>\n",
       "    <tr>\n",
       "      <th>64</th>\n",
       "      <td>4.903600e+11</td>\n",
       "      <td>NaN</td>\n",
       "      <td>1275.227905</td>\n",
       "      <td>3.717521</td>\n",
       "    </tr>\n",
       "  </tbody>\n",
       "</table>\n",
       "<p>65 rows × 4 columns</p>\n",
       "</div>"
      ],
      "text/plain": [
       "    Block_Group_ID   Income    Elevation  PM25_MAR_8\n",
       "0     4.903510e+11  43646.0  1307.687012    3.651442\n",
       "1     4.903510e+11  35775.0  1296.852051    3.840161\n",
       "2     4.903510e+11  38281.0  1289.720459    3.957534\n",
       "3     4.903510e+11  64091.0  1301.926758    3.945700\n",
       "4     4.903510e+11  37083.0  1296.852051    3.648757\n",
       "5     4.903510e+11  21500.0  1301.860962    4.565435\n",
       "6     4.903510e+11  41154.0  1321.069824    3.173814\n",
       "7     4.903510e+11  33772.0  1321.069824    3.751625\n",
       "8     4.903510e+11  37566.0  1321.069824    3.659221\n",
       "9     4.903510e+11  33438.0  1410.462280    3.562500\n",
       "10    4.903510e+11  24034.0  1352.378174    3.452457\n",
       "11    4.903510e+11   7941.0  1410.462280    3.490519\n",
       "12    4.903510e+11  29844.0  1363.379150    3.738308\n",
       "13    4.903510e+11  17833.0  1363.379150    3.124819\n",
       "14    4.903510e+11  41667.0  1363.379150    3.360178\n",
       "15    4.903510e+11  32452.0  1324.700195    4.012285\n",
       "16    4.903510e+11  34583.0  1324.700195    3.883058\n",
       "17    4.903510e+11  32500.0  1324.700195    3.423729\n",
       "18    4.903510e+11  26667.0  1324.700195    3.696211\n",
       "19    4.903510e+11  19135.0  1310.390137    4.080429\n",
       "20    4.903510e+11  32444.0  1301.860962    3.811173\n",
       "21    4.903510e+11  30326.0  1301.860962    5.432379\n",
       "22    4.903510e+11  26875.0  1295.940796    3.989217\n",
       "23    4.903510e+11  32167.0  1289.893799    4.787936\n",
       "24    4.903510e+11  23636.0  1302.235352    3.795578\n",
       "25    4.903510e+11  23804.0  1300.055786    4.249092\n",
       "26    4.903510e+11  26324.0  1294.430908    4.401813\n",
       "27    4.903510e+11  37250.0  1290.085449    4.809583\n",
       "28    4.903510e+11  33295.0  1291.912109    3.505779\n",
       "29    4.903510e+11  17500.0  1291.912109    3.738520\n",
       "..             ...      ...          ...         ...\n",
       "35    4.903510e+11  48995.0  1304.054932    2.800728\n",
       "36    4.903510e+11  37604.0  1303.677490    2.437500\n",
       "37    4.903510e+11  56172.0  1402.824585    1.406767\n",
       "38    4.903510e+11  70043.0  1402.824585    1.749048\n",
       "39    4.903510e+11  66193.0  1402.824585    1.452167\n",
       "40    4.903510e+11  71771.0  1352.061768    1.615929\n",
       "41    4.903510e+11  55912.0  1379.241943    2.485638\n",
       "42    4.903510e+11  62034.0  1325.755859    1.706022\n",
       "43    4.903510e+11  73141.0  1356.056274    1.597851\n",
       "44    4.903510e+11  45664.0  1382.777832    2.455689\n",
       "45    4.903510e+11  93841.0  1459.374756    1.400000\n",
       "46    4.903510e+11  85438.0  1454.270020    2.016352\n",
       "47    4.903510e+11  73140.0  1450.543457    1.352491\n",
       "48    4.903510e+11  47500.0  1402.824585    1.382470\n",
       "49    4.903510e+11  78300.0  1422.806519    1.277662\n",
       "50    4.903510e+11  79241.0  1450.543457    1.340553\n",
       "51    4.903510e+11  79524.0  1422.806519    1.328252\n",
       "52    4.903510e+11  42201.0  1289.318970    5.579777\n",
       "53    4.903510e+11  39534.0  1291.039795    4.402230\n",
       "54    4.903510e+11  22607.0  1294.049683    4.388888\n",
       "55    4.903510e+11  44444.0  1294.049683    3.692419\n",
       "56    4.903510e+11  55638.0  1294.049683    3.164319\n",
       "57    4.903510e+11  51378.0  1301.030884    3.424324\n",
       "58    4.903510e+11  24348.0  1295.383911    2.332639\n",
       "59    4.903510e+11  35375.0  1305.029541    3.595146\n",
       "60    4.903510e+11  69188.0  1321.630859    4.409883\n",
       "61    4.903510e+11  69493.0  1312.114014    3.989309\n",
       "62    4.903510e+11  92551.0  1557.853394    1.537066\n",
       "63    4.903510e+11  60817.0  1552.666016    2.252555\n",
       "64    4.903600e+11      NaN  1275.227905    3.717521\n",
       "\n",
       "[65 rows x 4 columns]"
      ]
     },
     "execution_count": 7,
     "metadata": {},
     "output_type": "execute_result"
    }
   ],
   "source": [
    "import csv\n",
    "\n",
    "#simpler:\n",
    "pd.read_csv(\"/home/jovyan/DATA/AirQuality/Class_PM25_Data.csv\")"
   ]
  },
  {
   "cell_type": "markdown",
   "metadata": {},
   "source": [
    "#### Find a third-party package that you could use to read in this Excel file\n",
    "\n",
    "`~/DATA/TimeSeries/EPA/SLC_Weather_2016.xlsx`"
   ]
  },
  {
   "cell_type": "code",
   "execution_count": 9,
   "metadata": {},
   "outputs": [
    {
     "data": {
      "text/html": [
       "<div>\n",
       "<table border=\"1\" class=\"dataframe\">\n",
       "  <thead>\n",
       "    <tr style=\"text-align: right;\">\n",
       "      <th></th>\n",
       "      <th>Day</th>\n",
       "      <th>High</th>\n",
       "      <th>Low</th>\n",
       "      <th>Precip.</th>\n",
       "      <th>Snow</th>\n",
       "      <th>Snow Depth</th>\n",
       "    </tr>\n",
       "  </thead>\n",
       "  <tbody>\n",
       "    <tr>\n",
       "      <th>0</th>\n",
       "      <td>NaT</td>\n",
       "      <td>(°F)</td>\n",
       "      <td>(°F)</td>\n",
       "      <td>(inch)</td>\n",
       "      <td>(inch)</td>\n",
       "      <td>(inch)</td>\n",
       "    </tr>\n",
       "    <tr>\n",
       "      <th>1</th>\n",
       "      <td>2016-01-01</td>\n",
       "      <td>21.9</td>\n",
       "      <td>9</td>\n",
       "      <td>0</td>\n",
       "      <td>0</td>\n",
       "      <td>0</td>\n",
       "    </tr>\n",
       "    <tr>\n",
       "      <th>2</th>\n",
       "      <td>2016-01-02</td>\n",
       "      <td>23</td>\n",
       "      <td>10.9</td>\n",
       "      <td>0</td>\n",
       "      <td>0</td>\n",
       "      <td>0</td>\n",
       "    </tr>\n",
       "    <tr>\n",
       "      <th>3</th>\n",
       "      <td>2016-01-03</td>\n",
       "      <td>27</td>\n",
       "      <td>21</td>\n",
       "      <td>0</td>\n",
       "      <td>0</td>\n",
       "      <td>0</td>\n",
       "    </tr>\n",
       "    <tr>\n",
       "      <th>4</th>\n",
       "      <td>2016-01-04</td>\n",
       "      <td>32</td>\n",
       "      <td>21.9</td>\n",
       "      <td>0</td>\n",
       "      <td>0</td>\n",
       "      <td>0</td>\n",
       "    </tr>\n",
       "  </tbody>\n",
       "</table>\n",
       "</div>"
      ],
      "text/plain": [
       "         Day  High   Low Precip.    Snow Snow Depth\n",
       "0        NaT  (°F)  (°F)  (inch)  (inch)     (inch)\n",
       "1 2016-01-01  21.9     9       0       0          0\n",
       "2 2016-01-02    23  10.9       0       0          0\n",
       "3 2016-01-03    27    21       0       0          0\n",
       "4 2016-01-04    32  21.9       0       0          0"
      ]
     },
     "execution_count": 9,
     "metadata": {},
     "output_type": "execute_result"
    }
   ],
   "source": [
    "import pandas as pd\n",
    "a = pd.read_excel(\"/home/jovyan/DATA/TimeSeries/EPA/SLC_Weather_2016.xlsx\")\n",
    "a.head()"
   ]
  },
  {
   "cell_type": "markdown",
   "metadata": {},
   "source": [
    "#### Find a module or modules in the standard library that you could use to calculate how many days old you are"
   ]
  },
  {
   "cell_type": "code",
   "execution_count": 15,
   "metadata": {},
   "outputs": [
    {
     "name": "stdout",
     "output_type": "stream",
     "text": [
      "9800 days, 18:49:57.479602\n"
     ]
    }
   ],
   "source": [
    "import datetime\n",
    "import time\n",
    "ctime = datetime.datetime.fromtimestamp(time.time())\n",
    "btime = datetime.datetime(1990,12,6,6,20)\n",
    "age = ctime-btime\n",
    "print(age)"
   ]
  },
  {
   "cell_type": "markdown",
   "metadata": {},
   "source": [
    "## Class Exercises"
   ]
  },
  {
   "cell_type": "markdown",
   "metadata": {},
   "source": [
    "## Working with ``__init__.py``\n",
    "\n",
    "* How could you change the ``chapmanbe`` package so that ``from chapmanbe import *`` also imports the ``hello`` subpackage?"
   ]
  },
  {
   "cell_type": "markdown",
   "metadata": {},
   "source": [
    "__init__ is useful for defining how your package will work (how the package will look to the user)\n",
    "edit the __all__ line of the __init__ file:\n",
    "__all__ = [\"my_favorite_functions\", \"hello\"]"
   ]
  },
  {
   "cell_type": "code",
   "execution_count": 1,
   "metadata": {
    "collapsed": true
   },
   "outputs": [],
   "source": [
    "from chapmanbe import * #this imports everything in the package"
   ]
  },
  {
   "cell_type": "code",
   "execution_count": 2,
   "metadata": {},
   "outputs": [
    {
     "data": {
      "text/plain": [
       "['In',\n",
       " 'MatplotlibFinder',\n",
       " 'Out',\n",
       " '_',\n",
       " '__',\n",
       " '___',\n",
       " '__builtin__',\n",
       " '__builtins__',\n",
       " '__doc__',\n",
       " '__loader__',\n",
       " '__name__',\n",
       " '__package__',\n",
       " '__spec__',\n",
       " '_dh',\n",
       " '_i',\n",
       " '_i1',\n",
       " '_i2',\n",
       " '_ih',\n",
       " '_ii',\n",
       " '_iii',\n",
       " '_oh',\n",
       " '_sh',\n",
       " 'exit',\n",
       " 'get_ipython',\n",
       " 'hello',\n",
       " 'my_favorite_functions',\n",
       " 'quit',\n",
       " 'sys']"
      ]
     },
     "execution_count": 2,
     "metadata": {},
     "output_type": "execute_result"
    }
   ],
   "source": [
    "dir()"
   ]
  },
  {
   "cell_type": "code",
   "execution_count": 1,
   "metadata": {},
   "outputs": [],
   "source": [
    "import chapmanbe"
   ]
  },
  {
   "cell_type": "markdown",
   "metadata": {},
   "source": [
    "* How could you change the ``chapmanbe`` package so that a directory ``~/.chapmanbe_data`` exists and is available for the package to save data?"
   ]
  },
  {
   "cell_type": "code",
   "execution_count": null,
   "metadata": {
    "collapsed": true
   },
   "outputs": [],
   "source": [
    "#add os.mkdir(os.path.expanduser(\"~\"), \".chapmanbe_data\") to __init__ file"
   ]
  },
  {
   "cell_type": "markdown",
   "metadata": {},
   "source": [
    "* Python includes a function (``urlopen``) for connecting to a website (url) and opening that site as if it were a regular read-only  file. In Python 2.x this function is located in ``urllib2`` while in Python 3.x this function is located in ``urllib``. How could you use the ``platform`` module to import ``urlopen`` so that it is available to ``chapmanbe`` whether it is running on Python 2.x or Pythono 3.x?\n",
    "\n",
    "* In Python 3 `urllib.request.urlopen`\n",
    "* In Python 2 `urllib2.urlopen`"
   ]
  },
  {
   "cell_type": "code",
   "execution_count": null,
   "metadata": {
    "collapsed": true
   },
   "outputs": [],
   "source": [
    "import platform\n",
    "if platform.python_version()[0] == '3':\n",
    "    from urllib.request import urlopen\n",
    "else:\n",
    "    from urlllib2 import urlopen\n",
    "\n",
    "def read_url(url):\n",
    "    f0 = urlopen(url)\n",
    "    content = f0.read()\n",
    "    f0.close()\n",
    "    return content"
   ]
  },
  {
   "cell_type": "code",
   "execution_count": null,
   "metadata": {
    "collapsed": true
   },
   "outputs": [],
   "source": []
  }
 ],
 "metadata": {
  "kernelspec": {
   "display_name": "Python 3",
   "language": "python",
   "name": "python3"
  },
  "language_info": {
   "codemirror_mode": {
    "name": "ipython",
    "version": 3
   },
   "file_extension": ".py",
   "mimetype": "text/x-python",
   "name": "python",
   "nbconvert_exporter": "python",
   "pygments_lexer": "ipython3",
   "version": "3.5.2"
  }
 },
 "nbformat": 4,
 "nbformat_minor": 1
}
