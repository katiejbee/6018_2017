{
 "cells": [
  {
   "cell_type": "code",
   "execution_count": 2,
   "metadata": {
    "collapsed": true
   },
   "outputs": [],
   "source": [
    "import pandas as pd\n",
    "import re"
   ]
  },
  {
   "cell_type": "markdown",
   "metadata": {},
   "source": [
    "* Write regular expressions to extract gene mutations and protein changes\n",
    "\n",
    "A single-letter amino acid code for the original codon followed by the numeric codon location followed by the changed codon.\n",
    "\n",
    "fs->frameshift\n",
    "X stop Stop count\n"
   ]
  },
  {
   "cell_type": "code",
   "execution_count": null,
   "metadata": {
    "collapsed": true
   },
   "outputs": [],
   "source": []
  },
  {
   "cell_type": "code",
   "execution_count": null,
   "metadata": {
    "collapsed": true
   },
   "outputs": [],
   "source": [
    "bcj201559t1 = pd.read_html(\"\"\"http://www.nature.com/bcj/journal/v5/n7/fig_tab/bcj201559t1.html#figure-title\"\"\", \n",
    "                           skiprows=0)[0]\n",
    "bcj201559t1.head(10)"
   ]
  },
  {
   "cell_type": "code",
   "execution_count": null,
   "metadata": {
    "collapsed": true
   },
   "outputs": [],
   "source": [
    "bcj201559t1.iloc[:,4]"
   ]
  },
  {
   "cell_type": "markdown",
   "metadata": {},
   "source": [
    "### Amino Acid Codes"
   ]
  },
  {
   "cell_type": "code",
   "execution_count": null,
   "metadata": {
    "collapsed": true
   },
   "outputs": [],
   "source": [
    "aac = pd.read_html(\"http://130.88.97.239/bioactivity/aacodefrm.html\")[0]\n",
    "aac"
   ]
  },
  {
   "cell_type": "code",
   "execution_count": null,
   "metadata": {
    "collapsed": true
   },
   "outputs": [],
   "source": [
    "aacs = list(aac[0])+list(aac[13])"
   ]
  },
  {
   "cell_type": "markdown",
   "metadata": {},
   "source": [
    "# In-class Exercises\n",
    "* Write a regular expression to extract the sequence ID from a fasta file.\n",
    "\n",
    ">A sequence in FASTA format begins with a single-line description, followed by lines of sequence data. The description line (defline) is distinguished from the sequence data by a greater-than (\">\") symbol at the beginning. It is recommended that all lines of text be shorter than 80 characters in length. An example sequence in FASTA format is:\n",
    "\n",
    "~~~~\n",
    ">P01013 GENE X PROTEIN (OVALBUMIN-RELATED)\n",
    "QIKDLLVSSSTDLDTTLVLVNAIYFKGMWKTAFNAEDTREMPFHVTKQESKPVQMMCMNNSFNVATLPAE\n",
    "KMKILELPFASGDLSMLVLLPDEVSDLERIEKTINFEKLTEWTNPNTMEKRRVKVYLPQMKIEEKYNLTS\n",
    "VLMALGMTDLFIPSANLTGISSAESLKISQAVHGAFMELSEDGIEMAGSTGVIEDIKHSPESEQFRADHP\n",
    "FLFLIKHNPTNTIVYFGRYWSP`\n",
    "~~~~"
   ]
  },
  {
   "cell_type": "code",
   "execution_count": 4,
   "metadata": {},
   "outputs": [],
   "source": [
    "with open(\"../Resources/ex_ref.fasta\") as f0:\n",
    "        fseq = f0.read()"
   ]
  },
  {
   "cell_type": "code",
   "execution_count": 6,
   "metadata": {},
   "outputs": [
    {
     "name": "stdout",
     "output_type": "stream",
     "text": [
      "1111886\n",
      "1111885\n",
      "1111883\n",
      "1111882\n",
      "1111879\n",
      "1111876\n",
      "1111875\n",
      "1111874\n",
      "1111869\n",
      "1111867\n",
      "1111865\n",
      "1111861\n",
      "1111857\n",
      "1111856\n",
      "1111855\n",
      "1111848\n",
      "1111847\n",
      "1111845\n",
      "1111842\n",
      "1111839\n",
      "1111832\n",
      "1111830\n",
      "1111827\n",
      "1111820\n",
      "1111819\n",
      "1111817\n",
      "1111816\n",
      "1111810\n",
      "1111807\n",
      "1111804\n",
      "1111801\n",
      "1111793\n",
      "1111785\n",
      "1111783\n",
      "1111782\n",
      "1111778\n",
      "1111776\n",
      "1111775\n",
      "1111772\n",
      "1111770\n",
      "1111768\n",
      "1111767\n",
      "1111764\n",
      "1111763\n",
      "1111762\n",
      "1111759\n",
      "1111758\n",
      "1111751\n",
      "1111750\n",
      "1111744\n"
     ]
    }
   ],
   "source": [
    "seqid = re.compile(r\"\"\"(>(?P<id>[A-Z0-9]+))\"\"\")\n",
    "for r in seqid.finditer(fseq):\n",
    "    print(r.group(\"id\"))"
   ]
  },
  {
   "cell_type": "markdown",
   "metadata": {},
   "source": [
    "* Write a regular expression to extract the sequence ID from a fastq file.\n",
    "\n",
    ">Files from various platforms employing this format are acceptable:\n",
    "\n",
    "~~~~\n",
    "@<identifier and other information>\n",
    "<sequence>\n",
    "+<identifier and other information OR empty string>\n",
    "<quality>\n",
    "~~~~"
   ]
  },
  {
   "cell_type": "code",
   "execution_count": 8,
   "metadata": {},
   "outputs": [
    {
     "name": "stdout",
     "output_type": "stream",
     "text": [
      "@A80HNBABXX:4:1:1344:2224#0/1\n",
      "AAAACATCAGTATCCATCAGGATCAGTTTGGAAAGGGAGAGGCAATTTTTCCTAAACATGTGTTCAAATGGTCTGAGACAGACGTTAAAATGAAAAGGGG\n",
      "+\n",
      "\\\\YYWX\\PX^YT[TVYaTY]^\\^H\\`^`a`\\UZU__TTbSbb^\\a^^^`[GOVVXLXMV[Y_^a^BBBBBBBBBBBBBBBBBBBBBBBBBBBBBBBBBBB\n",
      "@A80HNBABXX:4:1:1515:2211#0/1\n",
      "TTAGAAACTATGGGATTATTCACTCCCTAGGTACTGAGAATGGAAACTTTCTTTGCCTTAATCGTTGACATCCCCTCTTTTAGGTTCTTGCTTCCTAACA\n",
      "+\n",
      "ee^e^\\`ad`eeee\\dd\\ddddYeebdd\\ddaYbdcYc`\\bac^YX[V^\\Ybb]]^bdbaZ]ZZ\\^K\\^]VPNME][`_``Ubb_bYddZbbbYbbYT^_\n",
      "@A80HNBABXX:4:1:1538:2220#0/1\n",
      "CTGAGTAAATCATATACTCAATGATTTTTTTATGTGTGTGCATGTGTGCTGTTGATATTCTTCAGTACCAAAACCCATCATCTTATTTGCATAGGGAAGT\n",
      "+\n",
      "fff^fd\\c^d^Ycac`dcdcded`effdfedb]beeeeecd^ddccdddddfff`eaeeeffdTecacaLV[QRPa\\\\a\\`]aY]ZZ[XYcccYcZ\\\\]Y\n",
      "@A80HNBABXX:4:1:1666:2222#0/1\n",
      "CTGCCAGCACGCTGTCACCTCTCAATAACAGTGAGTGTAATGGCCATACTCTTGATTTGGTTTTTGCCTTATGAATCAGTGGCTAAAAATATTATTTAAT\n",
      "+\n",
      "deeee`bbcddddad\\bbbbeee\\ecYZcc^dd^ddd\\\\`]``L`ccabaVJ`MZ^aaYMbbb__PYWY]RWNUUab`Y`BBBBBBBBBBBBBBBBBBBB\n",
      "@A80HNBABXX:4:1:1682:2211#0/1\n",
      "ACTTATATTATGTTGACACTCAAAAATTTCAGAA\n"
     ]
    }
   ],
   "source": [
    "with open(\"../Resources/ex_test.fastq\") as f0:\n",
    "        qseq = f0.read()\n",
    "print(qseq[:1000])"
   ]
  },
  {
   "cell_type": "code",
   "execution_count": 20,
   "metadata": {},
   "outputs": [
    {
     "name": "stdout",
     "output_type": "stream",
     "text": [
      "@A80HNBABXX:4:1:1344:2224#0/1 ('A80HNBABXX', '2224#0/1')\n",
      "@A80HNBABXX:4:1:1515:2211#0/1 ('A80HNBABXX', '2211#0/1')\n",
      "@A80HNBABXX:4:1:1538:2220#0/1 ('A80HNBABXX', '2220#0/1')\n",
      "@A80HNBABXX:4:1:1666:2222#0/1 ('A80HNBABXX', '2222#0/1')\n",
      "@A80HNBABXX:4:1:1682:2211#0/1 ('A80HNBABXX', '2211#0/1')\n",
      "@A80HNBABXX:4:1:1733:2221#0/1 ('A80HNBABXX', '2221#0/1')\n",
      "@A80HNBABXX:4:1:1712:2224#0/1 ('A80HNBABXX', '2224#0/1')\n",
      "@A80HNBABXX:4:1:1697:2246#0/1 ('A80HNBABXX', '2246#0/1')\n",
      "@A80HNBABXX:4:1:1845:2205#0/1 ('A80HNBABXX', '2205#0/1')\n"
     ]
    }
   ],
   "source": [
    "id = re.compile(r\"\"\"@(?P<alphanum>[A-Z0-9]+):(\\d+):(\\d+):(\\d+):(\\d+#\\d/\\d)\"\"\")\n",
    "for seq in id.finditer(qseq):\n",
    "    print(seq.group(0), seq.group(\"alphanum\", 5))"
   ]
  },
  {
   "cell_type": "code",
   "execution_count": 7,
   "metadata": {},
   "outputs": [],
   "source": [
    "with open(\"../Resources/obits.txt\") as f0:\n",
    "    obits = f0.read()"
   ]
  },
  {
   "cell_type": "markdown",
   "metadata": {},
   "source": [
    "* Write a regular expression to extract date of death from obits.txt"
   ]
  },
  {
   "cell_type": "code",
   "execution_count": 3,
   "metadata": {},
   "outputs": [
    {
     "name": "stdout",
     "output_type": "stream",
     "text": [
      "Oct. 16\n",
      "Oct. 16\n",
      "Oct. 13\n",
      "Oct. 13\n",
      "Oct. 16\n",
      "Oct. 15\n",
      "Oct. 16\n",
      "Oct. 17\n",
      "Oct. 17\n",
      "Oct. 15\n",
      "Oct. 16\n",
      "Oct. 17\n",
      "Oct. 15\n",
      "Oct. 15\n",
      "Oct. 17\n",
      "Oct. 17\n",
      "Oct. 14\n",
      "Oct. 16\n",
      "Oct. 15\n",
      "Oct. 17\n",
      "Oct. 14\n",
      "Oct. 14\n",
      "Oct. 13\n",
      "Oct. 14\n",
      "Oct. 15\n",
      "Oct. 13\n",
      "Oct. 14\n",
      "Oct. 14\n",
      "Oct. 14\n"
     ]
    }
   ],
   "source": [
    "#first, look at data and ask: what are the patterns?\n",
    "\n",
    "dod = re.compile(r\"\"\"(died (?P<month>[a-zA-Z.]+) (?P<day>\\d{1,2}))\"\"\") #make a group version\n",
    "for r in dod.finditer(obits):\n",
    "    print(r.group(\"month\"), r.group(\"day\"))"
   ]
  },
  {
   "cell_type": "markdown",
   "metadata": {},
   "source": [
    "* Write a regular expression to extract place of residence from obits.txt"
   ]
  },
  {
   "cell_type": "code",
   "execution_count": null,
   "metadata": {
    "collapsed": true
   },
   "outputs": [],
   "source": [
    "#residence = re.compile(r\"\"\"of [a-zA-Z ]+\"\"\") \n",
    "#good practice is to always use raw strings (technically only needed for special characters)\n",
    "#lowercase\n",
    "#uppercase\n",
    "#space\n",
    "#more than one\n",
    "#residence.findall(obits)\n",
    "residence = re.compile(r\"\"\"(of (?P<residence>[a-zA-Z ]+))\"\"\") #make a group version\n",
    "for r in residence.finditer(obits):\n",
    "    print(r.group(\"residence\"))"
   ]
  },
  {
   "cell_type": "markdown",
   "metadata": {},
   "source": [
    "* Write regular expressions to extract %stenosis from us.txt"
   ]
  },
  {
   "cell_type": "code",
   "execution_count": null,
   "metadata": {
    "collapsed": true
   },
   "outputs": [],
   "source": [
    "#see InClass document"
   ]
  },
  {
   "cell_type": "markdown",
   "metadata": {},
   "source": [
    "* Use regular expressions to modify reports queried from MIMIC-2. Find, the de-identified name patterns (such as those shown below) and replace them with randomly selected first and last names:\n",
    "```\n",
    "DR. [**First Name4 (NamePattern1) **] [**Last Name (NamePattern1) **]\n",
    "\n",
    "[**First Name8 (NamePattern2) **] [**First Name4 (NamePattern1) 6465**] [**Last Name (NamePattern1) **]\n",
    "```\n",
    "\n",
    "* Use regular expressions to modify the modified reports queried from MIMIC-2\n",
    "    * Identify ages and replace them with `[**Age in XXs**]`\n",
    "```\n",
    "48-year-old\n",
    "patient's father is 82 years old\n",
    "mother is healthy at age 83\n",
    "```"
   ]
  },
  {
   "cell_type": "code",
   "execution_count": 21,
   "metadata": {
    "collapsed": true
   },
   "outputs": [],
   "source": [
    "import pymysql\n",
    "import pandas as pd\n",
    "import getpass"
   ]
  },
  {
   "cell_type": "code",
   "execution_count": 22,
   "metadata": {},
   "outputs": [
    {
     "name": "stdout",
     "output_type": "stream",
     "text": [
      "Enter MySQL passwd for jovyan········\n"
     ]
    }
   ],
   "source": [
    "conn = pymysql.connect(host=\"mysql\",\n",
    "                       port=3306,user=\"jovyan\",\n",
    "                       passwd=getpass.getpass(\"Enter MySQL passwd for jovyan\"),db='mimic2')\n",
    "cursor = conn.cursor()"
   ]
  },
  {
   "cell_type": "code",
   "execution_count": 23,
   "metadata": {},
   "outputs": [
    {
     "name": "stdout",
     "output_type": "stream",
     "text": [
      "(300, 1)\n"
     ]
    },
    {
     "data": {
      "text/html": [
       "<div>\n",
       "<table border=\"1\" class=\"dataframe\">\n",
       "  <thead>\n",
       "    <tr style=\"text-align: right;\">\n",
       "      <th></th>\n",
       "      <th>text</th>\n",
       "    </tr>\n",
       "  </thead>\n",
       "  <tbody>\n",
       "    <tr>\n",
       "      <th>0</th>\n",
       "      <td>\\n \\n \\n \\nAdmission Date:  [**2644-1-17**]   ...</td>\n",
       "    </tr>\n",
       "    <tr>\n",
       "      <th>1</th>\n",
       "      <td>\\n\\n\\nAdmission Date:  [**3264-8-14**]     Dis...</td>\n",
       "    </tr>\n",
       "    <tr>\n",
       "      <th>2</th>\n",
       "      <td>\\n\\nAdmission Date:  [**2778-3-24**]       Dis...</td>\n",
       "    </tr>\n",
       "    <tr>\n",
       "      <th>3</th>\n",
       "      <td>\\n\\nAdmission Date:  [**3079-3-3**]     Discha...</td>\n",
       "    </tr>\n",
       "    <tr>\n",
       "      <th>4</th>\n",
       "      <td>\\n\\n\\nAdmission Date:  [**2875-9-26**]     Dis...</td>\n",
       "    </tr>\n",
       "    <tr>\n",
       "      <th>5</th>\n",
       "      <td>\\n \\n \\n \\nAdmission Date:  [**3352-6-23**]   ...</td>\n",
       "    </tr>\n",
       "    <tr>\n",
       "      <th>6</th>\n",
       "      <td>\\n\\nAdmission Date:  [**2976-11-29**]       Di...</td>\n",
       "    </tr>\n",
       "    <tr>\n",
       "      <th>7</th>\n",
       "      <td>\\n\\n\\nAdmission Date:  [**2682-9-7**]     Disc...</td>\n",
       "    </tr>\n",
       "    <tr>\n",
       "      <th>8</th>\n",
       "      <td>\\n\\nAdmission Date:  [**2678-8-21**]     Disch...</td>\n",
       "    </tr>\n",
       "    <tr>\n",
       "      <th>9</th>\n",
       "      <td>\\n \\n \\n \\nAdmission Date:  [**3138-10-29**]  ...</td>\n",
       "    </tr>\n",
       "  </tbody>\n",
       "</table>\n",
       "</div>"
      ],
      "text/plain": [
       "                                                text\n",
       "0  \\n \\n \\n \\nAdmission Date:  [**2644-1-17**]   ...\n",
       "1  \\n\\n\\nAdmission Date:  [**3264-8-14**]     Dis...\n",
       "2  \\n\\nAdmission Date:  [**2778-3-24**]       Dis...\n",
       "3  \\n\\nAdmission Date:  [**3079-3-3**]     Discha...\n",
       "4  \\n\\n\\nAdmission Date:  [**2875-9-26**]     Dis...\n",
       "5  \\n \\n \\n \\nAdmission Date:  [**3352-6-23**]   ...\n",
       "6  \\n\\nAdmission Date:  [**2976-11-29**]       Di...\n",
       "7  \\n\\n\\nAdmission Date:  [**2682-9-7**]     Disc...\n",
       "8  \\n\\nAdmission Date:  [**2678-8-21**]     Disch...\n",
       "9  \\n \\n \\n \\nAdmission Date:  [**3138-10-29**]  ..."
      ]
     },
     "execution_count": 23,
     "metadata": {},
     "output_type": "execute_result"
    }
   ],
   "source": [
    "#provide a sql statement and a connection object\n",
    "reports = pd.read_sql(\"SELECT text from noteevents WHERE category='DISCHARGE_SUMMARY' LIMIT 300\",conn)\n",
    "print(reports.shape)\n",
    "reports.head(10)"
   ]
  },
  {
   "cell_type": "code",
   "execution_count": null,
   "metadata": {
    "collapsed": true
   },
   "outputs": [],
   "source": [
    "riter = reports.iterrows()"
   ]
  },
  {
   "cell_type": "code",
   "execution_count": null,
   "metadata": {
    "collapsed": true
   },
   "outputs": [],
   "source": [
    "_,row = next(riter)"
   ]
  },
  {
   "cell_type": "code",
   "execution_count": null,
   "metadata": {
    "collapsed": true
   },
   "outputs": [],
   "source": [
    "print(row[\"text\"])"
   ]
  },
  {
   "cell_type": "code",
   "execution_count": 24,
   "metadata": {
    "collapsed": true
   },
   "outputs": [],
   "source": [
    "report_txt = \" \".join(reports[\"text\"])"
   ]
  },
  {
   "cell_type": "code",
   "execution_count": 29,
   "metadata": {},
   "outputs": [],
   "source": [
    "name = re.compile(r\"\"\"\\[\\*\\*Last Name \\(NamePattern\\d*\\) \\d*\\*\\*\\]\"\"\")\n",
    "#need the slash before special characters\n",
    "#for name in ln.finditer(report_txt):\n",
    "#    print(name.group(0))\n",
    "    \n",
    "matched_names = [r.group(0) for r in name.finditer(report_txt)]"
   ]
  },
  {
   "cell_type": "code",
   "execution_count": null,
   "metadata": {
    "collapsed": true
   },
   "outputs": [],
   "source": [
    "name_mapping = {n:get_lastname2(surnames) for n in set(matched_names)}"
   ]
  },
  {
   "cell_type": "code",
   "execution_count": null,
   "metadata": {
    "collapsed": true
   },
   "outputs": [],
   "source": [
    "for key,value in name_mapping.items():\n",
    "    report_txt = report_txt.replace(key,value)\n",
    "\n",
    "print(report_txt[:10000])"
   ]
  },
  {
   "cell_type": "code",
   "execution_count": 26,
   "metadata": {
    "collapsed": true
   },
   "outputs": [],
   "source": [
    "import random\n",
    "def get_lastname2(surnames, seed=None):\n",
    "    random.seed(seed)\n",
    "    v= random.random()\n",
    "    return surnames[surnames[:cumulative_probability]] >= v.iloc[0][\"name\"]\n",
    "    "
   ]
  },
  {
   "cell_type": "code",
   "execution_count": null,
   "metadata": {
    "collapsed": true
   },
   "outputs": [],
   "source": []
  },
  {
   "cell_type": "code",
   "execution_count": 46,
   "metadata": {},
   "outputs": [
    {
     "name": "stdout",
     "output_type": "stream",
     "text": [
      "('68-year-old', '68')\n",
      "('48-year-old', '48')\n",
      "('82 years old', '82')\n",
      "('45-year-old', '45')\n",
      "('72-year-old', '72')\n",
      "('72-year-old', '72')\n",
      "('54 year-old', '54')\n",
      "('54 year-old', '54')\n",
      "('75-year-old', '75')\n",
      "('75-year-old', '75')\n",
      "('76-year-old', '76')\n",
      "('72-year-old', '72')\n",
      "('66-year-old', '66')\n",
      "('85 year old', '85')\n",
      "('69-year-old', '69')\n",
      "('49 year old', '49')\n",
      "('65 year old', '65')\n",
      "('37 year old', '37')\n",
      "('37 year old', '37')\n",
      "('78 year old', '78')\n",
      "('56-year-old', '56')\n",
      "('76 year-old', '76')\n",
      "('65-year-old', '65')\n",
      "('78 year old', '78')\n",
      "('70-year-old', '70')\n",
      "('85 year old', '85')\n",
      "('62 year old', '62')\n",
      "('48-year-old', '48')\n",
      "('48-year-old', '48')\n",
      "('68 year old', '68')\n",
      "('59 year-old', '59')\n",
      "('58-year-old', '58')\n",
      "('84 year old', '84')\n",
      "('69-year-old', '69')\n",
      "('85 year old', '85')\n",
      "('76-year-old', '76')\n",
      "('70-year-old', '70')\n",
      "('62-year-old', '62')\n",
      "('79 year-old', '79')\n",
      "('75 year old', '75')\n",
      "('75 year old', '75')\n",
      "('75-year-old', '75')\n",
      "('75 year old', '75')\n",
      "('75-year-old', '75')\n",
      "('75 year old', '75')\n",
      "('72-year-old', '72')\n",
      "('83-year-old', '83')\n",
      "('87-year-old', '87')\n",
      "('64 year old', '64')\n",
      "('64 year old', '64')\n",
      "('64 year old', '64')\n",
      "('32-year-old', '32')\n",
      "('85 year old', '85')\n",
      "('85 year old', '85')\n",
      "('72-year-old', '72')\n",
      "('78-year-old', '78')\n",
      "('74 year old', '74')\n",
      "('61-year-old', '61')\n",
      "('86-year-old', '86')\n",
      "('81-year-old', '81')\n",
      "('62 year old', '62')\n",
      "('70 year old', '70')\n",
      "('68-year-old', '68')\n",
      "('68-year-old', '68')\n",
      "('65 year old', '65')\n",
      "('83-year-old', '83')\n",
      "('83 year old', '83')\n",
      "('72 year old', '72')\n",
      "('84 year old', '84')\n",
      "('65-year-old', '65')\n",
      "('85 year old', '85')\n",
      "('81 year old', '81')\n",
      "('79 year-old', '79')\n",
      "('54 year old', '54')\n",
      "('56-year-old', '56')\n",
      "('75 year old', '75')\n",
      "('82-year-old', '82')\n",
      "('82-year-old', '82')\n",
      "('82 year old', '82')\n",
      "('77-year-old', '77')\n",
      "('84 year old', '84')\n",
      "('83-year-old', '83')\n",
      "('83-year-old', '83')\n",
      "('61-year-old', '61')\n",
      "('61-year-old', '61')\n",
      "('75 year old', '75')\n",
      "('81 year-old', '81')\n",
      "('81 year-old', '81')\n",
      "('56 year old', '56')\n",
      "('64-year-old', '64')\n",
      "('78-year-old', '78')\n",
      "('53-year-old', '53')\n",
      "('73-year-old', '73')\n",
      "('73-year-old', '73')\n",
      "('67 year old', '67')\n",
      "('59 year old', '59')\n",
      "('83-year-old', '83')\n",
      "('76-year-old', '76')\n",
      "('48-year-old', '48')\n",
      "('69-year-old', '69')\n",
      "('40-year-old', '40')\n",
      "('41 year-old', '41')\n",
      "('80 year old', '80')\n",
      "('59 year old', '59')\n",
      "('64 year-old', '64')\n",
      "('74-year-old', '74')\n",
      "('74-year-old', '74')\n",
      "('62-year-old', '62')\n",
      "('67 year old', '67')\n",
      "('45-year-old', '45')\n",
      "('68-year-old', '68')\n",
      "('66-year-old', '66')\n",
      "('71 year old', '71')\n",
      "('71 year old', '71')\n",
      "('71-year-old', '71')\n",
      "('36-year-old', '36')\n",
      "('50 year old', '50')\n",
      "('68 year old', '68')\n",
      "('78 year old', '78')\n",
      "('55 year-old', '55')\n",
      "('55 year-old', '55')\n",
      "('72-year-old', '72')\n",
      "('71-year-old', '71')\n",
      "('70 year old', '70')\n",
      "('74-year-old', '74')\n",
      "('80 year old', '80')\n",
      "('68-year-old', '68')\n",
      "('60 year-old', '60')\n",
      "('84 year old', '84')\n",
      "('82 year-old', '82')\n",
      "('46 year old', '46')\n",
      "('79 year old', '79')\n",
      "('71 year old', '71')\n",
      "('44 year old', '44')\n",
      "('39 year-old', '39')\n",
      "('77 year old', '77')\n",
      "('77 year old', '77')\n",
      "('68-year-old', '68')\n",
      "('81-year-old', '81')\n",
      "('72 year-old', '72')\n",
      "('72 year-old', '72')\n",
      "('74-year-old', '74')\n",
      "('58 year old', '58')\n",
      "('79 year old', '79')\n",
      "('79-year-old', '79')\n",
      "('79 year old', '79')\n",
      "('29-year-old', '29')\n",
      "('71 year-old', '71')\n",
      "('89 year-old', '89')\n",
      "('68-year-old', '68')\n",
      "('78 year-old', '78')\n",
      "('82 year-old', '82')\n",
      "('63 year old', '63')\n",
      "('62-year-old', '62')\n",
      "('61 year old', '61')\n",
      "('75-year-old', '75')\n",
      "('77-year-old', '77')\n",
      "('30 year old', '30')\n",
      "('89 year old', '89')\n",
      "('89-year-old', '89')\n",
      "('89 year old', '89')\n",
      "('89-year-old', '89')\n",
      "('89 year old', '89')\n",
      "('89-year-old', '89')\n",
      "('84-year-old', '84')\n",
      "('62-year-old', '62')\n",
      "('72-year-old', '72')\n",
      "('83-year-old', '83')\n",
      "('86-year-old', '86')\n",
      "('50 year-old', '50')\n",
      "('76-year-old', '76')\n",
      "('60-year-old', '60')\n",
      "('60-year-old', '60')\n",
      "('60-year-old', '60')\n",
      "('80 year-old', '80')\n",
      "('81 year old', '81')\n",
      "('71-year-old', '71')\n",
      "('5-year-old', '5')\n",
      "('83 year-old', '83')\n",
      "('49-year-old', '49')\n",
      "('65-year-old', '65')\n",
      "('76 year old', '76')\n",
      "('52-year-old', '52')\n",
      "('74 year old', '74')\n",
      "('74 year old', '74')\n",
      "('79-year-old', '79')\n",
      "('78-year-old', '78')\n",
      "('78-year-old', '78')\n",
      "('58-year-old', '58')\n",
      "('61-year-old', '61')\n",
      "('57 year-old', '57')\n",
      "('84-year-old', '84')\n",
      "('71 year old', '71')\n",
      "('71 year old', '71')\n",
      "('72 year old', '72')\n",
      "('68 year old', '68')\n",
      "('77-year old', '77')\n"
     ]
    }
   ],
   "source": [
    "#now for ages\n",
    "#age = re.compile(r\"\"\"([0-9]+(-|\\s)year(s)?(-|\\s)old)|([0-9]+ y\\.o\\.)|(\\bage(d)? [0-9]+)\"\"\")\n",
    "age2 = re.compile(r\"\"\"((\\bage )?(?P<age>[0-9]+)(-|\\s)y(ear(s)?|\\.)?(-|\\s)o(ld|\\.))\"\"\") #this is hard, probably do this one and another for age 76, aged 76, etc.\n",
    "for m in age2.finditer(report_txt):\n",
    "    print(m.group(0,\"age\"))"
   ]
  },
  {
   "cell_type": "code",
   "execution_count": 47,
   "metadata": {
    "collapsed": true
   },
   "outputs": [],
   "source": [
    "def age_in_decades(s):\n",
    "    miter = age2.finditer(s)\n",
    "    m = next(miter)\n",
    "    age = int(m.group(\"age\"))\n",
    "    return \"[** Age in %s s**]\"%(int(age/10)*10)"
   ]
  },
  {
   "cell_type": "code",
   "execution_count": 48,
   "metadata": {},
   "outputs": [
    {
     "data": {
      "text/plain": [
       "'[** Age in 70 s**]'"
      ]
     },
     "execution_count": 48,
     "metadata": {},
     "output_type": "execute_result"
    }
   ],
   "source": [
    "age_in_decades(\"74-year-old\")"
   ]
  },
  {
   "cell_type": "code",
   "execution_count": 49,
   "metadata": {},
   "outputs": [
    {
     "ename": "TypeError",
     "evalue": "expected string or bytes-like object",
     "output_type": "error",
     "traceback": [
      "\u001b[0;31m---------------------------------------------------------------------------\u001b[0m",
      "\u001b[0;31mTypeError\u001b[0m                                 Traceback (most recent call last)",
      "\u001b[0;32m<ipython-input-49-4607024118a4>\u001b[0m in \u001b[0;36m<module>\u001b[0;34m()\u001b[0m\n\u001b[0;32m----> 1\u001b[0;31m \u001b[0mage2\u001b[0m\u001b[0;34m.\u001b[0m\u001b[0msub\u001b[0m\u001b[0;34m(\u001b[0m\u001b[0mage_in_decades\u001b[0m\u001b[0;34m,\u001b[0m \u001b[0mreport_txt\u001b[0m\u001b[0;34m)\u001b[0m\u001b[0;34m\u001b[0m\u001b[0m\n\u001b[0m",
      "\u001b[0;32m<ipython-input-47-b6e2c50fb90f>\u001b[0m in \u001b[0;36mage_in_decades\u001b[0;34m(s)\u001b[0m\n\u001b[1;32m      1\u001b[0m \u001b[0;32mdef\u001b[0m \u001b[0mage_in_decades\u001b[0m\u001b[0;34m(\u001b[0m\u001b[0ms\u001b[0m\u001b[0;34m)\u001b[0m\u001b[0;34m:\u001b[0m\u001b[0;34m\u001b[0m\u001b[0m\n\u001b[0;32m----> 2\u001b[0;31m     \u001b[0mmiter\u001b[0m \u001b[0;34m=\u001b[0m \u001b[0mage2\u001b[0m\u001b[0;34m.\u001b[0m\u001b[0mfinditer\u001b[0m\u001b[0;34m(\u001b[0m\u001b[0ms\u001b[0m\u001b[0;34m)\u001b[0m\u001b[0;34m\u001b[0m\u001b[0m\n\u001b[0m\u001b[1;32m      3\u001b[0m     \u001b[0mm\u001b[0m \u001b[0;34m=\u001b[0m \u001b[0mnext\u001b[0m\u001b[0;34m(\u001b[0m\u001b[0mmiter\u001b[0m\u001b[0;34m)\u001b[0m\u001b[0;34m\u001b[0m\u001b[0m\n\u001b[1;32m      4\u001b[0m     \u001b[0mage\u001b[0m \u001b[0;34m=\u001b[0m \u001b[0mint\u001b[0m\u001b[0;34m(\u001b[0m\u001b[0mm\u001b[0m\u001b[0;34m.\u001b[0m\u001b[0mgroup\u001b[0m\u001b[0;34m(\u001b[0m\u001b[0;34m\"age\"\u001b[0m\u001b[0;34m)\u001b[0m\u001b[0;34m)\u001b[0m\u001b[0;34m\u001b[0m\u001b[0m\n\u001b[1;32m      5\u001b[0m     \u001b[0;32mreturn\u001b[0m \u001b[0;34m\"[** Age in %s s**]\"\u001b[0m\u001b[0;34m%\u001b[0m\u001b[0;34m(\u001b[0m\u001b[0mint\u001b[0m\u001b[0;34m(\u001b[0m\u001b[0mage\u001b[0m\u001b[0;34m/\u001b[0m\u001b[0;36m10\u001b[0m\u001b[0;34m)\u001b[0m\u001b[0;34m*\u001b[0m\u001b[0;36m10\u001b[0m\u001b[0;34m)\u001b[0m\u001b[0;34m\u001b[0m\u001b[0m\n",
      "\u001b[0;31mTypeError\u001b[0m: expected string or bytes-like object"
     ]
    }
   ],
   "source": [
    "age2.sub(age_in_decades, report_txt)\n",
    "#this doesn't work, so do the same dictionary solution"
   ]
  },
  {
   "cell_type": "code",
   "execution_count": null,
   "metadata": {
    "collapsed": true
   },
   "outputs": [],
   "source": []
  }
 ],
 "metadata": {
  "kernelspec": {
   "display_name": "Python 3",
   "language": "python",
   "name": "python3"
  }
 },
 "nbformat": 4,
 "nbformat_minor": 2
}
