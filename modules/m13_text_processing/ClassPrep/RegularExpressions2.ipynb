{
 "cells": [
  {
   "cell_type": "code",
   "execution_count": 2,
   "metadata": {},
   "outputs": [
    {
     "data": {
      "image/jpeg": "[encoded data removed]",
      "text/html": [
       "\n",
       "        <iframe\n",
       "            width=\"800\"\n",
       "            height=\"600\"\n",
       "            src=\"https://www.youtube.com/embed/ZwqEwihsyVE\"\n",
       "            frameborder=\"0\"\n",
       "            allowfullscreen\n",
       "        ></iframe>\n",
       "        "
      ],
      "text/plain": [
       "<IPython.lib.display.YouTubeVideo at 0x7fa6365fb208>"
      ]
     },
     "execution_count": 2,
     "metadata": {},
     "output_type": "execute_result"
    }
   ],
   "source": [
    "from IPython.display import YouTubeVideo\n",
    "YouTubeVideo(\"ZwqEwihsyVE\", width=800, height=600)"
   ]
  },
  {
   "cell_type": "markdown",
   "metadata": {},
   "source": [
    "# Regular Expressions Part 2\n",
    "### My goto reference is the [Regular Expression How To](http://docs.python.org/3/howto/regex.html) webpage.\n",
    "\n",
    "## What this notebook covers\n",
    "\n",
    "1. Groups\n",
    "1. Match Objects\n",
    "3. Named Groups\n",
    "4. Modifying Strings with Regular Expressions"
   ]
  },
  {
   "cell_type": "markdown",
   "metadata": {},
   "source": [
    "### Groups\n",
    "* Individual parts of a regular expression can be identified using parentheses **()**. \n",
    "* These are then known as *GROUPS*. \n",
    "* Groups can be made optional by putting a question mark **(?)** after the group. \n"
   ]
  },
  {
   "cell_type": "markdown",
   "metadata": {},
   "source": [
    "# Examples"
   ]
  },
  {
   "cell_type": "code",
   "execution_count": null,
   "metadata": {
    "collapsed": true
   },
   "outputs": [],
   "source": [
    "testString = \"\"\"\n",
    "Br. Chapman died yesterday. Brian Chapman, much beloved, Brian E. Chapman Brian Earl Chapman \n",
    "Wendy Webber Chapman Clare \n",
    "1234 4321.1234 Clare A Chapman python python.org \n",
    "http://python.org www.python.org jython zython Brad Bob cpython brian http://www.python.org perl Perl PERL\n",
    "https://www.utah.edu\n",
    "\n",
    "https://www.python.org\"\"\""
   ]
  },
  {
   "cell_type": "markdown",
   "metadata": {},
   "source": [
    "### Here is a regular expression to match `python` or `perl`\n",
    "```Python\n",
    "r\"\"\"(p(ython|erl))\"\"\"\n",
    "```\n",
    "#### This uses a group `ython|erl` within a larger group"
   ]
  },
  {
   "cell_type": "code",
   "execution_count": null,
   "metadata": {
    "collapsed": true
   },
   "outputs": [],
   "source": [
    "e4 = r\"\"\"(p(ython|erl))\"\"\"\n",
    "f = re.compile(e4)\n",
    "rslts4 = f.findall(testString)\n",
    "print (e4)\n",
    "print (testString)\n",
    "for r in rslts4:\n",
    "    print (r)\n",
    "print (\"*\"*42)\n"
   ]
  },
  {
   "cell_type": "markdown",
   "metadata": {},
   "source": [
    "### Note that `findall` returns a tuple for each match\n",
    "#### Each element in the tuple is what matched for each group"
   ]
  },
  {
   "cell_type": "markdown",
   "metadata": {},
   "source": [
    "### Optional Groups\n",
    "#### Here is a regular expression to match pars of the python web address\n",
    "#### All groups are optional except for `python`"
   ]
  },
  {
   "cell_type": "code",
   "execution_count": null,
   "metadata": {
    "collapsed": true
   },
   "outputs": [],
   "source": [
    "r1 = re.compile(r\"\"\"(http[s]*://)?(www\\.)?(python)(\\.org)?\"\"\")\n",
    "for r in r1.findall(testString):\n",
    "    print(r)"
   ]
  },
  {
   "cell_type": "markdown",
   "metadata": {},
   "source": [
    "## Matched Objects\n",
    "### `findall` is useful: it returns the strings (and the parts) we matched. But...\n",
    "### There is a more powerful way of working with what we've matched\n",
    "#### [`finditer`](https://docs.python.org/3/library/re.html#re.finditer): returns an iterator that returns a regular expression [match object](https://docs.python.org/3/library/re.html#match-objects).\n",
    "* The match object contains methods that describe the attribute of the matched string, for example, the span of the matched string."
   ]
  },
  {
   "cell_type": "code",
   "execution_count": null,
   "metadata": {
    "collapsed": true
   },
   "outputs": [],
   "source": [
    "rIter = r1.finditer(testString)"
   ]
  },
  {
   "cell_type": "code",
   "execution_count": null,
   "metadata": {
    "collapsed": true
   },
   "outputs": [],
   "source": [
    "r = next(rIter)"
   ]
  },
  {
   "cell_type": "code",
   "execution_count": null,
   "metadata": {
    "collapsed": true
   },
   "outputs": [],
   "source": []
  },
  {
   "cell_type": "code",
   "execution_count": null,
   "metadata": {
    "collapsed": true
   },
   "outputs": [],
   "source": [
    "print (r.group())\n",
    "print (r.span(), r.start(), r.end())\n",
    "\n",
    "print(\"*\"*42)\n",
    "for i in range(5):\n",
    "    print(\"group %d\"%i, r.group(i))"
   ]
  },
  {
   "cell_type": "markdown",
   "metadata": {},
   "source": [
    "## Named Groups\n",
    "* As we've defined groups so far, the individual groups can be accessed through indexing\n",
    "* Groups can be named as follows:\n",
    "```python   \n",
    "    (?P<frame>[0-9]+)\n",
    "```    \n",
    "\n",
    "### Named groups can be accessed either through index or name"
   ]
  },
  {
   "cell_type": "code",
   "execution_count": null,
   "metadata": {
    "collapsed": true
   },
   "outputs": [],
   "source": [
    "r1 = re.compile(r\"\"\"(?P<protocol>http[s]*://)?(?P<prefix>www\\.)?(?P<name>python)(?P<suffix>\\.org)?\"\"\")\n",
    "data = r1.finditer(testString)\n",
    "for d in data:\n",
    "    print (\"d[0]=%s; d[1]=%s; d[2]=%s; d[3]=%s\"%(d.group(0),d.group(1),d.group(2),d.group(3)))\n",
    "    print (\"protocol=%s; prefix=%s; domain=%s; suffix=%s\"%(d.group(\"protocol\"),\n",
    "                                                           d.group(\"prefix\"),\n",
    "                                                           d.group(\"name\"),\n",
    "                                                           d.group(\"suffix\")))\n",
    "    print('-'*42)\n"
   ]
  },
  {
   "cell_type": "code",
   "execution_count": null,
   "metadata": {
    "collapsed": true
   },
   "outputs": [],
   "source": [
    "name = re.compile(r\"\"\"((?P<fname>[A-Z][a-z]+)\\s((?P<mname>[A-Z][A-Za-z\\.]*)\\s)?(?P<lname>[A-Z][A-Za-z]+))\"\"\")\n",
    "\n",
    "for n in name.finditer(testString):\n",
    "    print (n.group(),n.span())\n",
    "    print (n.group('fname'),n.group('mname'),n.group('lname'))\n",
    "    print (\"*\"*42)\n"
   ]
  },
  {
   "cell_type": "markdown",
   "metadata": {},
   "source": [
    "## Modifying Strings with re\n",
    "* Regular expressions can also be used to modify text\n",
    "* Here is an example where we are identifying multiple white spaces, including tabs and newlines, and replacing them with a single space."
   ]
  },
  {
   "cell_type": "code",
   "execution_count": null,
   "metadata": {
    "collapsed": true
   },
   "outputs": [],
   "source": [
    "test = \"\"\"Brian E.     Chapman\\t\\n has many bikes, including    a Big  Dummy, which  is probably the\\t\\t\\nbike with   the    best name.\"\"\"\n",
    "def cleanText(txt):\n",
    "    \"\"\"cleans up whitepsaces in text by replacing series of all whitespaces with a single space\"\"\"\n",
    "    re1 = re.compile(r'''\\s+''')\n",
    "    txt2 = re1.sub(' ',txt)\n",
    "    return txt2\n",
    "    \n",
    "print (test)\n",
    "print (cleanText(test))"
   ]
  },
  {
   "cell_type": "markdown",
   "metadata": {},
   "source": []
  },
  {
   "cell_type": "code",
   "execution_count": null,
   "metadata": {
    "collapsed": true
   },
   "outputs": [],
   "source": []
  }
 ],
 "metadata": {
  "anaconda-cloud": {},
  "kernelspec": {
   "display_name": "Python 3",
   "language": "python",
   "name": "python3"
  },
  "language_info": {
   "codemirror_mode": {
    "name": "ipython",
    "version": 3
   },
   "file_extension": ".py",
   "mimetype": "text/x-python",
   "name": "python",
   "nbconvert_exporter": "python",
   "pygments_lexer": "ipython3",
   "version": "3.5.2"
  }
 },
 "nbformat": 4,
 "nbformat_minor": 1
}
