{
 "cells": [
  {
   "cell_type": "markdown",
   "metadata": {},
   "source": [
    "# In-class Programming Exercises\n"
   ]
  },
  {
   "cell_type": "markdown",
   "metadata": {},
   "source": [
    "## Exercise:\n",
    "\n",
    "Read the carotid.txt file and parse it into a list of strings where each report is a single string.\n",
    "\n",
    "Look at the data and decide what questions we need to ask about each line in the file in order to parse the file into individual reports."
   ]
  },
  {
   "cell_type": "code",
   "execution_count": 1,
   "metadata": {
    "scrolled": true
   },
   "outputs": [
    {
     "name": "stdout",
     "output_type": "stream",
     "text": [
      "BEGIN REPORT\n",
      "A carotid u/s showed \"\"no changes from previous\"\", but by report, \n",
      " unsure of previous findings.\n",
      "\n",
      "END REPORT\n",
      "BEGIN REPORT\n",
      "Carotid dopplers ([**1-30**]) notable for 60-69%R ICA occlusion and \n",
      " L-vertebral not visualized (so could be occulded or hypoplastic)\n",
      "\n",
      "END REPORT\n",
      "BEGIN REPORT\n",
      "Ultrasound of the carotids revealed right ICA with 80-99% occlusion and L ICA with 40% \n",
      " occlusion.\n",
      " \"\n",
      " AM\n",
      "\n",
      "END REPORT\n",
      "BEGIN REPORT\n",
      "CAROTID SERIES COMPLETE\n",
      " \n",
      " Reason: TIA\n",
      " \n",
      " UNDERLYING MEDICAL CONDITION:\n",
      " 72 year old man with TIA \n",
      " REASON FOR THIS EXAMINATION:\n",
      " Eval for carotid stenosis \n",
      " CAROTID STUDY\n",
      " \n",
      " HISTORY: TIA.\n",
      " \n",
      " FINDINGS: No prior studies for comparison. There is complete \n",
      " occlusion of the left ICA and associated internalization of the \n",
      " external carotid artery on the left. There is also absent flow \n",
      " involving the left vertebral artery. There is a significant \n",
      " focal hypoechoic plaque involving the right ICA. Similar plaque \n",
      " involving the right ECA. The peak systolic velocities on the \n",
      " right are 264, 56, and 15 cm per second for the ICA, CCA, and \n",
      " ECA respectively. The ICA to CCA ratio is 5.3. There is \n",
      " antegrade flow involving the right vertebral artery.\n",
      " \n",
      " IMPRESSION:\n",
      " \n",
      " 1. Occluded left-sided ICA and left-sided vertebral artery.\n",
      " \n",
      " 2. 70-79% right ICA stenosis.\n",
      " \n",
      " 3. Near occlusion of the right external carotid artery.\n",
      " \n",
      "\n",
      "END REPORT\n",
      "BEGIN REPORT\n",
      "EXAM: MRI of the brain and MRA of the head and neck.\n",
      " \n",
      " CLINICAL INFORMATION: Patient with left internal carotid artery \n",
      " occlusion and right ICA stenosis, for further evaluation to \n",
      " exclude stroke and also to evaluate the cerebral blood vessels.\n",
      " \n",
      " \n",
      " \n",
      " MRA OF THE NECK:\n",
      " \n",
      " The neck MRA demonstrates normal flow signal in the right \n",
      " vertebral artery. The right internal carotid demonstrates \n",
      " high-grade approximately 70% stenosis at the bifurcation. The \n",
      " evaluation of the right carotid stenosis on the post- gadolinium \n",
      " MRA is limited secondary to venous contamination.\n",
      " \n",
      " The left internal carotid is occluded at the bifurcation. No \n",
      " flow is visualized in the distal cervical left internal carotid \n",
      " artery. No flow is seen in the left petrous carotid artery.\n",
      " \n",
      " The evaluation of the left vertebral artery on source\n"
     ]
    }
   ],
   "source": [
    "import os\n",
    "\n",
    "with open(os.path.join(\"..\",\"Resources\",\"carotid.txt\")) as f0:\n",
    "    data = f0.read()\n",
    "print(data[:2200])"
   ]
  },
  {
   "cell_type": "code",
   "execution_count": 6,
   "metadata": {},
   "outputs": [
    {
     "name": "stdout",
     "output_type": "stream",
     "text": [
      "34\n",
      "Ultrasound of the carotids revealed right ICA with 80-99% occlusion and L ICA with 40% \n",
      " occlusion.\n",
      " \"\n",
      " AM\n",
      "\n",
      "\n"
     ]
    }
   ],
   "source": [
    "#recall using with closes the file\n",
    "#we've seen there are BEGIN REPORT, END REPORT, and everything else = 3 conditions\n",
    "\n",
    "all_reports = [] #start empty list to store report strings\n",
    "\n",
    "with open(os.path.join(\"..\",\"Resources\",\"carotid.txt\")) as f0:\n",
    "    for line in f0:\n",
    "        if line.startswith(\"BEGIN REPORT\"):\n",
    "            report = \"\"\n",
    "        elif line.startswith(\"END REPORT\"):\n",
    "            all_reports.append(report)\n",
    "        else:\n",
    "            report = report + line #+ is a concatenator\n",
    "\n",
    "print(len(all_reports))\n",
    "print(all_reports[2])\n",
    "            "
   ]
  },
  {
   "cell_type": "markdown",
   "metadata": {},
   "source": [
    "## Exercise: \n",
    "\n",
    "Read in obits.txt and parse the contents into a dictionary keyed by the date of the obituary. The value corresponding to each key should be a list of named tuples with the named tuple having first name, last name, age, and date of death."
   ]
  },
  {
   "cell_type": "code",
   "execution_count": 7,
   "metadata": {},
   "outputs": [
    {
     "name": "stdout",
     "output_type": "stream",
     "text": [
      "10/18/01\n",
      "BAIRD, Alice O., 96, of Pine, died Oct. 16. King Funeral Home, Hampton. (DN) \n",
      "BECKER, Patricia Joan, 68, of West Deer, died Oct. 16. King Funeral Home, Hampton. (DN) \n",
      "BELKE, Ronald, died Oct. 13. Thomas J. Gmiter Funeral Home, South Side. (DN) \n",
      "BELKE, Irene, died Oct. 13. Thomas J. Gmiter Funeral Home, South Side. (DN) \n",
      "BRADBURN, Arlene A., died Oct. 16. William Slater II Funeral Services, Scott. (DN) \n",
      "BRAUN, Justina F., 92, of McKees Rocks, died Oct. 15. McKees Rocks Funeral Home, McKees Rocks. (DN) \n",
      "BROWN, Dorothy C., 77, died Oct. 16. Rowland S. Cooke Funeral Home, East End. (DN) \n",
      "CHERNEGA, Mary M., 83, of East Pittsburgh, died Oct. 17. Patrick T. Lanigan Funeral Home, East Pittsburgh. (DN) \n",
      "CLOUSE, Walter J., 79, of Fox chapel, died Oct. 17. Weddell-Ajak Funeral Home, Aspinwall. (DN) \n",
      "DRURY, Anna H., 93, of Mount Washington, died Oct. 15. Daniel T. D'Alessandro Funeral Home, Lawrenceville. (DN) \n",
      "DUBOSKY, Mary Hotsur, 85, of North Huntingdon, died Oct. 16. William Snyder Funeral Home. \n",
      "EWART, Arthur E., of Penn Hill, died Oct. 17. Burket-Truby Funeral Home, Oakmont. (DN) \n",
      "FARKAS, Laura, of South Side, died Oct. 15. John J. Gmiter Funeral Home, South Side. (DN) \n",
      "FLEMING, Howard Lee, 66, of South Park, died Oct. 15. Kegel Funeral Home, Finleyville, Washington County. (DN) \n",
      "GAMBLE, Albert R., 87, of Oakmont, died Oct. 17. James C. Stump Funeral Home, Rostraver. (DN) \n",
      "GIDDANS, Donald, of Wilkinsburg, died Oct. 17. Spriggs-Watson Funeral Home, Homewood. \n",
      "GOLDBERG, Elaine Unger, 73, of Squirrel Hill, died Oct. 14. Ralph Schugar Chapel, Shadyside. (DN) \n",
      "GREGO, Kimberly A., 40, of Millvale, died Oct. 16. Healy-Haun Funeral Home, Millvale. (DN) \n",
      "McCUE, Cletus, 67, of Lawrenceville, died Oct. 15. Daniel T. D'Alessandro Funeral Home, Lawrenceville. (DN) \n",
      "McMULLAN, Bernard L., 53, of Brookline, died Oct. 17. Beinhauer's, Beechview. (DN) \n",
      "10/16/01\n",
      "ACKLIN, William H., 88, of South Fayette, died Oct. 14. Eugene C. Coleman Funeral Home, Washington County. (DN) \n",
      "BEGLY, Laurel M., of Brookline, died Oct. 14. Beinhauer's, Beechview. (DN) \n",
      "BOCK, Albert J., 75, of Allentown, died Oct. 13. James J. Barry Jr. Funeral Home, Allentown. (DN) \n",
      "CARR, Alberta Weaver, of Etna, di\n"
     ]
    }
   ],
   "source": [
    "import os\n",
    "\n",
    "with open(os.path.join(\"..\",\"Resources\",\"obits.txt\")) as f0:\n",
    "    data = f0.read()\n",
    "print(data[:2200])\n",
    "\n",
    "\n",
    "\n",
    "\n"
   ]
  },
  {
   "cell_type": "code",
   "execution_count": 9,
   "metadata": {},
   "outputs": [
    {
     "data": {
      "text/plain": [
       "defaultdict(list,\n",
       "            {'10/16/01': [('ACKLIN',\n",
       "               ' William H.',\n",
       "               ' 88',\n",
       "               ' died Oct. 14. Eugene C. Coleman Funeral Home'),\n",
       "              ('BEGLY', ' Laurel M.', ' of Brookline', ' Beechview. (DN) \\n'),\n",
       "              ('BOCK',\n",
       "               ' Albert J.',\n",
       "               ' 75',\n",
       "               ' died Oct. 13. James J. Barry Jr. Funeral Home'),\n",
       "              ('CARR', ' Alberta Weaver', ' of Etna', ' Shaler. (DN) \\n'),\n",
       "              ('CHARNOCK', ' Ruth A.', ' of Avalon', ' Bellevue. (DN) \\n'),\n",
       "              ('CHINCHILLA', ' Cecilia C.', ' 74', ' Ambridge. (DN) \\n'),\n",
       "              ('CRATSA',\n",
       "               ' Steve',\n",
       "               ' 79',\n",
       "               ' died Oct. 14. Thomas D. English Funeral Home'),\n",
       "              ('CUNLIFFE',\n",
       "               ' Grace Stotler',\n",
       "               ' 72',\n",
       "               ' died Oct. 14. Maurice L. Knee Funeral Home'),\n",
       "              ('CUNNINGHAM',\n",
       "               ' Leo H.',\n",
       "               ' 55',\n",
       "               ' died Oct. 14. Schellhaas Funeral Home')],\n",
       "             '10/18/01': [('BAIRD',\n",
       "               ' Alice O.',\n",
       "               ' 96',\n",
       "               ' died Oct. 16. King Funeral Home'),\n",
       "              ('BECKER',\n",
       "               ' Patricia Joan',\n",
       "               ' 68',\n",
       "               ' died Oct. 16. King Funeral Home'),\n",
       "              ('BRAUN',\n",
       "               ' Justina F.',\n",
       "               ' 92',\n",
       "               ' died Oct. 15. McKees Rocks Funeral Home'),\n",
       "              ('BROWN', ' Dorothy C.', ' 77', ' East End. (DN) \\n'),\n",
       "              ('CHERNEGA',\n",
       "               ' Mary M.',\n",
       "               ' 83',\n",
       "               ' died Oct. 17. Patrick T. Lanigan Funeral Home'),\n",
       "              ('CLOUSE',\n",
       "               ' Walter J.',\n",
       "               ' 79',\n",
       "               ' died Oct. 17. Weddell-Ajak Funeral Home'),\n",
       "              ('DRURY',\n",
       "               ' Anna H.',\n",
       "               ' 93',\n",
       "               \" died Oct. 15. Daniel T. D'Alessandro Funeral Home\"),\n",
       "              ('DUBOSKY',\n",
       "               ' Mary Hotsur',\n",
       "               ' 85',\n",
       "               ' died Oct. 16. William Snyder Funeral Home. \\n'),\n",
       "              ('EWART', ' Arthur E.', ' of Penn Hill', ' Oakmont. (DN) \\n'),\n",
       "              ('FARKAS', ' Laura', ' of South Side', ' South Side. (DN) \\n'),\n",
       "              ('FLEMING',\n",
       "               ' Howard Lee',\n",
       "               ' 66',\n",
       "               ' died Oct. 15. Kegel Funeral Home'),\n",
       "              ('GAMBLE',\n",
       "               ' Albert R.',\n",
       "               ' 87',\n",
       "               ' died Oct. 17. James C. Stump Funeral Home'),\n",
       "              ('GIDDANS', ' Donald', ' of Wilkinsburg', ' Homewood. \\n'),\n",
       "              ('GOLDBERG',\n",
       "               ' Elaine Unger',\n",
       "               ' 73',\n",
       "               ' died Oct. 14. Ralph Schugar Chapel'),\n",
       "              ('GREGO',\n",
       "               ' Kimberly A.',\n",
       "               ' 40',\n",
       "               ' died Oct. 16. Healy-Haun Funeral Home'),\n",
       "              ('McCUE',\n",
       "               ' Cletus',\n",
       "               ' 67',\n",
       "               \" died Oct. 15. Daniel T. D'Alessandro Funeral Home\"),\n",
       "              ('McMULLAN',\n",
       "               ' Bernard L.',\n",
       "               ' 53',\n",
       "               \" died Oct. 17. Beinhauer's\")]})"
      ]
     },
     "execution_count": 9,
     "metadata": {},
     "output_type": "execute_result"
    }
   ],
   "source": [
    "#note, we're going to ignore the named tuple part (will review this in object oriented programming module)\n",
    "#we'll just use regular tuples\n",
    "\n",
    "#dictionary keyed by the date of the obituary. \n",
    "#values are lists with first name, last name, age, and date of death\n",
    "\n",
    "#check each line for date, split on commas, put into tuples\n",
    "#use a default dictionary so that every new key automatically has a certain format value\n",
    "\n",
    "from collections import defaultdict\n",
    "obits = defaultdict(list)\n",
    "with open(os.path.join(\"..\",\"Resources\",\"obits.txt\")) as f0:\n",
    "    for line in f0:\n",
    "        if line[0] in \"0123456789\":\n",
    "            key = line.strip()\n",
    "        else:\n",
    "            person = line.split(\",\")\n",
    "            try:\n",
    "                obits[key].append((person[0], person[1], person[2], person[4].strip())) \n",
    "            except IndexError:\n",
    "                pass\n",
    "            \n",
    "obits   \n",
    "#so when we look at this, we see that the data is not always in the format we expected\n",
    "#moral 1: data are messy\n",
    "#moral 2: don't do this the way we did it -- this is for regular expressions (in a couple weeks)"
   ]
  },
  {
   "cell_type": "markdown",
   "metadata": {},
   "source": [
    "## Exercise\n",
    "### Read in and parse the [FASTA file](https://en.wikipedia.org/wiki/FASTA_format) ``ex_ref.fasta``\n",
    "\n",
    "The result should be a dictionary keyed by the sequence id and the value being the sequence as a string."
   ]
  },
  {
   "cell_type": "code",
   "execution_count": null,
   "metadata": {
    "collapsed": true
   },
   "outputs": [],
   "source": [
    "with open(os.path.join(\"..\",\"Resources\",\"ex_ref.fasta\")) as f0: #creates paths in the right format for your os: goes up a directory, creates resources?\n",
    "    data = f0.read()\n",
    "print(data[:2200])"
   ]
  },
  {
   "cell_type": "code",
   "execution_count": null,
   "metadata": {
    "collapsed": true
   },
   "outputs": [],
   "source": [
    "#see the inclass file"
   ]
  }
 ],
 "metadata": {
  "anaconda-cloud": {},
  "kernelspec": {
   "display_name": "Python 3",
   "language": "python",
   "name": "python3"
  },
  "language_info": {
   "codemirror_mode": {
    "name": "ipython",
    "version": 3
   },
   "file_extension": ".py",
   "mimetype": "text/x-python",
   "name": "python",
   "nbconvert_exporter": "python",
   "pygments_lexer": "ipython3",
   "version": "3.5.2"
  }
 },
 "nbformat": 4,
 "nbformat_minor": 1
}
