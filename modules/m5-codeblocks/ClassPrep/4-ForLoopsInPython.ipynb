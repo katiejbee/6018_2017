{
 "cells": [
  {
   "cell_type": "code",
   "execution_count": null,
   "metadata": {
    "collapsed": true
   },
   "outputs": [],
   "source": [
    "from IPython.display import YouTubeVideo\n",
    "\n",
    "YouTubeVideo(\"FADosO0NlZ8\")"
   ]
  },
  {
   "cell_type": "markdown",
   "metadata": {
    "internals": {
     "slide_helper": "subslide_end",
     "slide_type": "subslide"
    },
    "slide_helper": "subslide_end",
    "slideshow": {
     "slide_type": "slide"
    }
   },
   "source": [
    "# Loops in Python"
   ]
  },
  {
   "cell_type": "markdown",
   "metadata": {
    "internals": {
     "slide_helper": "subslide_end",
     "slide_type": "subslide"
    },
    "slide_helper": "slide_end",
    "slideshow": {
     "slide_type": "subslide"
    }
   },
   "source": [
    "To explore loops and conditionals in more detail, we will use the ipythonblocks package to visualize the coding. ipythonblocks has an interface very similar to numpy arrays, so it will be a good lead in for more work with numpy.\n",
    "\n",
    "[Software Carpentry Lesson on Control Flow](http://software-carpentry.org/v4/python/flow.html)"
   ]
  },
  {
   "cell_type": "markdown",
   "metadata": {},
   "source": [
    "link above gives 404 error"
   ]
  },
  {
   "cell_type": "markdown",
   "metadata": {
    "internals": {
     "slide_helper": "subslide_end",
     "slide_type": "subslide"
    },
    "slide_helper": "subslide_end",
    "slideshow": {
     "slide_type": "slide"
    }
   },
   "source": [
    "# [for loops](https://docs.python.org/2/tutorial/controlflow.html#for-statements)\n",
    "* **for** loops iterate over the elements of a collection\n",
    "    * lists\n",
    "    * tuples \n",
    "    * dictionaries\n",
    "    * strings\n",
    "* generally any iterable object (like iterators)"
   ]
  },
  {
   "cell_type": "markdown",
   "metadata": {
    "internals": {
     "slide_helper": "subslide_end",
     "slide_type": "subslide"
    },
    "slide_helper": "subslide_end",
    "slideshow": {
     "slide_type": "subslide"
    }
   },
   "source": [
    "## ``for`` loops and Dictionaries\n",
    "* Looping over dictionaries, is equivalent to looping over the keys of the dictionary.\n",
    "* Can loop over ``keys``, ``values``, and ``items``"
   ]
  },
  {
   "cell_type": "code",
   "execution_count": 1,
   "metadata": {},
   "outputs": [
    {
     "name": "stdout",
     "output_type": "stream",
     "text": [
      "WBC\n",
      "Lymphocytes\n",
      "HCT\n",
      "RBC\n",
      "Hgb\n"
     ]
    }
   ],
   "source": [
    "cbc = {'WBC':5.9,'RBC':5.23,'Hgb':15.9,'HCT':45.5,'Lymphocytes':32}\n",
    "\n",
    "for value in cbc:\n",
    "    print(value)\n",
    "    "
   ]
  },
  {
   "cell_type": "code",
   "execution_count": 2,
   "metadata": {
    "internals": {
     "slide_helper": "subslide_end",
     "slide_type": "subslide"
    },
    "slide_helper": "subslide_end",
    "slideshow": {
     "slide_type": "subslide"
    }
   },
   "outputs": [
    {
     "name": "stdout",
     "output_type": "stream",
     "text": [
      "WBC=5.900000\n",
      "Lymphocytes=32.000000\n",
      "HCT=45.500000\n",
      "RBC=5.230000\n",
      "Hgb=15.900000\n"
     ]
    }
   ],
   "source": [
    "# This is iterating over a list of two-tuples that are unpacked into two variables\n",
    "for test,value in cbc.items():\n",
    "    print(\"%s=%f\"%(test,value))"
   ]
  },
  {
   "cell_type": "markdown",
   "metadata": {},
   "source": [
    "### ``for`` loops and sets, strings, tuples, and lists\n",
    "\n",
    "* Kind of all the same"
   ]
  },
  {
   "cell_type": "code",
   "execution_count": 3,
   "metadata": {
    "internals": {
     "slide_helper": "subslide_end",
     "slide_type": "subslide"
    },
    "slide_helper": "subslide_end",
    "slideshow": {
     "slide_type": "subslide"
    }
   },
   "outputs": [
    {
     "name": "stdout",
     "output_type": "stream",
     "text": [
      "1\n",
      "2\n",
      "3\n",
      "4\n"
     ]
    }
   ],
   "source": [
    "# iterating over a set\n",
    "for i in {1,2,3,3,3,4}:\n",
    "    print(i)"
   ]
  },
  {
   "cell_type": "code",
   "execution_count": 4,
   "metadata": {
    "internals": {
     "slide_helper": "subslide_end",
     "slide_type": "subslide"
    },
    "slide_helper": "subslide_end",
    "slideshow": {
     "slide_type": "subslide"
    }
   },
   "outputs": [
    {
     "name": "stdout",
     "output_type": "stream",
     "text": [
      "T\n",
      "G\n",
      "C\n",
      "T\n",
      "A\n",
      "C\n",
      "G\n",
      "G\n",
      "G\n",
      "T\n",
      "G\n",
      "T\n",
      "C\n",
      "T\n",
      "A\n",
      "C\n",
      "C\n",
      "G\n",
      "T\n",
      "A\n",
      "A\n",
      "G\n",
      "C\n",
      "A\n",
      "C\n",
      "G\n",
      "C\n",
      "C\n",
      "T\n",
      "T\n",
      "T\n",
      "A\n",
      "C\n",
      "C\n",
      "T\n",
      "C\n",
      "G\n",
      "T\n",
      "G\n",
      "C\n",
      "A\n",
      "A\n",
      "A\n",
      "T\n",
      "G\n",
      "A\n",
      "C\n",
      "T\n",
      "T\n",
      "T\n",
      "C\n",
      "C\n",
      "A\n"
     ]
    }
   ],
   "source": [
    "# iterating over a string\n",
    "seq = \"TGCTACGGGTGTCTACCGTAAGCACGCCTTTACCTCGTGCAAATGACTTTCCA\"\n",
    "for b in seq:\n",
    "    print(b)"
   ]
  },
  {
   "cell_type": "code",
   "execution_count": 5,
   "metadata": {},
   "outputs": [
    {
     "name": "stdout",
     "output_type": "stream",
     "text": [
      "violin\n",
      "viola\n",
      "trumpet\n",
      "cello\n",
      "flute\n"
     ]
    }
   ],
   "source": [
    "# iterating for a list\n",
    "\n",
    "for instrument in ['violin','viola','trumpet','cello','flute']:\n",
    "    print(instrument)"
   ]
  },
  {
   "cell_type": "code",
   "execution_count": 6,
   "metadata": {
    "collapsed": true
   },
   "outputs": [],
   "source": [
    "report = list(\"\"\"PROCEDURE AND FINDINGS: The risks and benefits were explained to the patient\n",
    "     and consent was obtained. The patient was placed supine on the angiographic\n",
    "     table and the right arm was prepped and draped in sterile fashion. Local\n",
    "     anesthesia using 1% Lidocaine was applied to the puncture site. Under\n",
    "     sonographic guidance, the left cephalic vein near the arteriovenous fistula\n",
    "     was accessed using a 21 gauge needle and an 0.018 wire was placed into the\n",
    "     vein toward the venous side. The needle was exchanged for a micropuncture\n",
    "     sheath which was connected to the power injector.\n",
    "     AV fistulogram was performed along the course of the cephalic vein to the\n",
    "     level of the right atrium. The venograms demonstrated a focal stenosis in the\n",
    "     dilated cephalic vein at the level of the mid arm and also confirmed the\n",
    "     known, severe stenosis of the superior vena cava (SVC). There is a left\n",
    "     internal jugular dialysis catheter with its tip in the SVC. This might be\n",
    "     related to the development of the stenosis. No intrathoracic collateral is\n",
    "     seen; there is, however, collateral filling from the left mid-arm towards the\n",
    "     axilla and then left lateral thoracic wall caudally.\n",
    "     Pressure measurements were performed through a 5-French straight catheter.\n",
    "     They demonstrated mean pressures of 13 mmHg in the right atrium and 31 mmHg in\n",
    "     the left brachiocephalic vein (i.e., gradient of 18 mmHg).\n",
    "     A pressure cuff was insufflated over the upper arm and a venogram was\n",
    "     repeated. It revealed patency of the arteriovenous anastomosis and the\n",
    "     brachial artery proximally and distally to the anastomosis with no significant\n",
    "     stenosis.\"\"\".split())\n"
   ]
  },
  {
   "cell_type": "code",
   "execution_count": 7,
   "metadata": {},
   "outputs": [
    {
     "name": "stdout",
     "output_type": "stream",
     "text": [
      "0 PROCEDURE\n",
      "1 AND\n",
      "2 FINDINGS:\n",
      "3 The\n",
      "4 risks\n",
      "5 and\n",
      "6 benefits\n",
      "7 were\n",
      "8 explained\n",
      "9 to\n",
      "10 the\n",
      "11 patient\n",
      "12 and\n",
      "13 consent\n",
      "14 was\n",
      "15 obtained.\n",
      "16 The\n",
      "17 patient\n",
      "18 was\n",
      "19 placed\n"
     ]
    }
   ],
   "source": [
    "for i in range(len(report))[0:20]:\n",
    "    print(i,report[i])"
   ]
  },
  {
   "cell_type": "markdown",
   "metadata": {},
   "source": [
    "### Comparing Looping in Python to \"Vector\" operations in Numpy"
   ]
  },
  {
   "cell_type": "code",
   "execution_count": 8,
   "metadata": {
    "collapsed": true
   },
   "outputs": [],
   "source": [
    "import numpy as np"
   ]
  },
  {
   "cell_type": "code",
   "execution_count": 9,
   "metadata": {
    "collapsed": true
   },
   "outputs": [],
   "source": [
    "def f1(n):\n",
    "    sum = 0\n",
    "    for i in range(n):\n",
    "        sum += i\n",
    "    return sum\n",
    "\n",
    "def f2(n):\n",
    "    return np.sum(np.arange(n,dtype=np.uint64))"
   ]
  },
  {
   "cell_type": "code",
   "execution_count": null,
   "metadata": {
    "collapsed": true,
    "internals": {
     "frag_helper": "fragment_end",
     "frag_number": 23,
     "slide_helper": "subslide_end"
    },
    "slide_helper": "slide_end",
    "slideshow": {
     "slide_type": "-"
    }
   },
   "outputs": [],
   "source": [
    "%timeit f1(10000) # A possible way to freeze your computer"
   ]
  },
  {
   "cell_type": "code",
   "execution_count": null,
   "metadata": {
    "collapsed": true,
    "internals": {
     "frag_helper": "fragment_end",
     "frag_number": 32,
     "slide_helper": "subslide_end"
    },
    "slide_helper": "slide_end",
    "slideshow": {
     "slide_type": "-"
    }
   },
   "outputs": [],
   "source": [
    "%timeit f2(10000)"
   ]
  },
  {
   "cell_type": "code",
   "execution_count": null,
   "metadata": {
    "collapsed": true
   },
   "outputs": [],
   "source": [
    "%timeit sum(range(10000))"
   ]
  },
  {
   "cell_type": "markdown",
   "metadata": {},
   "source": [
    "### Loops in Python are Slow. If possible, we want to do \"vector\" operations to acheive better speed"
   ]
  },
  {
   "cell_type": "code",
   "execution_count": null,
   "metadata": {
    "collapsed": true
   },
   "outputs": [],
   "source": []
  }
 ],
 "metadata": {
  "kernelspec": {
   "display_name": "Python 3",
   "language": "python",
   "name": "python3"
  },
  "language_info": {
   "codemirror_mode": {
    "name": "ipython",
    "version": 3
   },
   "file_extension": ".py",
   "mimetype": "text/x-python",
   "name": "python",
   "nbconvert_exporter": "python",
   "pygments_lexer": "ipython3",
   "version": "3.5.2"
  }
 },
 "nbformat": 4,
 "nbformat_minor": 1
}
