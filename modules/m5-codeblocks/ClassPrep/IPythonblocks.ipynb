{
 "cells": [
  {
   "cell_type": "markdown",
   "metadata": {
    "internals": {
     "slide_helper": "subslide_end",
     "slide_type": "subslide"
    },
    "slide_helper": "subslide_end",
    "slideshow": {
     "slide_type": "slide"
    }
   },
   "source": [
    "# Loops in Python"
   ]
  },
  {
   "cell_type": "markdown",
   "metadata": {
    "internals": {
     "slide_helper": "subslide_end",
     "slide_type": "subslide"
    },
    "slide_helper": "slide_end",
    "slideshow": {
     "slide_type": "subslide"
    }
   },
   "source": [
    "To explore loops and conditionals in more detail, we will use the ipythonblocks package to visualize the coding. ipythonblocks has an interface very similar to numpy arrays, so it will be a good lead in for more work with numpy.\n",
    "\n",
    "[Software Carpentry Lesson on Control Flow](http://software-carpentry.org/v4/python/flow.html)"
   ]
  },
  {
   "cell_type": "markdown",
   "metadata": {
    "internals": {
     "slide_helper": "subslide_end",
     "slide_type": "subslide"
    },
    "slide_helper": "subslide_end",
    "slideshow": {
     "slide_type": "slide"
    }
   },
   "source": [
    "# Using [IPythonblocks](http://ipythonblocks.org/)\n",
    "## The IPythonblocks has a lot of fun examples of exploring loops using [block art](http://nbviewer.jupyter.org/github/jiffyclub/ipythonblocks/blob/master/demos/ipythonblocks_fun.ipynb)"
   ]
  },
  {
   "cell_type": "markdown",
   "metadata": {
    "internals": {
     "slide_helper": "subslide_end",
     "slide_type": "subslide"
    },
    "slide_helper": "subslide_end",
    "slideshow": {
     "slide_type": "subslide"
    }
   },
   "source": [
    "## First, let's make a BlockGrid. \n",
    "* Each BlockGrid consists of an array of blocks. \n",
    "* Each block has a \n",
    "    * size (height and width) and \n",
    "    * color (red, green, blue) encoded with values from 0-255.\n",
    "    * location"
   ]
  },
  {
   "cell_type": "code",
   "execution_count": 1,
   "metadata": {
    "collapsed": true,
    "internals": {
     "slide_helper": "subslide_end",
     "slide_type": "subslide"
    },
    "slide_helper": "subslide_end",
    "slideshow": {
     "slide_type": "subslide"
    }
   },
   "outputs": [],
   "source": [
    "from ipythonblocks import BlockGrid\n",
    "from IPython.display import clear_output\n",
    "import time\n",
    "import random"
   ]
  },
  {
   "cell_type": "markdown",
   "metadata": {},
   "source": [
    "[Color2RGB Lookup](http://www.procato.com/rgbfind/)"
   ]
  },
  {
   "cell_type": "markdown",
   "metadata": {},
   "source": [
    "## Using blocks to illustrate ``for`` loops\n",
    "\n",
    "### Here we are going to iterate over the elements of a grid."
   ]
  },
  {
   "cell_type": "code",
   "execution_count": 2,
   "metadata": {},
   "outputs": [
    {
     "data": {
      "text/html": [
       "<style type=\"text/css\">table.blockgrid {border: none;} .blockgrid tr {border: none;} .blockgrid td {padding: 0px;} #blocks54947d1a-04dd-445e-9aff-7f3d2b1705bb td {border: 1px solid white;}</style><table id=\"blocks54947d1a-04dd-445e-9aff-7f3d2b1705bb\" class=\"blockgrid\"><tbody><tr><td title=\"Index: [0, 0]&#10;Color: (0, 49, 83)\" style=\"width: 20px; height: 20px;background-color: rgb(0, 49, 83);\"></td><td title=\"Index: [0, 1]&#10;Color: (0, 49, 83)\" style=\"width: 20px; height: 20px;background-color: rgb(0, 49, 83);\"></td><td title=\"Index: [0, 2]&#10;Color: (0, 49, 83)\" style=\"width: 20px; height: 20px;background-color: rgb(0, 49, 83);\"></td><td title=\"Index: [0, 3]&#10;Color: (0, 49, 83)\" style=\"width: 20px; height: 20px;background-color: rgb(0, 49, 83);\"></td><td title=\"Index: [0, 4]&#10;Color: (0, 49, 83)\" style=\"width: 20px; height: 20px;background-color: rgb(0, 49, 83);\"></td><td title=\"Index: [0, 5]&#10;Color: (0, 49, 83)\" style=\"width: 20px; height: 20px;background-color: rgb(0, 49, 83);\"></td></tr><tr><td title=\"Index: [1, 0]&#10;Color: (207, 145, 42)\" style=\"width: 20px; height: 20px;background-color: rgb(207, 145, 42);\"></td><td title=\"Index: [1, 1]&#10;Color: (207, 145, 42)\" style=\"width: 20px; height: 20px;background-color: rgb(207, 145, 42);\"></td><td title=\"Index: [1, 2]&#10;Color: (207, 145, 42)\" style=\"width: 20px; height: 20px;background-color: rgb(207, 145, 42);\"></td><td title=\"Index: [1, 3]&#10;Color: (207, 145, 42)\" style=\"width: 20px; height: 20px;background-color: rgb(207, 145, 42);\"></td><td title=\"Index: [1, 4]&#10;Color: (207, 145, 42)\" style=\"width: 20px; height: 20px;background-color: rgb(207, 145, 42);\"></td><td title=\"Index: [1, 5]&#10;Color: (207, 145, 42)\" style=\"width: 20px; height: 20px;background-color: rgb(207, 145, 42);\"></td></tr><tr><td title=\"Index: [2, 0]&#10;Color: (0, 49, 83)\" style=\"width: 20px; height: 20px;background-color: rgb(0, 49, 83);\"></td><td title=\"Index: [2, 1]&#10;Color: (0, 49, 83)\" style=\"width: 20px; height: 20px;background-color: rgb(0, 49, 83);\"></td><td title=\"Index: [2, 2]&#10;Color: (0, 49, 83)\" style=\"width: 20px; height: 20px;background-color: rgb(0, 49, 83);\"></td><td title=\"Index: [2, 3]&#10;Color: (0, 49, 83)\" style=\"width: 20px; height: 20px;background-color: rgb(0, 49, 83);\"></td><td title=\"Index: [2, 4]&#10;Color: (0, 49, 83)\" style=\"width: 20px; height: 20px;background-color: rgb(0, 49, 83);\"></td><td title=\"Index: [2, 5]&#10;Color: (0, 49, 83)\" style=\"width: 20px; height: 20px;background-color: rgb(0, 49, 83);\"></td></tr><tr><td title=\"Index: [3, 0]&#10;Color: (207, 145, 42)\" style=\"width: 20px; height: 20px;background-color: rgb(207, 145, 42);\"></td><td title=\"Index: [3, 1]&#10;Color: (207, 145, 42)\" style=\"width: 20px; height: 20px;background-color: rgb(207, 145, 42);\"></td><td title=\"Index: [3, 2]&#10;Color: (207, 145, 42)\" style=\"width: 20px; height: 20px;background-color: rgb(207, 145, 42);\"></td><td title=\"Index: [3, 3]&#10;Color: (207, 145, 42)\" style=\"width: 20px; height: 20px;background-color: rgb(207, 145, 42);\"></td><td title=\"Index: [3, 4]&#10;Color: (207, 145, 42)\" style=\"width: 20px; height: 20px;background-color: rgb(207, 145, 42);\"></td><td title=\"Index: [3, 5]&#10;Color: (207, 145, 42)\" style=\"width: 20px; height: 20px;background-color: rgb(207, 145, 42);\"></td></tr><tr><td title=\"Index: [4, 0]&#10;Color: (0, 49, 83)\" style=\"width: 20px; height: 20px;background-color: rgb(0, 49, 83);\"></td><td title=\"Index: [4, 1]&#10;Color: (0, 49, 83)\" style=\"width: 20px; height: 20px;background-color: rgb(0, 49, 83);\"></td><td title=\"Index: [4, 2]&#10;Color: (0, 49, 83)\" style=\"width: 20px; height: 20px;background-color: rgb(0, 49, 83);\"></td><td title=\"Index: [4, 3]&#10;Color: (0, 49, 83)\" style=\"width: 20px; height: 20px;background-color: rgb(0, 49, 83);\"></td><td title=\"Index: [4, 4]&#10;Color: (0, 49, 83)\" style=\"width: 20px; height: 20px;background-color: rgb(0, 49, 83);\"></td><td title=\"Index: [4, 5]&#10;Color: (0, 49, 83)\" style=\"width: 20px; height: 20px;background-color: rgb(0, 49, 83);\"></td></tr><tr><td title=\"Index: [5, 0]&#10;Color: (207, 145, 42)\" style=\"width: 20px; height: 20px;background-color: rgb(207, 145, 42);\"></td><td title=\"Index: [5, 1]&#10;Color: (207, 145, 42)\" style=\"width: 20px; height: 20px;background-color: rgb(207, 145, 42);\"></td><td title=\"Index: [5, 2]&#10;Color: (207, 145, 42)\" style=\"width: 20px; height: 20px;background-color: rgb(207, 145, 42);\"></td><td title=\"Index: [5, 3]&#10;Color: (207, 145, 42)\" style=\"width: 20px; height: 20px;background-color: rgb(207, 145, 42);\"></td><td title=\"Index: [5, 4]&#10;Color: (207, 145, 42)\" style=\"width: 20px; height: 20px;background-color: rgb(207, 145, 42);\"></td><td title=\"Index: [5, 5]&#10;Color: (207, 145, 42)\" style=\"width: 20px; height: 20px;background-color: rgb(207, 145, 42);\"></td></tr></tbody></table>"
      ],
      "text/plain": [
       "<IPython.core.display.HTML object>"
      ]
     },
     "metadata": {},
     "output_type": "display_data"
    },
    {
     "name": "stdout",
     "output_type": "stream",
     "text": [
      "Block [5, 5]\n",
      "Color: (207, 145, 42)\n"
     ]
    }
   ],
   "source": [
    "grid = BlockGrid(6, 6, fill=(250, 218, 94)) \n",
    "grid.show()\n",
    "for block in grid:\n",
    "    clear_output()\n",
    "    if block.row % 2 == 0 :#and block.col % 2 == 0:\n",
    "        block.red = 0\n",
    "        block.green = 49\n",
    "        block.blue = 83\n",
    "    else:\n",
    "        block.red = 207 \n",
    "        block.green = 145 \n",
    "        block.blue = 42\n",
    "    grid.show()\n",
    "    print(block)\n",
    "    time.sleep(0.55)\n",
    "\n"
   ]
  },
  {
   "cell_type": "code",
   "execution_count": 3,
   "metadata": {},
   "outputs": [
    {
     "data": {
      "text/html": [
       "<style type=\"text/css\">table.blockgrid {border: none;} .blockgrid tr {border: none;} .blockgrid td {padding: 0px;} #blockse069b34a-fa72-4334-af92-f954e37a9e31 td {border: 1px solid white;}</style><table id=\"blockse069b34a-fa72-4334-af92-f954e37a9e31\" class=\"blockgrid\"><tbody><tr><td title=\"Index: [0, 0]&#10;Color: (0, 49, 83)\" style=\"width: 20px; height: 20px;background-color: rgb(0, 49, 83);\"></td><td title=\"Index: [0, 1]&#10;Color: (50, 205, 50)\" style=\"width: 20px; height: 20px;background-color: rgb(50, 205, 50);\"></td><td title=\"Index: [0, 2]&#10;Color: (0, 49, 83)\" style=\"width: 20px; height: 20px;background-color: rgb(0, 49, 83);\"></td><td title=\"Index: [0, 3]&#10;Color: (50, 205, 50)\" style=\"width: 20px; height: 20px;background-color: rgb(50, 205, 50);\"></td><td title=\"Index: [0, 4]&#10;Color: (0, 49, 83)\" style=\"width: 20px; height: 20px;background-color: rgb(0, 49, 83);\"></td></tr><tr><td title=\"Index: [1, 0]&#10;Color: (50, 205, 50)\" style=\"width: 20px; height: 20px;background-color: rgb(50, 205, 50);\"></td><td title=\"Index: [1, 1]&#10;Color: (0, 49, 83)\" style=\"width: 20px; height: 20px;background-color: rgb(0, 49, 83);\"></td><td title=\"Index: [1, 2]&#10;Color: (50, 205, 50)\" style=\"width: 20px; height: 20px;background-color: rgb(50, 205, 50);\"></td><td title=\"Index: [1, 3]&#10;Color: (0, 49, 83)\" style=\"width: 20px; height: 20px;background-color: rgb(0, 49, 83);\"></td><td title=\"Index: [1, 4]&#10;Color: (50, 205, 50)\" style=\"width: 20px; height: 20px;background-color: rgb(50, 205, 50);\"></td></tr><tr><td title=\"Index: [2, 0]&#10;Color: (0, 49, 83)\" style=\"width: 20px; height: 20px;background-color: rgb(0, 49, 83);\"></td><td title=\"Index: [2, 1]&#10;Color: (50, 205, 50)\" style=\"width: 20px; height: 20px;background-color: rgb(50, 205, 50);\"></td><td title=\"Index: [2, 2]&#10;Color: (0, 49, 83)\" style=\"width: 20px; height: 20px;background-color: rgb(0, 49, 83);\"></td><td title=\"Index: [2, 3]&#10;Color: (50, 205, 50)\" style=\"width: 20px; height: 20px;background-color: rgb(50, 205, 50);\"></td><td title=\"Index: [2, 4]&#10;Color: (0, 49, 83)\" style=\"width: 20px; height: 20px;background-color: rgb(0, 49, 83);\"></td></tr><tr><td title=\"Index: [3, 0]&#10;Color: (50, 205, 50)\" style=\"width: 20px; height: 20px;background-color: rgb(50, 205, 50);\"></td><td title=\"Index: [3, 1]&#10;Color: (0, 49, 83)\" style=\"width: 20px; height: 20px;background-color: rgb(0, 49, 83);\"></td><td title=\"Index: [3, 2]&#10;Color: (50, 205, 50)\" style=\"width: 20px; height: 20px;background-color: rgb(50, 205, 50);\"></td><td title=\"Index: [3, 3]&#10;Color: (0, 49, 83)\" style=\"width: 20px; height: 20px;background-color: rgb(0, 49, 83);\"></td><td title=\"Index: [3, 4]&#10;Color: (50, 205, 50)\" style=\"width: 20px; height: 20px;background-color: rgb(50, 205, 50);\"></td></tr><tr><td title=\"Index: [4, 0]&#10;Color: (0, 49, 83)\" style=\"width: 20px; height: 20px;background-color: rgb(0, 49, 83);\"></td><td title=\"Index: [4, 1]&#10;Color: (50, 205, 50)\" style=\"width: 20px; height: 20px;background-color: rgb(50, 205, 50);\"></td><td title=\"Index: [4, 2]&#10;Color: (0, 49, 83)\" style=\"width: 20px; height: 20px;background-color: rgb(0, 49, 83);\"></td><td title=\"Index: [4, 3]&#10;Color: (50, 205, 50)\" style=\"width: 20px; height: 20px;background-color: rgb(50, 205, 50);\"></td><td title=\"Index: [4, 4]&#10;Color: (0, 49, 83)\" style=\"width: 20px; height: 20px;background-color: rgb(0, 49, 83);\"></td></tr></tbody></table>"
      ],
      "text/plain": [
       "<IPython.core.display.HTML object>"
      ]
     },
     "metadata": {},
     "output_type": "display_data"
    },
    {
     "name": "stdout",
     "output_type": "stream",
     "text": [
      "Block [4, 4]\n",
      "Color: (0, 49, 83)\n"
     ]
    }
   ],
   "source": [
    "grid = BlockGrid(5, 5, fill=(250, 218, 94)) \n",
    "\n",
    "for block in grid:\n",
    "    clear_output()\n",
    "    if block.row % 2 == block.col % 2:\n",
    "        block.red = 0\n",
    "        block.green = 49\n",
    "        block.blue = 83\n",
    "    else:\n",
    "        block.red = 50\n",
    "        block.green = 205\n",
    "        block.blue = 50\n",
    "        \n",
    "    grid.show()\n",
    "    print(block)\n",
    "    time.sleep(0.75)\n",
    "    "
   ]
  },
  {
   "cell_type": "markdown",
   "metadata": {},
   "source": [
    "### Loop over the grid and redraw with random colors"
   ]
  },
  {
   "cell_type": "code",
   "execution_count": 4,
   "metadata": {},
   "outputs": [
    {
     "data": {
      "text/html": [
       "<style type=\"text/css\">table.blockgrid {border: none;} .blockgrid tr {border: none;} .blockgrid td {padding: 0px;} #blocks781f7c5d-e514-42bc-9221-12b34cb46aa3 td {border: 1px solid white;}</style><table id=\"blocks781f7c5d-e514-42bc-9221-12b34cb46aa3\" class=\"blockgrid\"><tbody><tr><td title=\"Index: [0, 0]&#10;Color: (58, 200, 122)\" style=\"width: 20px; height: 20px;background-color: rgb(58, 200, 122);\"></td><td title=\"Index: [0, 1]&#10;Color: (53, 68, 59)\" style=\"width: 20px; height: 20px;background-color: rgb(53, 68, 59);\"></td><td title=\"Index: [0, 2]&#10;Color: (183, 139, 134)\" style=\"width: 20px; height: 20px;background-color: rgb(183, 139, 134);\"></td><td title=\"Index: [0, 3]&#10;Color: (36, 55, 173)\" style=\"width: 20px; height: 20px;background-color: rgb(36, 55, 173);\"></td><td title=\"Index: [0, 4]&#10;Color: (81, 91, 205)\" style=\"width: 20px; height: 20px;background-color: rgb(81, 91, 205);\"></td></tr><tr><td title=\"Index: [1, 0]&#10;Color: (47, 122, 77)\" style=\"width: 20px; height: 20px;background-color: rgb(47, 122, 77);\"></td><td title=\"Index: [1, 1]&#10;Color: (21, 118, 252)\" style=\"width: 20px; height: 20px;background-color: rgb(21, 118, 252);\"></td><td title=\"Index: [1, 2]&#10;Color: (212, 166, 96)\" style=\"width: 20px; height: 20px;background-color: rgb(212, 166, 96);\"></td><td title=\"Index: [1, 3]&#10;Color: (37, 138, 20)\" style=\"width: 20px; height: 20px;background-color: rgb(37, 138, 20);\"></td><td title=\"Index: [1, 4]&#10;Color: (66, 102, 75)\" style=\"width: 20px; height: 20px;background-color: rgb(66, 102, 75);\"></td></tr><tr><td title=\"Index: [2, 0]&#10;Color: (123, 132, 197)\" style=\"width: 20px; height: 20px;background-color: rgb(123, 132, 197);\"></td><td title=\"Index: [2, 1]&#10;Color: (42, 56, 203)\" style=\"width: 20px; height: 20px;background-color: rgb(42, 56, 203);\"></td><td title=\"Index: [2, 2]&#10;Color: (40, 13, 249)\" style=\"width: 20px; height: 20px;background-color: rgb(40, 13, 249);\"></td><td title=\"Index: [2, 3]&#10;Color: (19, 160, 35)\" style=\"width: 20px; height: 20px;background-color: rgb(19, 160, 35);\"></td><td title=\"Index: [2, 4]&#10;Color: (165, 155, 42)\" style=\"width: 20px; height: 20px;background-color: rgb(165, 155, 42);\"></td></tr><tr><td title=\"Index: [3, 0]&#10;Color: (110, 214, 68)\" style=\"width: 20px; height: 20px;background-color: rgb(110, 214, 68);\"></td><td title=\"Index: [3, 1]&#10;Color: (107, 74, 156)\" style=\"width: 20px; height: 20px;background-color: rgb(107, 74, 156);\"></td><td title=\"Index: [3, 2]&#10;Color: (3, 226, 23)\" style=\"width: 20px; height: 20px;background-color: rgb(3, 226, 23);\"></td><td title=\"Index: [3, 3]&#10;Color: (238, 248, 134)\" style=\"width: 20px; height: 20px;background-color: rgb(238, 248, 134);\"></td><td title=\"Index: [3, 4]&#10;Color: (38, 82, 100)\" style=\"width: 20px; height: 20px;background-color: rgb(38, 82, 100);\"></td></tr><tr><td title=\"Index: [4, 0]&#10;Color: (206, 134, 195)\" style=\"width: 20px; height: 20px;background-color: rgb(206, 134, 195);\"></td><td title=\"Index: [4, 1]&#10;Color: (43, 183, 201)\" style=\"width: 20px; height: 20px;background-color: rgb(43, 183, 201);\"></td><td title=\"Index: [4, 2]&#10;Color: (220, 95, 192)\" style=\"width: 20px; height: 20px;background-color: rgb(220, 95, 192);\"></td><td title=\"Index: [4, 3]&#10;Color: (25, 16, 238)\" style=\"width: 20px; height: 20px;background-color: rgb(25, 16, 238);\"></td><td title=\"Index: [4, 4]&#10;Color: (124, 57, 16)\" style=\"width: 20px; height: 20px;background-color: rgb(124, 57, 16);\"></td></tr></tbody></table>"
      ],
      "text/plain": [
       "<IPython.core.display.HTML object>"
      ]
     },
     "metadata": {},
     "output_type": "display_data"
    },
    {
     "name": "stdout",
     "output_type": "stream",
     "text": [
      "Block [4, 4]\n",
      "Color: (124, 57, 16)\n"
     ]
    }
   ],
   "source": [
    "grid = BlockGrid(5, 5, fill=(250, 218, 94)) \n",
    "\n",
    "for block in grid:\n",
    "    clear_output()\n",
    "    \n",
    "    block.red = random.randint(0,256)\n",
    "    block.green = random.randint(0,256)\n",
    "    block.blue = random.randint(0,256)\n",
    "    \n",
    "    grid.show()\n",
    "    print(block)\n",
    "    time.sleep(0.75)\n",
    "    "
   ]
  },
  {
   "cell_type": "markdown",
   "metadata": {
    "internals": {
     "frag_helper": "fragment_end",
     "frag_number": 23,
     "slide_type": "subslide"
    },
    "slideshow": {
     "slide_type": "subslide"
    }
   },
   "source": [
    "# for loop and ``range``\n",
    "* [**``range()``**](https://docs.python.org/3/library/functions.html#func-range) creates an iterator of numbers\n",
    "    * Behaves similar to a list without having to allocate a (potentially) large chunk of memory.\n",
    "* Loops can also be nested.\n",
    "\n",
    "Here is a common example of using nested for loops to loop across an image. One loop moves us across the rows, the other moves us across the columns"
   ]
  },
  {
   "cell_type": "code",
   "execution_count": 5,
   "metadata": {},
   "outputs": [
    {
     "data": {
      "text/html": [
       "<style type=\"text/css\">table.blockgrid {border: none;} .blockgrid tr {border: none;} .blockgrid td {padding: 0px;} #blocks5366afd7-cd89-4c91-ac8a-e9a246a4fd5b td {border: 1px solid white;}</style><table id=\"blocks5366afd7-cd89-4c91-ac8a-e9a246a4fd5b\" class=\"blockgrid\"><tbody><tr><td title=\"Index: [0, 0]&#10;Color: (58, 200, 122)\" style=\"width: 20px; height: 20px;background-color: rgb(58, 200, 122);\"></td><td title=\"Index: [0, 1]&#10;Color: (53, 68, 59)\" style=\"width: 20px; height: 20px;background-color: rgb(53, 68, 59);\"></td><td title=\"Index: [0, 2]&#10;Color: (183, 139, 134)\" style=\"width: 20px; height: 20px;background-color: rgb(183, 139, 134);\"></td><td title=\"Index: [0, 3]&#10;Color: (36, 55, 173)\" style=\"width: 20px; height: 20px;background-color: rgb(36, 55, 173);\"></td><td title=\"Index: [0, 4]&#10;Color: (81, 91, 205)\" style=\"width: 20px; height: 20px;background-color: rgb(81, 91, 205);\"></td></tr><tr><td title=\"Index: [1, 0]&#10;Color: (47, 122, 77)\" style=\"width: 20px; height: 20px;background-color: rgb(47, 122, 77);\"></td><td title=\"Index: [1, 1]&#10;Color: (21, 118, 252)\" style=\"width: 20px; height: 20px;background-color: rgb(21, 118, 252);\"></td><td title=\"Index: [1, 2]&#10;Color: (212, 166, 96)\" style=\"width: 20px; height: 20px;background-color: rgb(212, 166, 96);\"></td><td title=\"Index: [1, 3]&#10;Color: (37, 138, 20)\" style=\"width: 20px; height: 20px;background-color: rgb(37, 138, 20);\"></td><td title=\"Index: [1, 4]&#10;Color: (66, 102, 75)\" style=\"width: 20px; height: 20px;background-color: rgb(66, 102, 75);\"></td></tr><tr><td title=\"Index: [2, 0]&#10;Color: (123, 132, 197)\" style=\"width: 20px; height: 20px;background-color: rgb(123, 132, 197);\"></td><td title=\"Index: [2, 1]&#10;Color: (42, 56, 203)\" style=\"width: 20px; height: 20px;background-color: rgb(42, 56, 203);\"></td><td title=\"Index: [2, 2]&#10;Color: (40, 13, 249)\" style=\"width: 20px; height: 20px;background-color: rgb(40, 13, 249);\"></td><td title=\"Index: [2, 3]&#10;Color: (19, 160, 35)\" style=\"width: 20px; height: 20px;background-color: rgb(19, 160, 35);\"></td><td title=\"Index: [2, 4]&#10;Color: (165, 155, 42)\" style=\"width: 20px; height: 20px;background-color: rgb(165, 155, 42);\"></td></tr><tr><td title=\"Index: [3, 0]&#10;Color: (110, 214, 68)\" style=\"width: 20px; height: 20px;background-color: rgb(110, 214, 68);\"></td><td title=\"Index: [3, 1]&#10;Color: (107, 74, 156)\" style=\"width: 20px; height: 20px;background-color: rgb(107, 74, 156);\"></td><td title=\"Index: [3, 2]&#10;Color: (3, 226, 23)\" style=\"width: 20px; height: 20px;background-color: rgb(3, 226, 23);\"></td><td title=\"Index: [3, 3]&#10;Color: (238, 248, 134)\" style=\"width: 20px; height: 20px;background-color: rgb(238, 248, 134);\"></td><td title=\"Index: [3, 4]&#10;Color: (38, 82, 100)\" style=\"width: 20px; height: 20px;background-color: rgb(38, 82, 100);\"></td></tr><tr><td title=\"Index: [4, 0]&#10;Color: (206, 134, 195)\" style=\"width: 20px; height: 20px;background-color: rgb(206, 134, 195);\"></td><td title=\"Index: [4, 1]&#10;Color: (43, 183, 201)\" style=\"width: 20px; height: 20px;background-color: rgb(43, 183, 201);\"></td><td title=\"Index: [4, 2]&#10;Color: (220, 95, 192)\" style=\"width: 20px; height: 20px;background-color: rgb(220, 95, 192);\"></td><td title=\"Index: [4, 3]&#10;Color: (25, 16, 238)\" style=\"width: 20px; height: 20px;background-color: rgb(25, 16, 238);\"></td><td title=\"Index: [4, 4]&#10;Color: (124, 57, 16)\" style=\"width: 20px; height: 20px;background-color: rgb(124, 57, 16);\"></td></tr></tbody></table>"
      ],
      "text/plain": [
       "<IPython.core.display.HTML object>"
      ]
     },
     "metadata": {},
     "output_type": "display_data"
    },
    {
     "name": "stdout",
     "output_type": "stream",
     "text": [
      "(4,:)\n"
     ]
    },
    {
     "data": {
      "text/html": [
       "<style type=\"text/css\">table.blockgrid {border: none;} .blockgrid tr {border: none;} .blockgrid td {padding: 0px;} #blocksbb532aa2-89f3-4eaf-bbba-596ab26223da td {border: 1px solid white;}</style><table id=\"blocksbb532aa2-89f3-4eaf-bbba-596ab26223da\" class=\"blockgrid\"><tbody><tr><td title=\"Index: [0, 0]&#10;Color: (206, 134, 195)\" style=\"width: 20px; height: 20px;background-color: rgb(206, 134, 195);\"></td><td title=\"Index: [0, 1]&#10;Color: (43, 183, 201)\" style=\"width: 20px; height: 20px;background-color: rgb(43, 183, 201);\"></td><td title=\"Index: [0, 2]&#10;Color: (220, 95, 192)\" style=\"width: 20px; height: 20px;background-color: rgb(220, 95, 192);\"></td><td title=\"Index: [0, 3]&#10;Color: (25, 16, 238)\" style=\"width: 20px; height: 20px;background-color: rgb(25, 16, 238);\"></td><td title=\"Index: [0, 4]&#10;Color: (124, 57, 16)\" style=\"width: 20px; height: 20px;background-color: rgb(124, 57, 16);\"></td></tr></tbody></table>"
      ],
      "text/plain": [
       "<IPython.core.display.HTML object>"
      ]
     },
     "metadata": {},
     "output_type": "display_data"
    },
    {
     "name": "stdout",
     "output_type": "stream",
     "text": [
      "continue\n"
     ]
    }
   ],
   "source": [
    "for i in range(5):\n",
    "    clear_output()\n",
    "    grid.show()\n",
    "    print(\"(%d,:)\"%(i)) # an example of string interpolation\n",
    "    grid[i,:].show()\n",
    "    input(\"continue\")"
   ]
  },
  {
   "cell_type": "code",
   "execution_count": 6,
   "metadata": {},
   "outputs": [
    {
     "data": {
      "text/html": [
       "<style type=\"text/css\">table.blockgrid {border: none;} .blockgrid tr {border: none;} .blockgrid td {padding: 0px;} #blocks286e1bed-d650-4db0-acb7-d0c189e1f6e8 td {border: 1px solid white;}</style><table id=\"blocks286e1bed-d650-4db0-acb7-d0c189e1f6e8\" class=\"blockgrid\"><tbody><tr><td title=\"Index: [0, 0]&#10;Color: (58, 200, 122)\" style=\"width: 20px; height: 20px;background-color: rgb(58, 200, 122);\"></td><td title=\"Index: [0, 1]&#10;Color: (53, 68, 59)\" style=\"width: 20px; height: 20px;background-color: rgb(53, 68, 59);\"></td><td title=\"Index: [0, 2]&#10;Color: (183, 139, 134)\" style=\"width: 20px; height: 20px;background-color: rgb(183, 139, 134);\"></td><td title=\"Index: [0, 3]&#10;Color: (36, 55, 173)\" style=\"width: 20px; height: 20px;background-color: rgb(36, 55, 173);\"></td><td title=\"Index: [0, 4]&#10;Color: (81, 91, 205)\" style=\"width: 20px; height: 20px;background-color: rgb(81, 91, 205);\"></td></tr><tr><td title=\"Index: [1, 0]&#10;Color: (47, 122, 77)\" style=\"width: 20px; height: 20px;background-color: rgb(47, 122, 77);\"></td><td title=\"Index: [1, 1]&#10;Color: (21, 118, 252)\" style=\"width: 20px; height: 20px;background-color: rgb(21, 118, 252);\"></td><td title=\"Index: [1, 2]&#10;Color: (212, 166, 96)\" style=\"width: 20px; height: 20px;background-color: rgb(212, 166, 96);\"></td><td title=\"Index: [1, 3]&#10;Color: (37, 138, 20)\" style=\"width: 20px; height: 20px;background-color: rgb(37, 138, 20);\"></td><td title=\"Index: [1, 4]&#10;Color: (66, 102, 75)\" style=\"width: 20px; height: 20px;background-color: rgb(66, 102, 75);\"></td></tr><tr><td title=\"Index: [2, 0]&#10;Color: (123, 132, 197)\" style=\"width: 20px; height: 20px;background-color: rgb(123, 132, 197);\"></td><td title=\"Index: [2, 1]&#10;Color: (42, 56, 203)\" style=\"width: 20px; height: 20px;background-color: rgb(42, 56, 203);\"></td><td title=\"Index: [2, 2]&#10;Color: (40, 13, 249)\" style=\"width: 20px; height: 20px;background-color: rgb(40, 13, 249);\"></td><td title=\"Index: [2, 3]&#10;Color: (19, 160, 35)\" style=\"width: 20px; height: 20px;background-color: rgb(19, 160, 35);\"></td><td title=\"Index: [2, 4]&#10;Color: (165, 155, 42)\" style=\"width: 20px; height: 20px;background-color: rgb(165, 155, 42);\"></td></tr><tr><td title=\"Index: [3, 0]&#10;Color: (110, 214, 68)\" style=\"width: 20px; height: 20px;background-color: rgb(110, 214, 68);\"></td><td title=\"Index: [3, 1]&#10;Color: (107, 74, 156)\" style=\"width: 20px; height: 20px;background-color: rgb(107, 74, 156);\"></td><td title=\"Index: [3, 2]&#10;Color: (3, 226, 23)\" style=\"width: 20px; height: 20px;background-color: rgb(3, 226, 23);\"></td><td title=\"Index: [3, 3]&#10;Color: (238, 248, 134)\" style=\"width: 20px; height: 20px;background-color: rgb(238, 248, 134);\"></td><td title=\"Index: [3, 4]&#10;Color: (38, 82, 100)\" style=\"width: 20px; height: 20px;background-color: rgb(38, 82, 100);\"></td></tr><tr><td title=\"Index: [4, 0]&#10;Color: (206, 134, 195)\" style=\"width: 20px; height: 20px;background-color: rgb(206, 134, 195);\"></td><td title=\"Index: [4, 1]&#10;Color: (43, 183, 201)\" style=\"width: 20px; height: 20px;background-color: rgb(43, 183, 201);\"></td><td title=\"Index: [4, 2]&#10;Color: (220, 95, 192)\" style=\"width: 20px; height: 20px;background-color: rgb(220, 95, 192);\"></td><td title=\"Index: [4, 3]&#10;Color: (25, 16, 238)\" style=\"width: 20px; height: 20px;background-color: rgb(25, 16, 238);\"></td><td title=\"Index: [4, 4]&#10;Color: (124, 57, 16)\" style=\"width: 20px; height: 20px;background-color: rgb(124, 57, 16);\"></td></tr></tbody></table>"
      ],
      "text/plain": [
       "<IPython.core.display.HTML object>"
      ]
     },
     "metadata": {},
     "output_type": "display_data"
    },
    {
     "name": "stdout",
     "output_type": "stream",
     "text": [
      "(:,4)\n"
     ]
    },
    {
     "data": {
      "text/html": [
       "<style type=\"text/css\">table.blockgrid {border: none;} .blockgrid tr {border: none;} .blockgrid td {padding: 0px;} #blocks80e182fe-a525-4e7b-b8c4-e65839235652 td {border: 1px solid white;}</style><table id=\"blocks80e182fe-a525-4e7b-b8c4-e65839235652\" class=\"blockgrid\"><tbody><tr><td title=\"Index: [0, 0]&#10;Color: (81, 91, 205)\" style=\"width: 20px; height: 20px;background-color: rgb(81, 91, 205);\"></td></tr><tr><td title=\"Index: [1, 0]&#10;Color: (66, 102, 75)\" style=\"width: 20px; height: 20px;background-color: rgb(66, 102, 75);\"></td></tr><tr><td title=\"Index: [2, 0]&#10;Color: (165, 155, 42)\" style=\"width: 20px; height: 20px;background-color: rgb(165, 155, 42);\"></td></tr><tr><td title=\"Index: [3, 0]&#10;Color: (38, 82, 100)\" style=\"width: 20px; height: 20px;background-color: rgb(38, 82, 100);\"></td></tr><tr><td title=\"Index: [4, 0]&#10;Color: (124, 57, 16)\" style=\"width: 20px; height: 20px;background-color: rgb(124, 57, 16);\"></td></tr></tbody></table>"
      ],
      "text/plain": [
       "<IPython.core.display.HTML object>"
      ]
     },
     "metadata": {},
     "output_type": "display_data"
    },
    {
     "name": "stdout",
     "output_type": "stream",
     "text": [
      "continue\n"
     ]
    }
   ],
   "source": [
    "for i in range(5):\n",
    "    clear_output()\n",
    "    grid.show()\n",
    "    print(\"(:,%d)\"%(i)) # an example of string interpolation\n",
    "    grid[:,i].show()\n",
    "    input(\"continue\")"
   ]
  },
  {
   "cell_type": "code",
   "execution_count": 9,
   "metadata": {},
   "outputs": [
    {
     "data": {
      "text/html": [
       "<style type=\"text/css\">table.blockgrid {border: none;} .blockgrid tr {border: none;} .blockgrid td {padding: 0px;} #blocksc04a304f-4c72-4fb7-b84a-2a4dec47456d td {border: 1px solid white;}</style><table id=\"blocksc04a304f-4c72-4fb7-b84a-2a4dec47456d\" class=\"blockgrid\"><tbody><tr><td title=\"Index: [0, 0]&#10;Color: (58, 200, 122)\" style=\"width: 20px; height: 20px;background-color: rgb(58, 200, 122);\"></td><td title=\"Index: [0, 1]&#10;Color: (53, 68, 59)\" style=\"width: 20px; height: 20px;background-color: rgb(53, 68, 59);\"></td><td title=\"Index: [0, 2]&#10;Color: (183, 139, 134)\" style=\"width: 20px; height: 20px;background-color: rgb(183, 139, 134);\"></td><td title=\"Index: [0, 3]&#10;Color: (36, 55, 173)\" style=\"width: 20px; height: 20px;background-color: rgb(36, 55, 173);\"></td><td title=\"Index: [0, 4]&#10;Color: (81, 91, 205)\" style=\"width: 20px; height: 20px;background-color: rgb(81, 91, 205);\"></td></tr><tr><td title=\"Index: [1, 0]&#10;Color: (47, 122, 77)\" style=\"width: 20px; height: 20px;background-color: rgb(47, 122, 77);\"></td><td title=\"Index: [1, 1]&#10;Color: (21, 118, 252)\" style=\"width: 20px; height: 20px;background-color: rgb(21, 118, 252);\"></td><td title=\"Index: [1, 2]&#10;Color: (212, 166, 96)\" style=\"width: 20px; height: 20px;background-color: rgb(212, 166, 96);\"></td><td title=\"Index: [1, 3]&#10;Color: (37, 138, 20)\" style=\"width: 20px; height: 20px;background-color: rgb(37, 138, 20);\"></td><td title=\"Index: [1, 4]&#10;Color: (66, 102, 75)\" style=\"width: 20px; height: 20px;background-color: rgb(66, 102, 75);\"></td></tr><tr><td title=\"Index: [2, 0]&#10;Color: (123, 132, 197)\" style=\"width: 20px; height: 20px;background-color: rgb(123, 132, 197);\"></td><td title=\"Index: [2, 1]&#10;Color: (42, 56, 203)\" style=\"width: 20px; height: 20px;background-color: rgb(42, 56, 203);\"></td><td title=\"Index: [2, 2]&#10;Color: (40, 13, 249)\" style=\"width: 20px; height: 20px;background-color: rgb(40, 13, 249);\"></td><td title=\"Index: [2, 3]&#10;Color: (19, 160, 35)\" style=\"width: 20px; height: 20px;background-color: rgb(19, 160, 35);\"></td><td title=\"Index: [2, 4]&#10;Color: (165, 155, 42)\" style=\"width: 20px; height: 20px;background-color: rgb(165, 155, 42);\"></td></tr><tr><td title=\"Index: [3, 0]&#10;Color: (110, 214, 68)\" style=\"width: 20px; height: 20px;background-color: rgb(110, 214, 68);\"></td><td title=\"Index: [3, 1]&#10;Color: (107, 74, 156)\" style=\"width: 20px; height: 20px;background-color: rgb(107, 74, 156);\"></td><td title=\"Index: [3, 2]&#10;Color: (3, 226, 23)\" style=\"width: 20px; height: 20px;background-color: rgb(3, 226, 23);\"></td><td title=\"Index: [3, 3]&#10;Color: (238, 248, 134)\" style=\"width: 20px; height: 20px;background-color: rgb(238, 248, 134);\"></td><td title=\"Index: [3, 4]&#10;Color: (38, 82, 100)\" style=\"width: 20px; height: 20px;background-color: rgb(38, 82, 100);\"></td></tr><tr><td title=\"Index: [4, 0]&#10;Color: (206, 134, 195)\" style=\"width: 20px; height: 20px;background-color: rgb(206, 134, 195);\"></td><td title=\"Index: [4, 1]&#10;Color: (43, 183, 201)\" style=\"width: 20px; height: 20px;background-color: rgb(43, 183, 201);\"></td><td title=\"Index: [4, 2]&#10;Color: (220, 95, 192)\" style=\"width: 20px; height: 20px;background-color: rgb(220, 95, 192);\"></td><td title=\"Index: [4, 3]&#10;Color: (25, 16, 238)\" style=\"width: 20px; height: 20px;background-color: rgb(25, 16, 238);\"></td><td title=\"Index: [4, 4]&#10;Color: (124, 57, 16)\" style=\"width: 20px; height: 20px;background-color: rgb(124, 57, 16);\"></td></tr></tbody></table>"
      ],
      "text/plain": [
       "<IPython.core.display.HTML object>"
      ]
     },
     "metadata": {},
     "output_type": "display_data"
    },
    {
     "name": "stdout",
     "output_type": "stream",
     "text": [
      "Enter a (x,y) coordinate. (Type two integers separated by a comma.) \n",
      "3,4\n"
     ]
    },
    {
     "data": {
      "text/html": [
       "<style type=\"text/css\">table.blockgrid {border: none;} .blockgrid tr {border: none;} .blockgrid td {padding: 0px;} #blocks79a7e827-2d5f-4c12-816a-34945df3d023 td {border: 0px solid white;}</style><table id=\"blocks79a7e827-2d5f-4c12-816a-34945df3d023\" class=\"blockgrid\"><tbody><tr><td title=\"Index: [4, 3]&#10;Color: (25, 16, 238)\" style=\"width: 20px; height: 20px;background-color: rgb(25, 16, 238);\"></td></tr></tbody></table>"
      ],
      "text/plain": [
       "<IPython.core.display.HTML object>"
      ]
     },
     "metadata": {},
     "output_type": "display_data"
    },
    {
     "name": "stdout",
     "output_type": "stream",
     "text": [
      "Was this the block you thought it would be?\n",
      "\n"
     ]
    },
    {
     "ename": "IndexError",
     "evalue": "string index out of range",
     "output_type": "error",
     "traceback": [
      "\u001b[0;31m---------------------------------------------------------------------------\u001b[0m",
      "\u001b[0;31mIndexError\u001b[0m                                Traceback (most recent call last)",
      "\u001b[0;32m<ipython-input-9-1e4e31395237>\u001b[0m in \u001b[0;36m<module>\u001b[0;34m()\u001b[0m\n\u001b[1;32m      9\u001b[0m     \u001b[0mgrid\u001b[0m\u001b[0;34m[\u001b[0m\u001b[0mj\u001b[0m\u001b[0;34m,\u001b[0m\u001b[0mi\u001b[0m\u001b[0;34m]\u001b[0m\u001b[0;34m.\u001b[0m\u001b[0mshow\u001b[0m\u001b[0;34m(\u001b[0m\u001b[0;34m)\u001b[0m\u001b[0;34m\u001b[0m\u001b[0m\n\u001b[1;32m     10\u001b[0m     \u001b[0manswer\u001b[0m \u001b[0;34m=\u001b[0m \u001b[0minput\u001b[0m\u001b[0;34m(\u001b[0m\u001b[0;34m\"Was this the block you thought it would be?\\n\"\u001b[0m\u001b[0;34m)\u001b[0m\u001b[0;34m\u001b[0m\u001b[0m\n\u001b[0;32m---> 11\u001b[0;31m     \u001b[0mrslts\u001b[0m\u001b[0;34m.\u001b[0m\u001b[0mappend\u001b[0m\u001b[0;34m(\u001b[0m\u001b[0manswer\u001b[0m\u001b[0;34m.\u001b[0m\u001b[0mlower\u001b[0m\u001b[0;34m(\u001b[0m\u001b[0;34m)\u001b[0m\u001b[0;34m[\u001b[0m\u001b[0;36m0\u001b[0m\u001b[0;34m]\u001b[0m\u001b[0;34m)\u001b[0m\u001b[0;34m\u001b[0m\u001b[0m\n\u001b[0m\u001b[1;32m     12\u001b[0m \u001b[0mprint\u001b[0m\u001b[0;34m(\u001b[0m\u001b[0;36m100\u001b[0m\u001b[0;34m*\u001b[0m\u001b[0mlen\u001b[0m\u001b[0;34m(\u001b[0m\u001b[0;34m[\u001b[0m\u001b[0ma\u001b[0m \u001b[0;32mfor\u001b[0m \u001b[0ma\u001b[0m \u001b[0;32min\u001b[0m \u001b[0mrslts\u001b[0m \u001b[0;32mif\u001b[0m \u001b[0ma\u001b[0m \u001b[0;34m==\u001b[0m \u001b[0;34m'y'\u001b[0m\u001b[0;34m]\u001b[0m\u001b[0;34m)\u001b[0m\u001b[0;34m/\u001b[0m\u001b[0mlen\u001b[0m\u001b[0;34m(\u001b[0m\u001b[0mrslts\u001b[0m\u001b[0;34m)\u001b[0m\u001b[0;34m,\u001b[0m \u001b[0;34m\"% Correct\"\u001b[0m\u001b[0;34m)\u001b[0m\u001b[0;34m\u001b[0m\u001b[0m\n",
      "\u001b[0;31mIndexError\u001b[0m: string index out of range"
     ]
    }
   ],
   "source": [
    "rslts = []\n",
    "for k in range(5):\n",
    "    clear_output()\n",
    "    grid.show()\n",
    "    i, j = input(\"Enter a (x,y) coordinate. (Type two integers separated by a comma.) \\n\").split(\",\")\n",
    "    j = int(j)\n",
    "    i = int(i)\n",
    "    \n",
    "    grid[j,i].show()\n",
    "    answer = input(\"Was this the block you thought it would be?\\n\")\n",
    "    rslts.append(answer.lower()[0])\n",
    "print(100*len([a for a in rslts if a == 'y'])/len(rslts), \"% Correct\")"
   ]
  },
  {
   "cell_type": "markdown",
   "metadata": {},
   "source": [
    "## Exercise \n",
    "\n",
    "1. Using indexing to create a smiley face\n",
    "\n",
    "Send me your smiley face. We'll see who creates the best."
   ]
  },
  {
   "cell_type": "code",
   "execution_count": 10,
   "metadata": {},
   "outputs": [
    {
     "data": {
      "text/html": [
       "<style type=\"text/css\">table.blockgrid {border: none;} .blockgrid tr {border: none;} .blockgrid td {padding: 0px;} #blocksf403b144-d66a-4d72-b7b4-c961aa687a9e td {border: 1px solid white;}</style><table id=\"blocksf403b144-d66a-4d72-b7b4-c961aa687a9e\" class=\"blockgrid\"><tbody><tr><td title=\"Index: [0, 0]&#10;Color: (255, 205, 94)\" style=\"width: 20px; height: 20px;background-color: rgb(255, 205, 94);\"></td><td title=\"Index: [0, 1]&#10;Color: (255, 205, 94)\" style=\"width: 20px; height: 20px;background-color: rgb(255, 205, 94);\"></td><td title=\"Index: [0, 2]&#10;Color: (255, 205, 94)\" style=\"width: 20px; height: 20px;background-color: rgb(255, 205, 94);\"></td><td title=\"Index: [0, 3]&#10;Color: (255, 205, 94)\" style=\"width: 20px; height: 20px;background-color: rgb(255, 205, 94);\"></td><td title=\"Index: [0, 4]&#10;Color: (255, 205, 94)\" style=\"width: 20px; height: 20px;background-color: rgb(255, 205, 94);\"></td><td title=\"Index: [0, 5]&#10;Color: (255, 205, 94)\" style=\"width: 20px; height: 20px;background-color: rgb(255, 205, 94);\"></td><td title=\"Index: [0, 6]&#10;Color: (255, 205, 94)\" style=\"width: 20px; height: 20px;background-color: rgb(255, 205, 94);\"></td><td title=\"Index: [0, 7]&#10;Color: (255, 205, 94)\" style=\"width: 20px; height: 20px;background-color: rgb(255, 205, 94);\"></td><td title=\"Index: [0, 8]&#10;Color: (255, 205, 94)\" style=\"width: 20px; height: 20px;background-color: rgb(255, 205, 94);\"></td></tr><tr><td title=\"Index: [1, 0]&#10;Color: (255, 205, 94)\" style=\"width: 20px; height: 20px;background-color: rgb(255, 205, 94);\"></td><td title=\"Index: [1, 1]&#10;Color: (255, 205, 94)\" style=\"width: 20px; height: 20px;background-color: rgb(255, 205, 94);\"></td><td title=\"Index: [1, 2]&#10;Color: (255, 205, 94)\" style=\"width: 20px; height: 20px;background-color: rgb(255, 205, 94);\"></td><td title=\"Index: [1, 3]&#10;Color: (255, 205, 94)\" style=\"width: 20px; height: 20px;background-color: rgb(255, 205, 94);\"></td><td title=\"Index: [1, 4]&#10;Color: (255, 205, 94)\" style=\"width: 20px; height: 20px;background-color: rgb(255, 205, 94);\"></td><td title=\"Index: [1, 5]&#10;Color: (255, 205, 94)\" style=\"width: 20px; height: 20px;background-color: rgb(255, 205, 94);\"></td><td title=\"Index: [1, 6]&#10;Color: (255, 205, 94)\" style=\"width: 20px; height: 20px;background-color: rgb(255, 205, 94);\"></td><td title=\"Index: [1, 7]&#10;Color: (255, 205, 94)\" style=\"width: 20px; height: 20px;background-color: rgb(255, 205, 94);\"></td><td title=\"Index: [1, 8]&#10;Color: (255, 205, 94)\" style=\"width: 20px; height: 20px;background-color: rgb(255, 205, 94);\"></td></tr><tr><td title=\"Index: [2, 0]&#10;Color: (255, 205, 94)\" style=\"width: 20px; height: 20px;background-color: rgb(255, 205, 94);\"></td><td title=\"Index: [2, 1]&#10;Color: (255, 205, 94)\" style=\"width: 20px; height: 20px;background-color: rgb(255, 205, 94);\"></td><td title=\"Index: [2, 2]&#10;Color: (255, 205, 94)\" style=\"width: 20px; height: 20px;background-color: rgb(255, 205, 94);\"></td><td title=\"Index: [2, 3]&#10;Color: (255, 205, 94)\" style=\"width: 20px; height: 20px;background-color: rgb(255, 205, 94);\"></td><td title=\"Index: [2, 4]&#10;Color: (255, 205, 94)\" style=\"width: 20px; height: 20px;background-color: rgb(255, 205, 94);\"></td><td title=\"Index: [2, 5]&#10;Color: (255, 205, 94)\" style=\"width: 20px; height: 20px;background-color: rgb(255, 205, 94);\"></td><td title=\"Index: [2, 6]&#10;Color: (255, 205, 94)\" style=\"width: 20px; height: 20px;background-color: rgb(255, 205, 94);\"></td><td title=\"Index: [2, 7]&#10;Color: (255, 205, 94)\" style=\"width: 20px; height: 20px;background-color: rgb(255, 205, 94);\"></td><td title=\"Index: [2, 8]&#10;Color: (255, 205, 94)\" style=\"width: 20px; height: 20px;background-color: rgb(255, 205, 94);\"></td></tr><tr><td title=\"Index: [3, 0]&#10;Color: (255, 205, 94)\" style=\"width: 20px; height: 20px;background-color: rgb(255, 205, 94);\"></td><td title=\"Index: [3, 1]&#10;Color: (255, 205, 94)\" style=\"width: 20px; height: 20px;background-color: rgb(255, 205, 94);\"></td><td title=\"Index: [3, 2]&#10;Color: (0, 0, 255)\" style=\"width: 20px; height: 20px;background-color: rgb(0, 0, 255);\"></td><td title=\"Index: [3, 3]&#10;Color: (0, 0, 255)\" style=\"width: 20px; height: 20px;background-color: rgb(0, 0, 255);\"></td><td title=\"Index: [3, 4]&#10;Color: (255, 205, 94)\" style=\"width: 20px; height: 20px;background-color: rgb(255, 205, 94);\"></td><td title=\"Index: [3, 5]&#10;Color: (0, 0, 255)\" style=\"width: 20px; height: 20px;background-color: rgb(0, 0, 255);\"></td><td title=\"Index: [3, 6]&#10;Color: (0, 0, 255)\" style=\"width: 20px; height: 20px;background-color: rgb(0, 0, 255);\"></td><td title=\"Index: [3, 7]&#10;Color: (255, 205, 94)\" style=\"width: 20px; height: 20px;background-color: rgb(255, 205, 94);\"></td><td title=\"Index: [3, 8]&#10;Color: (255, 205, 94)\" style=\"width: 20px; height: 20px;background-color: rgb(255, 205, 94);\"></td></tr><tr><td title=\"Index: [4, 0]&#10;Color: (255, 205, 94)\" style=\"width: 20px; height: 20px;background-color: rgb(255, 205, 94);\"></td><td title=\"Index: [4, 1]&#10;Color: (255, 205, 94)\" style=\"width: 20px; height: 20px;background-color: rgb(255, 205, 94);\"></td><td title=\"Index: [4, 2]&#10;Color: (255, 205, 94)\" style=\"width: 20px; height: 20px;background-color: rgb(255, 205, 94);\"></td><td title=\"Index: [4, 3]&#10;Color: (255, 205, 94)\" style=\"width: 20px; height: 20px;background-color: rgb(255, 205, 94);\"></td><td title=\"Index: [4, 4]&#10;Color: (255, 205, 94)\" style=\"width: 20px; height: 20px;background-color: rgb(255, 205, 94);\"></td><td title=\"Index: [4, 5]&#10;Color: (255, 205, 94)\" style=\"width: 20px; height: 20px;background-color: rgb(255, 205, 94);\"></td><td title=\"Index: [4, 6]&#10;Color: (255, 205, 94)\" style=\"width: 20px; height: 20px;background-color: rgb(255, 205, 94);\"></td><td title=\"Index: [4, 7]&#10;Color: (255, 205, 94)\" style=\"width: 20px; height: 20px;background-color: rgb(255, 205, 94);\"></td><td title=\"Index: [4, 8]&#10;Color: (255, 205, 94)\" style=\"width: 20px; height: 20px;background-color: rgb(255, 205, 94);\"></td></tr><tr><td title=\"Index: [5, 0]&#10;Color: (255, 205, 94)\" style=\"width: 20px; height: 20px;background-color: rgb(255, 205, 94);\"></td><td title=\"Index: [5, 1]&#10;Color: (255, 205, 94)\" style=\"width: 20px; height: 20px;background-color: rgb(255, 205, 94);\"></td><td title=\"Index: [5, 2]&#10;Color: (255, 205, 94)\" style=\"width: 20px; height: 20px;background-color: rgb(255, 205, 94);\"></td><td title=\"Index: [5, 3]&#10;Color: (255, 205, 94)\" style=\"width: 20px; height: 20px;background-color: rgb(255, 205, 94);\"></td><td title=\"Index: [5, 4]&#10;Color: (255, 205, 94)\" style=\"width: 20px; height: 20px;background-color: rgb(255, 205, 94);\"></td><td title=\"Index: [5, 5]&#10;Color: (255, 205, 94)\" style=\"width: 20px; height: 20px;background-color: rgb(255, 205, 94);\"></td><td title=\"Index: [5, 6]&#10;Color: (255, 205, 94)\" style=\"width: 20px; height: 20px;background-color: rgb(255, 205, 94);\"></td><td title=\"Index: [5, 7]&#10;Color: (255, 205, 94)\" style=\"width: 20px; height: 20px;background-color: rgb(255, 205, 94);\"></td><td title=\"Index: [5, 8]&#10;Color: (255, 205, 94)\" style=\"width: 20px; height: 20px;background-color: rgb(255, 205, 94);\"></td></tr><tr><td title=\"Index: [6, 0]&#10;Color: (255, 205, 94)\" style=\"width: 20px; height: 20px;background-color: rgb(255, 205, 94);\"></td><td title=\"Index: [6, 1]&#10;Color: (255, 205, 94)\" style=\"width: 20px; height: 20px;background-color: rgb(255, 205, 94);\"></td><td title=\"Index: [6, 2]&#10;Color: (255, 0, 0)\" style=\"width: 20px; height: 20px;background-color: rgb(255, 0, 0);\"></td><td title=\"Index: [6, 3]&#10;Color: (255, 205, 94)\" style=\"width: 20px; height: 20px;background-color: rgb(255, 205, 94);\"></td><td title=\"Index: [6, 4]&#10;Color: (255, 205, 94)\" style=\"width: 20px; height: 20px;background-color: rgb(255, 205, 94);\"></td><td title=\"Index: [6, 5]&#10;Color: (255, 205, 94)\" style=\"width: 20px; height: 20px;background-color: rgb(255, 205, 94);\"></td><td title=\"Index: [6, 6]&#10;Color: (255, 0, 0)\" style=\"width: 20px; height: 20px;background-color: rgb(255, 0, 0);\"></td><td title=\"Index: [6, 7]&#10;Color: (255, 205, 94)\" style=\"width: 20px; height: 20px;background-color: rgb(255, 205, 94);\"></td><td title=\"Index: [6, 8]&#10;Color: (255, 205, 94)\" style=\"width: 20px; height: 20px;background-color: rgb(255, 205, 94);\"></td></tr><tr><td title=\"Index: [7, 0]&#10;Color: (255, 205, 94)\" style=\"width: 20px; height: 20px;background-color: rgb(255, 205, 94);\"></td><td title=\"Index: [7, 1]&#10;Color: (255, 205, 94)\" style=\"width: 20px; height: 20px;background-color: rgb(255, 205, 94);\"></td><td title=\"Index: [7, 2]&#10;Color: (255, 205, 94)\" style=\"width: 20px; height: 20px;background-color: rgb(255, 205, 94);\"></td><td title=\"Index: [7, 3]&#10;Color: (255, 0, 0)\" style=\"width: 20px; height: 20px;background-color: rgb(255, 0, 0);\"></td><td title=\"Index: [7, 4]&#10;Color: (255, 0, 0)\" style=\"width: 20px; height: 20px;background-color: rgb(255, 0, 0);\"></td><td title=\"Index: [7, 5]&#10;Color: (255, 0, 0)\" style=\"width: 20px; height: 20px;background-color: rgb(255, 0, 0);\"></td><td title=\"Index: [7, 6]&#10;Color: (255, 205, 94)\" style=\"width: 20px; height: 20px;background-color: rgb(255, 205, 94);\"></td><td title=\"Index: [7, 7]&#10;Color: (255, 205, 94)\" style=\"width: 20px; height: 20px;background-color: rgb(255, 205, 94);\"></td><td title=\"Index: [7, 8]&#10;Color: (255, 205, 94)\" style=\"width: 20px; height: 20px;background-color: rgb(255, 205, 94);\"></td></tr><tr><td title=\"Index: [8, 0]&#10;Color: (255, 205, 94)\" style=\"width: 20px; height: 20px;background-color: rgb(255, 205, 94);\"></td><td title=\"Index: [8, 1]&#10;Color: (255, 205, 94)\" style=\"width: 20px; height: 20px;background-color: rgb(255, 205, 94);\"></td><td title=\"Index: [8, 2]&#10;Color: (255, 205, 94)\" style=\"width: 20px; height: 20px;background-color: rgb(255, 205, 94);\"></td><td title=\"Index: [8, 3]&#10;Color: (255, 205, 94)\" style=\"width: 20px; height: 20px;background-color: rgb(255, 205, 94);\"></td><td title=\"Index: [8, 4]&#10;Color: (255, 205, 94)\" style=\"width: 20px; height: 20px;background-color: rgb(255, 205, 94);\"></td><td title=\"Index: [8, 5]&#10;Color: (255, 205, 94)\" style=\"width: 20px; height: 20px;background-color: rgb(255, 205, 94);\"></td><td title=\"Index: [8, 6]&#10;Color: (255, 205, 94)\" style=\"width: 20px; height: 20px;background-color: rgb(255, 205, 94);\"></td><td title=\"Index: [8, 7]&#10;Color: (255, 205, 94)\" style=\"width: 20px; height: 20px;background-color: rgb(255, 205, 94);\"></td><td title=\"Index: [8, 8]&#10;Color: (255, 205, 94)\" style=\"width: 20px; height: 20px;background-color: rgb(255, 205, 94);\"></td></tr></tbody></table>"
      ],
      "text/plain": [
       "<IPython.core.display.HTML object>"
      ]
     },
     "metadata": {},
     "output_type": "display_data"
    }
   ],
   "source": [
    "smiley = BlockGrid(9, 9, fill=(255, 205, 94)) \n",
    "\n",
    "smiley[3,2:4] = (0,0,255)\n",
    "smiley[3,5:7] = (0,0,255)\n",
    "\n",
    "smiley[7,3:6] = (255,0,0)\n",
    "smiley[6,2] = (255,0,0)\n",
    "smiley[6,6] = (255,0,0)\n",
    "smiley.show()"
   ]
  },
  {
   "cell_type": "code",
   "execution_count": null,
   "metadata": {
    "collapsed": true
   },
   "outputs": [],
   "source": []
  }
 ],
 "metadata": {
  "kernelspec": {
   "display_name": "Python 3",
   "language": "python",
   "name": "python3"
  },
  "language_info": {
   "codemirror_mode": {
    "name": "ipython",
    "version": 3
   },
   "file_extension": ".py",
   "mimetype": "text/x-python",
   "name": "python",
   "nbconvert_exporter": "python",
   "pygments_lexer": "ipython3",
   "version": "3.5.2"
  }
 },
 "nbformat": 4,
 "nbformat_minor": 1
}
