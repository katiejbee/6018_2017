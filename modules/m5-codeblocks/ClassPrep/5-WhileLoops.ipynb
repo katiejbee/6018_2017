{
 "cells": [
  {
   "cell_type": "code",
   "execution_count": null,
   "metadata": {
    "collapsed": true
   },
   "outputs": [],
   "source": [
    "from IPython.display import YouTubeVideo\n",
    "\n",
    "YouTubeVideo(\"lXB9zNKOfHo\")"
   ]
  },
  {
   "cell_type": "code",
   "execution_count": null,
   "metadata": {
    "collapsed": true
   },
   "outputs": [],
   "source": [
    "from IPython.display import YouTubeVideo\n",
    "\n",
    "YouTubeVideo(\"WcUf7imk1bU\")"
   ]
  },
  {
   "cell_type": "markdown",
   "metadata": {},
   "source": [
    "# While loops"
   ]
  },
  {
   "cell_type": "code",
   "execution_count": 1,
   "metadata": {
    "collapsed": true,
    "internals": {
     "slide_helper": "subslide_end",
     "slide_type": "subslide"
    },
    "slide_helper": "subslide_end",
    "slideshow": {
     "slide_type": "subslide"
    }
   },
   "outputs": [],
   "source": [
    "from ipythonblocks import BlockGrid\n"
   ]
  },
  {
   "cell_type": "markdown",
   "metadata": {
    "internals": {
     "frag_helper": "fragment_end",
     "frag_number": 23,
     "slide_helper": "subslide_end",
     "slide_type": "subslide"
    },
    "slide_helper": "subslide_end",
    "slideshow": {
     "slide_type": "slide"
    }
   },
   "source": [
    "# while Loops\n",
    "* While loops in Python are similar to while loops in most other languages\n",
    "* While loops are the most general of Python loops\n",
    "\n",
    "* **while CONDITION (is TRUE):** execute the following block of code\n",
    "\n",
    "* \"WHILE a condition is TRUE DO the block of code\"\n",
    "\n"
   ]
  },
  {
   "cell_type": "markdown",
   "metadata": {
    "internals": {
     "frag_helper": "fragment_end",
     "frag_number": 23,
     "slide_helper": "subslide_end",
     "slide_type": "subslide"
    },
    "slide_helper": "subslide_end",
    "slideshow": {
     "slide_type": "subslide"
    }
   },
   "source": [
    "### while loops can be made to function similar to for loops....\n",
    "### only more verbose"
   ]
  },
  {
   "cell_type": "code",
   "execution_count": null,
   "metadata": {
    "collapsed": true
   },
   "outputs": [],
   "source": [
    "i = 0\n",
    "while i < 10:\n",
    "    print(i)\n",
    "    i += 1\n",
    "print(\"*\"*42)\n",
    "for i in range(10):\n",
    "    print(i)"
   ]
  },
  {
   "cell_type": "markdown",
   "metadata": {},
   "source": [
    "### We can nest while loops (and for loops)"
   ]
  },
  {
   "cell_type": "code",
   "execution_count": 2,
   "metadata": {
    "internals": {
     "frag_helper": "fragment_end",
     "frag_number": 23,
     "slide_helper": "subslide_end",
     "slide_type": "subslide"
    },
    "slide_helper": "subslide_end",
    "slideshow": {
     "slide_type": "subslide"
    }
   },
   "outputs": [
    {
     "data": {
      "text/html": [
       "<style type=\"text/css\">table.blockgrid {border: none;} .blockgrid tr {border: none;} .blockgrid td {padding: 0px;} #blocks6970676b-41e1-4039-8205-7ef3ab67fe03 td {border: 1px solid white;}</style><table id=\"blocks6970676b-41e1-4039-8205-7ef3ab67fe03\" class=\"blockgrid\"><tbody><tr><td title=\"Index: [0, 0]&#10;Color: (227, 0, 34)\" style=\"width: 20px; height: 20px;background-color: rgb(227, 0, 34);\"></td><td title=\"Index: [0, 1]&#10;Color: (18, 53, 36)\" style=\"width: 20px; height: 20px;background-color: rgb(18, 53, 36);\"></td><td title=\"Index: [0, 2]&#10;Color: (227, 0, 34)\" style=\"width: 20px; height: 20px;background-color: rgb(227, 0, 34);\"></td><td title=\"Index: [0, 3]&#10;Color: (18, 53, 36)\" style=\"width: 20px; height: 20px;background-color: rgb(18, 53, 36);\"></td><td title=\"Index: [0, 4]&#10;Color: (227, 0, 34)\" style=\"width: 20px; height: 20px;background-color: rgb(227, 0, 34);\"></td><td title=\"Index: [0, 5]&#10;Color: (18, 53, 36)\" style=\"width: 20px; height: 20px;background-color: rgb(18, 53, 36);\"></td><td title=\"Index: [0, 6]&#10;Color: (227, 0, 34)\" style=\"width: 20px; height: 20px;background-color: rgb(227, 0, 34);\"></td><td title=\"Index: [0, 7]&#10;Color: (18, 53, 36)\" style=\"width: 20px; height: 20px;background-color: rgb(18, 53, 36);\"></td><td title=\"Index: [0, 8]&#10;Color: (227, 0, 34)\" style=\"width: 20px; height: 20px;background-color: rgb(227, 0, 34);\"></td><td title=\"Index: [0, 9]&#10;Color: (18, 53, 36)\" style=\"width: 20px; height: 20px;background-color: rgb(18, 53, 36);\"></td><td title=\"Index: [0, 10]&#10;Color: (227, 0, 34)\" style=\"width: 20px; height: 20px;background-color: rgb(227, 0, 34);\"></td><td title=\"Index: [0, 11]&#10;Color: (18, 53, 36)\" style=\"width: 20px; height: 20px;background-color: rgb(18, 53, 36);\"></td><td title=\"Index: [0, 12]&#10;Color: (227, 0, 34)\" style=\"width: 20px; height: 20px;background-color: rgb(227, 0, 34);\"></td><td title=\"Index: [0, 13]&#10;Color: (18, 53, 36)\" style=\"width: 20px; height: 20px;background-color: rgb(18, 53, 36);\"></td><td title=\"Index: [0, 14]&#10;Color: (227, 0, 34)\" style=\"width: 20px; height: 20px;background-color: rgb(227, 0, 34);\"></td><td title=\"Index: [0, 15]&#10;Color: (18, 53, 36)\" style=\"width: 20px; height: 20px;background-color: rgb(18, 53, 36);\"></td></tr><tr><td title=\"Index: [1, 0]&#10;Color: (18, 53, 36)\" style=\"width: 20px; height: 20px;background-color: rgb(18, 53, 36);\"></td><td title=\"Index: [1, 1]&#10;Color: (0, 255, 0)\" style=\"width: 20px; height: 20px;background-color: rgb(0, 255, 0);\"></td><td title=\"Index: [1, 2]&#10;Color: (18, 53, 36)\" style=\"width: 20px; height: 20px;background-color: rgb(18, 53, 36);\"></td><td title=\"Index: [1, 3]&#10;Color: (0, 255, 0)\" style=\"width: 20px; height: 20px;background-color: rgb(0, 255, 0);\"></td><td title=\"Index: [1, 4]&#10;Color: (18, 53, 36)\" style=\"width: 20px; height: 20px;background-color: rgb(18, 53, 36);\"></td><td title=\"Index: [1, 5]&#10;Color: (0, 255, 0)\" style=\"width: 20px; height: 20px;background-color: rgb(0, 255, 0);\"></td><td title=\"Index: [1, 6]&#10;Color: (18, 53, 36)\" style=\"width: 20px; height: 20px;background-color: rgb(18, 53, 36);\"></td><td title=\"Index: [1, 7]&#10;Color: (0, 255, 0)\" style=\"width: 20px; height: 20px;background-color: rgb(0, 255, 0);\"></td><td title=\"Index: [1, 8]&#10;Color: (18, 53, 36)\" style=\"width: 20px; height: 20px;background-color: rgb(18, 53, 36);\"></td><td title=\"Index: [1, 9]&#10;Color: (0, 255, 0)\" style=\"width: 20px; height: 20px;background-color: rgb(0, 255, 0);\"></td><td title=\"Index: [1, 10]&#10;Color: (18, 53, 36)\" style=\"width: 20px; height: 20px;background-color: rgb(18, 53, 36);\"></td><td title=\"Index: [1, 11]&#10;Color: (0, 255, 0)\" style=\"width: 20px; height: 20px;background-color: rgb(0, 255, 0);\"></td><td title=\"Index: [1, 12]&#10;Color: (18, 53, 36)\" style=\"width: 20px; height: 20px;background-color: rgb(18, 53, 36);\"></td><td title=\"Index: [1, 13]&#10;Color: (0, 255, 0)\" style=\"width: 20px; height: 20px;background-color: rgb(0, 255, 0);\"></td><td title=\"Index: [1, 14]&#10;Color: (18, 53, 36)\" style=\"width: 20px; height: 20px;background-color: rgb(18, 53, 36);\"></td><td title=\"Index: [1, 15]&#10;Color: (0, 255, 0)\" style=\"width: 20px; height: 20px;background-color: rgb(0, 255, 0);\"></td></tr><tr><td title=\"Index: [2, 0]&#10;Color: (227, 0, 34)\" style=\"width: 20px; height: 20px;background-color: rgb(227, 0, 34);\"></td><td title=\"Index: [2, 1]&#10;Color: (18, 53, 36)\" style=\"width: 20px; height: 20px;background-color: rgb(18, 53, 36);\"></td><td title=\"Index: [2, 2]&#10;Color: (227, 0, 34)\" style=\"width: 20px; height: 20px;background-color: rgb(227, 0, 34);\"></td><td title=\"Index: [2, 3]&#10;Color: (18, 53, 36)\" style=\"width: 20px; height: 20px;background-color: rgb(18, 53, 36);\"></td><td title=\"Index: [2, 4]&#10;Color: (227, 0, 34)\" style=\"width: 20px; height: 20px;background-color: rgb(227, 0, 34);\"></td><td title=\"Index: [2, 5]&#10;Color: (18, 53, 36)\" style=\"width: 20px; height: 20px;background-color: rgb(18, 53, 36);\"></td><td title=\"Index: [2, 6]&#10;Color: (227, 0, 34)\" style=\"width: 20px; height: 20px;background-color: rgb(227, 0, 34);\"></td><td title=\"Index: [2, 7]&#10;Color: (18, 53, 36)\" style=\"width: 20px; height: 20px;background-color: rgb(18, 53, 36);\"></td><td title=\"Index: [2, 8]&#10;Color: (227, 0, 34)\" style=\"width: 20px; height: 20px;background-color: rgb(227, 0, 34);\"></td><td title=\"Index: [2, 9]&#10;Color: (18, 53, 36)\" style=\"width: 20px; height: 20px;background-color: rgb(18, 53, 36);\"></td><td title=\"Index: [2, 10]&#10;Color: (227, 0, 34)\" style=\"width: 20px; height: 20px;background-color: rgb(227, 0, 34);\"></td><td title=\"Index: [2, 11]&#10;Color: (18, 53, 36)\" style=\"width: 20px; height: 20px;background-color: rgb(18, 53, 36);\"></td><td title=\"Index: [2, 12]&#10;Color: (227, 0, 34)\" style=\"width: 20px; height: 20px;background-color: rgb(227, 0, 34);\"></td><td title=\"Index: [2, 13]&#10;Color: (18, 53, 36)\" style=\"width: 20px; height: 20px;background-color: rgb(18, 53, 36);\"></td><td title=\"Index: [2, 14]&#10;Color: (227, 0, 34)\" style=\"width: 20px; height: 20px;background-color: rgb(227, 0, 34);\"></td><td title=\"Index: [2, 15]&#10;Color: (18, 53, 36)\" style=\"width: 20px; height: 20px;background-color: rgb(18, 53, 36);\"></td></tr><tr><td title=\"Index: [3, 0]&#10;Color: (18, 53, 36)\" style=\"width: 20px; height: 20px;background-color: rgb(18, 53, 36);\"></td><td title=\"Index: [3, 1]&#10;Color: (0, 255, 0)\" style=\"width: 20px; height: 20px;background-color: rgb(0, 255, 0);\"></td><td title=\"Index: [3, 2]&#10;Color: (18, 53, 36)\" style=\"width: 20px; height: 20px;background-color: rgb(18, 53, 36);\"></td><td title=\"Index: [3, 3]&#10;Color: (0, 255, 0)\" style=\"width: 20px; height: 20px;background-color: rgb(0, 255, 0);\"></td><td title=\"Index: [3, 4]&#10;Color: (18, 53, 36)\" style=\"width: 20px; height: 20px;background-color: rgb(18, 53, 36);\"></td><td title=\"Index: [3, 5]&#10;Color: (0, 255, 0)\" style=\"width: 20px; height: 20px;background-color: rgb(0, 255, 0);\"></td><td title=\"Index: [3, 6]&#10;Color: (18, 53, 36)\" style=\"width: 20px; height: 20px;background-color: rgb(18, 53, 36);\"></td><td title=\"Index: [3, 7]&#10;Color: (0, 255, 0)\" style=\"width: 20px; height: 20px;background-color: rgb(0, 255, 0);\"></td><td title=\"Index: [3, 8]&#10;Color: (18, 53, 36)\" style=\"width: 20px; height: 20px;background-color: rgb(18, 53, 36);\"></td><td title=\"Index: [3, 9]&#10;Color: (0, 255, 0)\" style=\"width: 20px; height: 20px;background-color: rgb(0, 255, 0);\"></td><td title=\"Index: [3, 10]&#10;Color: (18, 53, 36)\" style=\"width: 20px; height: 20px;background-color: rgb(18, 53, 36);\"></td><td title=\"Index: [3, 11]&#10;Color: (0, 255, 0)\" style=\"width: 20px; height: 20px;background-color: rgb(0, 255, 0);\"></td><td title=\"Index: [3, 12]&#10;Color: (18, 53, 36)\" style=\"width: 20px; height: 20px;background-color: rgb(18, 53, 36);\"></td><td title=\"Index: [3, 13]&#10;Color: (0, 255, 0)\" style=\"width: 20px; height: 20px;background-color: rgb(0, 255, 0);\"></td><td title=\"Index: [3, 14]&#10;Color: (18, 53, 36)\" style=\"width: 20px; height: 20px;background-color: rgb(18, 53, 36);\"></td><td title=\"Index: [3, 15]&#10;Color: (0, 255, 0)\" style=\"width: 20px; height: 20px;background-color: rgb(0, 255, 0);\"></td></tr><tr><td title=\"Index: [4, 0]&#10;Color: (227, 0, 34)\" style=\"width: 20px; height: 20px;background-color: rgb(227, 0, 34);\"></td><td title=\"Index: [4, 1]&#10;Color: (18, 53, 36)\" style=\"width: 20px; height: 20px;background-color: rgb(18, 53, 36);\"></td><td title=\"Index: [4, 2]&#10;Color: (227, 0, 34)\" style=\"width: 20px; height: 20px;background-color: rgb(227, 0, 34);\"></td><td title=\"Index: [4, 3]&#10;Color: (18, 53, 36)\" style=\"width: 20px; height: 20px;background-color: rgb(18, 53, 36);\"></td><td title=\"Index: [4, 4]&#10;Color: (227, 0, 34)\" style=\"width: 20px; height: 20px;background-color: rgb(227, 0, 34);\"></td><td title=\"Index: [4, 5]&#10;Color: (18, 53, 36)\" style=\"width: 20px; height: 20px;background-color: rgb(18, 53, 36);\"></td><td title=\"Index: [4, 6]&#10;Color: (227, 0, 34)\" style=\"width: 20px; height: 20px;background-color: rgb(227, 0, 34);\"></td><td title=\"Index: [4, 7]&#10;Color: (18, 53, 36)\" style=\"width: 20px; height: 20px;background-color: rgb(18, 53, 36);\"></td><td title=\"Index: [4, 8]&#10;Color: (227, 0, 34)\" style=\"width: 20px; height: 20px;background-color: rgb(227, 0, 34);\"></td><td title=\"Index: [4, 9]&#10;Color: (18, 53, 36)\" style=\"width: 20px; height: 20px;background-color: rgb(18, 53, 36);\"></td><td title=\"Index: [4, 10]&#10;Color: (227, 0, 34)\" style=\"width: 20px; height: 20px;background-color: rgb(227, 0, 34);\"></td><td title=\"Index: [4, 11]&#10;Color: (18, 53, 36)\" style=\"width: 20px; height: 20px;background-color: rgb(18, 53, 36);\"></td><td title=\"Index: [4, 12]&#10;Color: (227, 0, 34)\" style=\"width: 20px; height: 20px;background-color: rgb(227, 0, 34);\"></td><td title=\"Index: [4, 13]&#10;Color: (18, 53, 36)\" style=\"width: 20px; height: 20px;background-color: rgb(18, 53, 36);\"></td><td title=\"Index: [4, 14]&#10;Color: (227, 0, 34)\" style=\"width: 20px; height: 20px;background-color: rgb(227, 0, 34);\"></td><td title=\"Index: [4, 15]&#10;Color: (18, 53, 36)\" style=\"width: 20px; height: 20px;background-color: rgb(18, 53, 36);\"></td></tr><tr><td title=\"Index: [5, 0]&#10;Color: (18, 53, 36)\" style=\"width: 20px; height: 20px;background-color: rgb(18, 53, 36);\"></td><td title=\"Index: [5, 1]&#10;Color: (0, 255, 0)\" style=\"width: 20px; height: 20px;background-color: rgb(0, 255, 0);\"></td><td title=\"Index: [5, 2]&#10;Color: (18, 53, 36)\" style=\"width: 20px; height: 20px;background-color: rgb(18, 53, 36);\"></td><td title=\"Index: [5, 3]&#10;Color: (0, 255, 0)\" style=\"width: 20px; height: 20px;background-color: rgb(0, 255, 0);\"></td><td title=\"Index: [5, 4]&#10;Color: (18, 53, 36)\" style=\"width: 20px; height: 20px;background-color: rgb(18, 53, 36);\"></td><td title=\"Index: [5, 5]&#10;Color: (0, 255, 0)\" style=\"width: 20px; height: 20px;background-color: rgb(0, 255, 0);\"></td><td title=\"Index: [5, 6]&#10;Color: (18, 53, 36)\" style=\"width: 20px; height: 20px;background-color: rgb(18, 53, 36);\"></td><td title=\"Index: [5, 7]&#10;Color: (0, 255, 0)\" style=\"width: 20px; height: 20px;background-color: rgb(0, 255, 0);\"></td><td title=\"Index: [5, 8]&#10;Color: (18, 53, 36)\" style=\"width: 20px; height: 20px;background-color: rgb(18, 53, 36);\"></td><td title=\"Index: [5, 9]&#10;Color: (0, 255, 0)\" style=\"width: 20px; height: 20px;background-color: rgb(0, 255, 0);\"></td><td title=\"Index: [5, 10]&#10;Color: (18, 53, 36)\" style=\"width: 20px; height: 20px;background-color: rgb(18, 53, 36);\"></td><td title=\"Index: [5, 11]&#10;Color: (0, 255, 0)\" style=\"width: 20px; height: 20px;background-color: rgb(0, 255, 0);\"></td><td title=\"Index: [5, 12]&#10;Color: (18, 53, 36)\" style=\"width: 20px; height: 20px;background-color: rgb(18, 53, 36);\"></td><td title=\"Index: [5, 13]&#10;Color: (0, 255, 0)\" style=\"width: 20px; height: 20px;background-color: rgb(0, 255, 0);\"></td><td title=\"Index: [5, 14]&#10;Color: (18, 53, 36)\" style=\"width: 20px; height: 20px;background-color: rgb(18, 53, 36);\"></td><td title=\"Index: [5, 15]&#10;Color: (0, 255, 0)\" style=\"width: 20px; height: 20px;background-color: rgb(0, 255, 0);\"></td></tr><tr><td title=\"Index: [6, 0]&#10;Color: (227, 0, 34)\" style=\"width: 20px; height: 20px;background-color: rgb(227, 0, 34);\"></td><td title=\"Index: [6, 1]&#10;Color: (18, 53, 36)\" style=\"width: 20px; height: 20px;background-color: rgb(18, 53, 36);\"></td><td title=\"Index: [6, 2]&#10;Color: (227, 0, 34)\" style=\"width: 20px; height: 20px;background-color: rgb(227, 0, 34);\"></td><td title=\"Index: [6, 3]&#10;Color: (18, 53, 36)\" style=\"width: 20px; height: 20px;background-color: rgb(18, 53, 36);\"></td><td title=\"Index: [6, 4]&#10;Color: (227, 0, 34)\" style=\"width: 20px; height: 20px;background-color: rgb(227, 0, 34);\"></td><td title=\"Index: [6, 5]&#10;Color: (18, 53, 36)\" style=\"width: 20px; height: 20px;background-color: rgb(18, 53, 36);\"></td><td title=\"Index: [6, 6]&#10;Color: (227, 0, 34)\" style=\"width: 20px; height: 20px;background-color: rgb(227, 0, 34);\"></td><td title=\"Index: [6, 7]&#10;Color: (18, 53, 36)\" style=\"width: 20px; height: 20px;background-color: rgb(18, 53, 36);\"></td><td title=\"Index: [6, 8]&#10;Color: (227, 0, 34)\" style=\"width: 20px; height: 20px;background-color: rgb(227, 0, 34);\"></td><td title=\"Index: [6, 9]&#10;Color: (18, 53, 36)\" style=\"width: 20px; height: 20px;background-color: rgb(18, 53, 36);\"></td><td title=\"Index: [6, 10]&#10;Color: (227, 0, 34)\" style=\"width: 20px; height: 20px;background-color: rgb(227, 0, 34);\"></td><td title=\"Index: [6, 11]&#10;Color: (18, 53, 36)\" style=\"width: 20px; height: 20px;background-color: rgb(18, 53, 36);\"></td><td title=\"Index: [6, 12]&#10;Color: (227, 0, 34)\" style=\"width: 20px; height: 20px;background-color: rgb(227, 0, 34);\"></td><td title=\"Index: [6, 13]&#10;Color: (18, 53, 36)\" style=\"width: 20px; height: 20px;background-color: rgb(18, 53, 36);\"></td><td title=\"Index: [6, 14]&#10;Color: (227, 0, 34)\" style=\"width: 20px; height: 20px;background-color: rgb(227, 0, 34);\"></td><td title=\"Index: [6, 15]&#10;Color: (18, 53, 36)\" style=\"width: 20px; height: 20px;background-color: rgb(18, 53, 36);\"></td></tr><tr><td title=\"Index: [7, 0]&#10;Color: (18, 53, 36)\" style=\"width: 20px; height: 20px;background-color: rgb(18, 53, 36);\"></td><td title=\"Index: [7, 1]&#10;Color: (0, 255, 0)\" style=\"width: 20px; height: 20px;background-color: rgb(0, 255, 0);\"></td><td title=\"Index: [7, 2]&#10;Color: (18, 53, 36)\" style=\"width: 20px; height: 20px;background-color: rgb(18, 53, 36);\"></td><td title=\"Index: [7, 3]&#10;Color: (0, 255, 0)\" style=\"width: 20px; height: 20px;background-color: rgb(0, 255, 0);\"></td><td title=\"Index: [7, 4]&#10;Color: (18, 53, 36)\" style=\"width: 20px; height: 20px;background-color: rgb(18, 53, 36);\"></td><td title=\"Index: [7, 5]&#10;Color: (0, 255, 0)\" style=\"width: 20px; height: 20px;background-color: rgb(0, 255, 0);\"></td><td title=\"Index: [7, 6]&#10;Color: (18, 53, 36)\" style=\"width: 20px; height: 20px;background-color: rgb(18, 53, 36);\"></td><td title=\"Index: [7, 7]&#10;Color: (0, 255, 0)\" style=\"width: 20px; height: 20px;background-color: rgb(0, 255, 0);\"></td><td title=\"Index: [7, 8]&#10;Color: (18, 53, 36)\" style=\"width: 20px; height: 20px;background-color: rgb(18, 53, 36);\"></td><td title=\"Index: [7, 9]&#10;Color: (0, 255, 0)\" style=\"width: 20px; height: 20px;background-color: rgb(0, 255, 0);\"></td><td title=\"Index: [7, 10]&#10;Color: (18, 53, 36)\" style=\"width: 20px; height: 20px;background-color: rgb(18, 53, 36);\"></td><td title=\"Index: [7, 11]&#10;Color: (0, 255, 0)\" style=\"width: 20px; height: 20px;background-color: rgb(0, 255, 0);\"></td><td title=\"Index: [7, 12]&#10;Color: (18, 53, 36)\" style=\"width: 20px; height: 20px;background-color: rgb(18, 53, 36);\"></td><td title=\"Index: [7, 13]&#10;Color: (0, 255, 0)\" style=\"width: 20px; height: 20px;background-color: rgb(0, 255, 0);\"></td><td title=\"Index: [7, 14]&#10;Color: (18, 53, 36)\" style=\"width: 20px; height: 20px;background-color: rgb(18, 53, 36);\"></td><td title=\"Index: [7, 15]&#10;Color: (0, 255, 0)\" style=\"width: 20px; height: 20px;background-color: rgb(0, 255, 0);\"></td></tr><tr><td title=\"Index: [8, 0]&#10;Color: (227, 0, 34)\" style=\"width: 20px; height: 20px;background-color: rgb(227, 0, 34);\"></td><td title=\"Index: [8, 1]&#10;Color: (18, 53, 36)\" style=\"width: 20px; height: 20px;background-color: rgb(18, 53, 36);\"></td><td title=\"Index: [8, 2]&#10;Color: (227, 0, 34)\" style=\"width: 20px; height: 20px;background-color: rgb(227, 0, 34);\"></td><td title=\"Index: [8, 3]&#10;Color: (18, 53, 36)\" style=\"width: 20px; height: 20px;background-color: rgb(18, 53, 36);\"></td><td title=\"Index: [8, 4]&#10;Color: (227, 0, 34)\" style=\"width: 20px; height: 20px;background-color: rgb(227, 0, 34);\"></td><td title=\"Index: [8, 5]&#10;Color: (18, 53, 36)\" style=\"width: 20px; height: 20px;background-color: rgb(18, 53, 36);\"></td><td title=\"Index: [8, 6]&#10;Color: (227, 0, 34)\" style=\"width: 20px; height: 20px;background-color: rgb(227, 0, 34);\"></td><td title=\"Index: [8, 7]&#10;Color: (18, 53, 36)\" style=\"width: 20px; height: 20px;background-color: rgb(18, 53, 36);\"></td><td title=\"Index: [8, 8]&#10;Color: (227, 0, 34)\" style=\"width: 20px; height: 20px;background-color: rgb(227, 0, 34);\"></td><td title=\"Index: [8, 9]&#10;Color: (18, 53, 36)\" style=\"width: 20px; height: 20px;background-color: rgb(18, 53, 36);\"></td><td title=\"Index: [8, 10]&#10;Color: (227, 0, 34)\" style=\"width: 20px; height: 20px;background-color: rgb(227, 0, 34);\"></td><td title=\"Index: [8, 11]&#10;Color: (18, 53, 36)\" style=\"width: 20px; height: 20px;background-color: rgb(18, 53, 36);\"></td><td title=\"Index: [8, 12]&#10;Color: (227, 0, 34)\" style=\"width: 20px; height: 20px;background-color: rgb(227, 0, 34);\"></td><td title=\"Index: [8, 13]&#10;Color: (18, 53, 36)\" style=\"width: 20px; height: 20px;background-color: rgb(18, 53, 36);\"></td><td title=\"Index: [8, 14]&#10;Color: (227, 0, 34)\" style=\"width: 20px; height: 20px;background-color: rgb(227, 0, 34);\"></td><td title=\"Index: [8, 15]&#10;Color: (18, 53, 36)\" style=\"width: 20px; height: 20px;background-color: rgb(18, 53, 36);\"></td></tr><tr><td title=\"Index: [9, 0]&#10;Color: (18, 53, 36)\" style=\"width: 20px; height: 20px;background-color: rgb(18, 53, 36);\"></td><td title=\"Index: [9, 1]&#10;Color: (0, 255, 0)\" style=\"width: 20px; height: 20px;background-color: rgb(0, 255, 0);\"></td><td title=\"Index: [9, 2]&#10;Color: (18, 53, 36)\" style=\"width: 20px; height: 20px;background-color: rgb(18, 53, 36);\"></td><td title=\"Index: [9, 3]&#10;Color: (0, 255, 0)\" style=\"width: 20px; height: 20px;background-color: rgb(0, 255, 0);\"></td><td title=\"Index: [9, 4]&#10;Color: (18, 53, 36)\" style=\"width: 20px; height: 20px;background-color: rgb(18, 53, 36);\"></td><td title=\"Index: [9, 5]&#10;Color: (0, 255, 0)\" style=\"width: 20px; height: 20px;background-color: rgb(0, 255, 0);\"></td><td title=\"Index: [9, 6]&#10;Color: (18, 53, 36)\" style=\"width: 20px; height: 20px;background-color: rgb(18, 53, 36);\"></td><td title=\"Index: [9, 7]&#10;Color: (0, 255, 0)\" style=\"width: 20px; height: 20px;background-color: rgb(0, 255, 0);\"></td><td title=\"Index: [9, 8]&#10;Color: (18, 53, 36)\" style=\"width: 20px; height: 20px;background-color: rgb(18, 53, 36);\"></td><td title=\"Index: [9, 9]&#10;Color: (0, 255, 0)\" style=\"width: 20px; height: 20px;background-color: rgb(0, 255, 0);\"></td><td title=\"Index: [9, 10]&#10;Color: (18, 53, 36)\" style=\"width: 20px; height: 20px;background-color: rgb(18, 53, 36);\"></td><td title=\"Index: [9, 11]&#10;Color: (0, 255, 0)\" style=\"width: 20px; height: 20px;background-color: rgb(0, 255, 0);\"></td><td title=\"Index: [9, 12]&#10;Color: (18, 53, 36)\" style=\"width: 20px; height: 20px;background-color: rgb(18, 53, 36);\"></td><td title=\"Index: [9, 13]&#10;Color: (0, 255, 0)\" style=\"width: 20px; height: 20px;background-color: rgb(0, 255, 0);\"></td><td title=\"Index: [9, 14]&#10;Color: (18, 53, 36)\" style=\"width: 20px; height: 20px;background-color: rgb(18, 53, 36);\"></td><td title=\"Index: [9, 15]&#10;Color: (0, 255, 0)\" style=\"width: 20px; height: 20px;background-color: rgb(0, 255, 0);\"></td></tr><tr><td title=\"Index: [10, 0]&#10;Color: (227, 0, 34)\" style=\"width: 20px; height: 20px;background-color: rgb(227, 0, 34);\"></td><td title=\"Index: [10, 1]&#10;Color: (18, 53, 36)\" style=\"width: 20px; height: 20px;background-color: rgb(18, 53, 36);\"></td><td title=\"Index: [10, 2]&#10;Color: (227, 0, 34)\" style=\"width: 20px; height: 20px;background-color: rgb(227, 0, 34);\"></td><td title=\"Index: [10, 3]&#10;Color: (18, 53, 36)\" style=\"width: 20px; height: 20px;background-color: rgb(18, 53, 36);\"></td><td title=\"Index: [10, 4]&#10;Color: (227, 0, 34)\" style=\"width: 20px; height: 20px;background-color: rgb(227, 0, 34);\"></td><td title=\"Index: [10, 5]&#10;Color: (18, 53, 36)\" style=\"width: 20px; height: 20px;background-color: rgb(18, 53, 36);\"></td><td title=\"Index: [10, 6]&#10;Color: (227, 0, 34)\" style=\"width: 20px; height: 20px;background-color: rgb(227, 0, 34);\"></td><td title=\"Index: [10, 7]&#10;Color: (18, 53, 36)\" style=\"width: 20px; height: 20px;background-color: rgb(18, 53, 36);\"></td><td title=\"Index: [10, 8]&#10;Color: (227, 0, 34)\" style=\"width: 20px; height: 20px;background-color: rgb(227, 0, 34);\"></td><td title=\"Index: [10, 9]&#10;Color: (18, 53, 36)\" style=\"width: 20px; height: 20px;background-color: rgb(18, 53, 36);\"></td><td title=\"Index: [10, 10]&#10;Color: (227, 0, 34)\" style=\"width: 20px; height: 20px;background-color: rgb(227, 0, 34);\"></td><td title=\"Index: [10, 11]&#10;Color: (18, 53, 36)\" style=\"width: 20px; height: 20px;background-color: rgb(18, 53, 36);\"></td><td title=\"Index: [10, 12]&#10;Color: (227, 0, 34)\" style=\"width: 20px; height: 20px;background-color: rgb(227, 0, 34);\"></td><td title=\"Index: [10, 13]&#10;Color: (18, 53, 36)\" style=\"width: 20px; height: 20px;background-color: rgb(18, 53, 36);\"></td><td title=\"Index: [10, 14]&#10;Color: (227, 0, 34)\" style=\"width: 20px; height: 20px;background-color: rgb(227, 0, 34);\"></td><td title=\"Index: [10, 15]&#10;Color: (18, 53, 36)\" style=\"width: 20px; height: 20px;background-color: rgb(18, 53, 36);\"></td></tr><tr><td title=\"Index: [11, 0]&#10;Color: (18, 53, 36)\" style=\"width: 20px; height: 20px;background-color: rgb(18, 53, 36);\"></td><td title=\"Index: [11, 1]&#10;Color: (0, 255, 0)\" style=\"width: 20px; height: 20px;background-color: rgb(0, 255, 0);\"></td><td title=\"Index: [11, 2]&#10;Color: (18, 53, 36)\" style=\"width: 20px; height: 20px;background-color: rgb(18, 53, 36);\"></td><td title=\"Index: [11, 3]&#10;Color: (0, 255, 0)\" style=\"width: 20px; height: 20px;background-color: rgb(0, 255, 0);\"></td><td title=\"Index: [11, 4]&#10;Color: (18, 53, 36)\" style=\"width: 20px; height: 20px;background-color: rgb(18, 53, 36);\"></td><td title=\"Index: [11, 5]&#10;Color: (0, 255, 0)\" style=\"width: 20px; height: 20px;background-color: rgb(0, 255, 0);\"></td><td title=\"Index: [11, 6]&#10;Color: (18, 53, 36)\" style=\"width: 20px; height: 20px;background-color: rgb(18, 53, 36);\"></td><td title=\"Index: [11, 7]&#10;Color: (0, 255, 0)\" style=\"width: 20px; height: 20px;background-color: rgb(0, 255, 0);\"></td><td title=\"Index: [11, 8]&#10;Color: (18, 53, 36)\" style=\"width: 20px; height: 20px;background-color: rgb(18, 53, 36);\"></td><td title=\"Index: [11, 9]&#10;Color: (0, 255, 0)\" style=\"width: 20px; height: 20px;background-color: rgb(0, 255, 0);\"></td><td title=\"Index: [11, 10]&#10;Color: (18, 53, 36)\" style=\"width: 20px; height: 20px;background-color: rgb(18, 53, 36);\"></td><td title=\"Index: [11, 11]&#10;Color: (0, 255, 0)\" style=\"width: 20px; height: 20px;background-color: rgb(0, 255, 0);\"></td><td title=\"Index: [11, 12]&#10;Color: (18, 53, 36)\" style=\"width: 20px; height: 20px;background-color: rgb(18, 53, 36);\"></td><td title=\"Index: [11, 13]&#10;Color: (0, 255, 0)\" style=\"width: 20px; height: 20px;background-color: rgb(0, 255, 0);\"></td><td title=\"Index: [11, 14]&#10;Color: (18, 53, 36)\" style=\"width: 20px; height: 20px;background-color: rgb(18, 53, 36);\"></td><td title=\"Index: [11, 15]&#10;Color: (0, 255, 0)\" style=\"width: 20px; height: 20px;background-color: rgb(0, 255, 0);\"></td></tr><tr><td title=\"Index: [12, 0]&#10;Color: (227, 0, 34)\" style=\"width: 20px; height: 20px;background-color: rgb(227, 0, 34);\"></td><td title=\"Index: [12, 1]&#10;Color: (18, 53, 36)\" style=\"width: 20px; height: 20px;background-color: rgb(18, 53, 36);\"></td><td title=\"Index: [12, 2]&#10;Color: (227, 0, 34)\" style=\"width: 20px; height: 20px;background-color: rgb(227, 0, 34);\"></td><td title=\"Index: [12, 3]&#10;Color: (18, 53, 36)\" style=\"width: 20px; height: 20px;background-color: rgb(18, 53, 36);\"></td><td title=\"Index: [12, 4]&#10;Color: (227, 0, 34)\" style=\"width: 20px; height: 20px;background-color: rgb(227, 0, 34);\"></td><td title=\"Index: [12, 5]&#10;Color: (18, 53, 36)\" style=\"width: 20px; height: 20px;background-color: rgb(18, 53, 36);\"></td><td title=\"Index: [12, 6]&#10;Color: (227, 0, 34)\" style=\"width: 20px; height: 20px;background-color: rgb(227, 0, 34);\"></td><td title=\"Index: [12, 7]&#10;Color: (18, 53, 36)\" style=\"width: 20px; height: 20px;background-color: rgb(18, 53, 36);\"></td><td title=\"Index: [12, 8]&#10;Color: (227, 0, 34)\" style=\"width: 20px; height: 20px;background-color: rgb(227, 0, 34);\"></td><td title=\"Index: [12, 9]&#10;Color: (18, 53, 36)\" style=\"width: 20px; height: 20px;background-color: rgb(18, 53, 36);\"></td><td title=\"Index: [12, 10]&#10;Color: (227, 0, 34)\" style=\"width: 20px; height: 20px;background-color: rgb(227, 0, 34);\"></td><td title=\"Index: [12, 11]&#10;Color: (18, 53, 36)\" style=\"width: 20px; height: 20px;background-color: rgb(18, 53, 36);\"></td><td title=\"Index: [12, 12]&#10;Color: (227, 0, 34)\" style=\"width: 20px; height: 20px;background-color: rgb(227, 0, 34);\"></td><td title=\"Index: [12, 13]&#10;Color: (18, 53, 36)\" style=\"width: 20px; height: 20px;background-color: rgb(18, 53, 36);\"></td><td title=\"Index: [12, 14]&#10;Color: (227, 0, 34)\" style=\"width: 20px; height: 20px;background-color: rgb(227, 0, 34);\"></td><td title=\"Index: [12, 15]&#10;Color: (18, 53, 36)\" style=\"width: 20px; height: 20px;background-color: rgb(18, 53, 36);\"></td></tr><tr><td title=\"Index: [13, 0]&#10;Color: (18, 53, 36)\" style=\"width: 20px; height: 20px;background-color: rgb(18, 53, 36);\"></td><td title=\"Index: [13, 1]&#10;Color: (0, 255, 0)\" style=\"width: 20px; height: 20px;background-color: rgb(0, 255, 0);\"></td><td title=\"Index: [13, 2]&#10;Color: (18, 53, 36)\" style=\"width: 20px; height: 20px;background-color: rgb(18, 53, 36);\"></td><td title=\"Index: [13, 3]&#10;Color: (0, 255, 0)\" style=\"width: 20px; height: 20px;background-color: rgb(0, 255, 0);\"></td><td title=\"Index: [13, 4]&#10;Color: (18, 53, 36)\" style=\"width: 20px; height: 20px;background-color: rgb(18, 53, 36);\"></td><td title=\"Index: [13, 5]&#10;Color: (0, 255, 0)\" style=\"width: 20px; height: 20px;background-color: rgb(0, 255, 0);\"></td><td title=\"Index: [13, 6]&#10;Color: (18, 53, 36)\" style=\"width: 20px; height: 20px;background-color: rgb(18, 53, 36);\"></td><td title=\"Index: [13, 7]&#10;Color: (0, 255, 0)\" style=\"width: 20px; height: 20px;background-color: rgb(0, 255, 0);\"></td><td title=\"Index: [13, 8]&#10;Color: (18, 53, 36)\" style=\"width: 20px; height: 20px;background-color: rgb(18, 53, 36);\"></td><td title=\"Index: [13, 9]&#10;Color: (0, 255, 0)\" style=\"width: 20px; height: 20px;background-color: rgb(0, 255, 0);\"></td><td title=\"Index: [13, 10]&#10;Color: (18, 53, 36)\" style=\"width: 20px; height: 20px;background-color: rgb(18, 53, 36);\"></td><td title=\"Index: [13, 11]&#10;Color: (0, 255, 0)\" style=\"width: 20px; height: 20px;background-color: rgb(0, 255, 0);\"></td><td title=\"Index: [13, 12]&#10;Color: (18, 53, 36)\" style=\"width: 20px; height: 20px;background-color: rgb(18, 53, 36);\"></td><td title=\"Index: [13, 13]&#10;Color: (0, 255, 0)\" style=\"width: 20px; height: 20px;background-color: rgb(0, 255, 0);\"></td><td title=\"Index: [13, 14]&#10;Color: (18, 53, 36)\" style=\"width: 20px; height: 20px;background-color: rgb(18, 53, 36);\"></td><td title=\"Index: [13, 15]&#10;Color: (0, 255, 0)\" style=\"width: 20px; height: 20px;background-color: rgb(0, 255, 0);\"></td></tr><tr><td title=\"Index: [14, 0]&#10;Color: (227, 0, 34)\" style=\"width: 20px; height: 20px;background-color: rgb(227, 0, 34);\"></td><td title=\"Index: [14, 1]&#10;Color: (18, 53, 36)\" style=\"width: 20px; height: 20px;background-color: rgb(18, 53, 36);\"></td><td title=\"Index: [14, 2]&#10;Color: (227, 0, 34)\" style=\"width: 20px; height: 20px;background-color: rgb(227, 0, 34);\"></td><td title=\"Index: [14, 3]&#10;Color: (18, 53, 36)\" style=\"width: 20px; height: 20px;background-color: rgb(18, 53, 36);\"></td><td title=\"Index: [14, 4]&#10;Color: (227, 0, 34)\" style=\"width: 20px; height: 20px;background-color: rgb(227, 0, 34);\"></td><td title=\"Index: [14, 5]&#10;Color: (18, 53, 36)\" style=\"width: 20px; height: 20px;background-color: rgb(18, 53, 36);\"></td><td title=\"Index: [14, 6]&#10;Color: (227, 0, 34)\" style=\"width: 20px; height: 20px;background-color: rgb(227, 0, 34);\"></td><td title=\"Index: [14, 7]&#10;Color: (18, 53, 36)\" style=\"width: 20px; height: 20px;background-color: rgb(18, 53, 36);\"></td><td title=\"Index: [14, 8]&#10;Color: (227, 0, 34)\" style=\"width: 20px; height: 20px;background-color: rgb(227, 0, 34);\"></td><td title=\"Index: [14, 9]&#10;Color: (18, 53, 36)\" style=\"width: 20px; height: 20px;background-color: rgb(18, 53, 36);\"></td><td title=\"Index: [14, 10]&#10;Color: (227, 0, 34)\" style=\"width: 20px; height: 20px;background-color: rgb(227, 0, 34);\"></td><td title=\"Index: [14, 11]&#10;Color: (18, 53, 36)\" style=\"width: 20px; height: 20px;background-color: rgb(18, 53, 36);\"></td><td title=\"Index: [14, 12]&#10;Color: (227, 0, 34)\" style=\"width: 20px; height: 20px;background-color: rgb(227, 0, 34);\"></td><td title=\"Index: [14, 13]&#10;Color: (18, 53, 36)\" style=\"width: 20px; height: 20px;background-color: rgb(18, 53, 36);\"></td><td title=\"Index: [14, 14]&#10;Color: (227, 0, 34)\" style=\"width: 20px; height: 20px;background-color: rgb(227, 0, 34);\"></td><td title=\"Index: [14, 15]&#10;Color: (18, 53, 36)\" style=\"width: 20px; height: 20px;background-color: rgb(18, 53, 36);\"></td></tr><tr><td title=\"Index: [15, 0]&#10;Color: (18, 53, 36)\" style=\"width: 20px; height: 20px;background-color: rgb(18, 53, 36);\"></td><td title=\"Index: [15, 1]&#10;Color: (0, 255, 0)\" style=\"width: 20px; height: 20px;background-color: rgb(0, 255, 0);\"></td><td title=\"Index: [15, 2]&#10;Color: (18, 53, 36)\" style=\"width: 20px; height: 20px;background-color: rgb(18, 53, 36);\"></td><td title=\"Index: [15, 3]&#10;Color: (0, 255, 0)\" style=\"width: 20px; height: 20px;background-color: rgb(0, 255, 0);\"></td><td title=\"Index: [15, 4]&#10;Color: (18, 53, 36)\" style=\"width: 20px; height: 20px;background-color: rgb(18, 53, 36);\"></td><td title=\"Index: [15, 5]&#10;Color: (0, 255, 0)\" style=\"width: 20px; height: 20px;background-color: rgb(0, 255, 0);\"></td><td title=\"Index: [15, 6]&#10;Color: (18, 53, 36)\" style=\"width: 20px; height: 20px;background-color: rgb(18, 53, 36);\"></td><td title=\"Index: [15, 7]&#10;Color: (0, 255, 0)\" style=\"width: 20px; height: 20px;background-color: rgb(0, 255, 0);\"></td><td title=\"Index: [15, 8]&#10;Color: (18, 53, 36)\" style=\"width: 20px; height: 20px;background-color: rgb(18, 53, 36);\"></td><td title=\"Index: [15, 9]&#10;Color: (0, 255, 0)\" style=\"width: 20px; height: 20px;background-color: rgb(0, 255, 0);\"></td><td title=\"Index: [15, 10]&#10;Color: (18, 53, 36)\" style=\"width: 20px; height: 20px;background-color: rgb(18, 53, 36);\"></td><td title=\"Index: [15, 11]&#10;Color: (0, 255, 0)\" style=\"width: 20px; height: 20px;background-color: rgb(0, 255, 0);\"></td><td title=\"Index: [15, 12]&#10;Color: (18, 53, 36)\" style=\"width: 20px; height: 20px;background-color: rgb(18, 53, 36);\"></td><td title=\"Index: [15, 13]&#10;Color: (0, 255, 0)\" style=\"width: 20px; height: 20px;background-color: rgb(0, 255, 0);\"></td><td title=\"Index: [15, 14]&#10;Color: (18, 53, 36)\" style=\"width: 20px; height: 20px;background-color: rgb(18, 53, 36);\"></td><td title=\"Index: [15, 15]&#10;Color: (0, 255, 0)\" style=\"width: 20px; height: 20px;background-color: rgb(0, 255, 0);\"></td></tr></tbody></table>"
      ],
      "text/plain": [
       "<ipythonblocks.ipythonblocks.BlockGrid at 0x7fcee833c3c8>"
      ]
     },
     "execution_count": 2,
     "metadata": {},
     "output_type": "execute_result"
    }
   ],
   "source": [
    "grid = BlockGrid(16, 16, fill=(18, 53, 36)) \n",
    "# 18, 53, 36 is the RGB value for \"phthalo green.\"\n",
    "#grid.show()\n",
    "i = 0\n",
    "while i < grid.width:\n",
    "    j = 0\n",
    "    while j < grid.height:\n",
    "        #if i%2 == 0 or j % 2 == 0:\n",
    "        #if not (i+j)%2:\n",
    "        if (i % 2) == 0 and (j % 2) == 0:\n",
    "            grid[i,j] = (227, 0, 34)\n",
    "        elif (i % 2 == 1) and (j % 2) == 1:\n",
    "            grid[i,j] = (0,255,0)\n",
    "                               \n",
    "            \n",
    "        j += 1 # shorthand for j = j + 1\n",
    "    i += 1\n",
    "    \n",
    "grid"
   ]
  },
  {
   "cell_type": "markdown",
   "metadata": {
    "internals": {
     "frag_helper": "fragment_end",
     "frag_number": 23,
     "slide_type": "subslide"
    },
    "slideshow": {
     "slide_type": "subslide"
    }
   },
   "source": [
    "## **while** loops  may execute anywhere between  *zero*   and  $\\infty$ times\n",
    "\n",
    "* *Zero* when the condition initially evaluates as False\n",
    "* $\\infty$ when the condition always evaluates as True\n",
    "\n",
    "### Loops can be broken out of with a *break* statement\n",
    "\n",
    "### $\\infty$ loops\n",
    "* This is often an accident\n",
    "* But this can be also be very useful"
   ]
  },
  {
   "cell_type": "code",
   "execution_count": 3,
   "metadata": {
    "internals": {
     "frag_helper": "fragment_end",
     "frag_number": 32,
     "slide_helper": "subslide_end"
    },
    "slide_helper": "subslide_end",
    "slideshow": {
     "slide_type": "fragment"
    }
   },
   "outputs": [
    {
     "name": "stdout",
     "output_type": "stream",
     "text": [
      "Enter an even number 4\n",
      "4\n"
     ]
    }
   ],
   "source": [
    "while True:\n",
    "    y = int(input(\"Enter an even number \"))\n",
    "    if y % 2 == 0:\n",
    "        break\n",
    "print(y)"
   ]
  },
  {
   "cell_type": "code",
   "execution_count": 4,
   "metadata": {
    "internals": {
     "frag_helper": "fragment_end",
     "frag_number": 32,
     "slide_helper": "subslide_end",
     "slide_type": "subslide"
    },
    "slide_helper": "subslide_end",
    "slideshow": {
     "slide_type": "subslide"
    }
   },
   "outputs": [
    {
     "name": "stdout",
     "output_type": "stream",
     "text": [
      "Enter a non negative number-3\n",
      "Enter a non negative number-5\n",
      "Enter a non negative number3\n",
      "3\n"
     ]
    }
   ],
   "source": [
    "num = -1\n",
    "while num < 0:\n",
    "    num = int(input(\"Enter a non negative number\") )   \n",
    "print(num)"
   ]
  },
  {
   "cell_type": "code",
   "execution_count": 5,
   "metadata": {
    "internals": {
     "frag_helper": "fragment_end",
     "frag_number": 32,
     "slide_helper": "subslide_end",
     "slide_type": "subslide"
    },
    "slide_helper": "slide_end",
    "slideshow": {
     "slide_type": "subslide"
    }
   },
   "outputs": [
    {
     "name": "stdout",
     "output_type": "stream",
     "text": [
      "5050\n",
      "101\n"
     ]
    }
   ],
   "source": [
    "x = 1\n",
    "sum = 0\n",
    "while x <= 100:\n",
    "    sum += x\n",
    "    x+=1\n",
    "print(sum)\n",
    "\n",
    "print(x)"
   ]
  },
  {
   "cell_type": "markdown",
   "metadata": {},
   "source": [
    "### [while else](http://www.python-course.eu/loops.php)"
   ]
  },
  {
   "cell_type": "code",
   "execution_count": null,
   "metadata": {
    "collapsed": true
   },
   "outputs": [],
   "source": []
  }
 ],
 "metadata": {
  "kernelspec": {
   "display_name": "Python 3",
   "language": "python",
   "name": "python3"
  },
  "language_info": {
   "codemirror_mode": {
    "name": "ipython",
    "version": 3
   },
   "file_extension": ".py",
   "mimetype": "text/x-python",
   "name": "python",
   "nbconvert_exporter": "python",
   "pygments_lexer": "ipython3",
   "version": "3.5.2"
  }
 },
 "nbformat": 4,
 "nbformat_minor": 1
}
