{
 "cells": [
  {
   "cell_type": "markdown",
   "metadata": {
    "deletable": false,
    "editable": false,
    "nbgrader": {
     "checksum": "7874b05cbfaef34331de3a4411cea603",
     "grade": false,
     "grade_id": "cell-3bfa4396404fd190",
     "locked": true,
     "schema_version": 1,
     "solution": false
    }
   },
   "source": [
    "## Differential Calculus\n",
    "\n",
    "Differential calculus is the study of how things change. These things\n",
    "can be drug concentration in the blood, the blood pressure in an\n",
    "artery, or the number of bacteria in a culture, to list a few physical\n",
    "examples. Since\n",
    "we can express the physical quantities in terms of functions, these\n",
    "problems are similar. We may, in fact, have problems that look identical mathematically, although they vary in their motivation.\n",
    "\n",
    "* [Wired Crash Course on Derivatives](https://www.wired.com/2015/04/crash-course-derivatives/)\n",
    "\n",
    "How do you compute the slope of a straight line? Pick two points on the\n",
    "line $x_1$ and $x_2$ and take the y values at those two points: $y_1$\n",
    "and $y_2$. The slope of the line, that is how fast $y$ changes with $x$,\n",
    "is then computed as follows:\n",
    "$$\\frac{\\Delta y}{\\Delta x}= \\frac{y_2-y_1}{x_2-x_1}$$\n",
    "\n",
    "If we assume the function we are computing the slope for is a function $f(x)$, we can rewrite the slope as \n",
    "$$ \n",
    "\\frac{\\Delta y}{\\Delta x}= \\frac{f(x)-f(x+h)}{h}$$\n",
    "\n",
    "The derivative is defined as the limit as $h$ approaches zero.\n",
    "\n",
    "$$\n",
    "\\frac{df}{dx} = \\lim_{h\\to 0}\\frac{f(x)-f(x+h)}{h}\n",
    "$$\n",
    "\n",
    "### Ways you might See Derivatives Written\n",
    "#### Leibniz's Notation\n",
    "\n",
    "$$\n",
    "\\frac{df}{dx}\n",
    "$$\n",
    "\n",
    "#### Lagrange's Notation\n",
    "$$\n",
    "f'(x)\n",
    "$$\n",
    "\n",
    "#### Euler's Notation\n",
    "$$\n",
    "D f(x)\n",
    "$$\n",
    "\n",
    "#### Newton's Notation\n",
    "$$\n",
    "\\dot f(x)\n",
    "$$\n",
    "\n",
    "### Higher Order Derivatives\n",
    "\n",
    "We can of course have derivatives of derivatives and derivatives of derivatives of derivatives and so on. These higher order derivatives would be indicated with the above notation as\n",
    "\n",
    "$$\n",
    "\\begin{array}{ll}\n",
    "\\frac{d^2f}{dx^2} & \\frac{d^nf}{dx^n}\\\\\n",
    "f''(x) & f^{(n)}(x)\\\\\n",
    "D^2f(x) & D^nf(x)\\\\\n",
    "\\ddot f(x), & \\dddot f(x)\\\\\n",
    "\\end{array}\n",
    "$$"
   ]
  },
  {
   "cell_type": "code",
   "execution_count": 1,
   "metadata": {
    "collapsed": true,
    "deletable": false,
    "editable": false,
    "nbgrader": {
     "checksum": "208337ceaa8084b06c725f8ea3fd5b95",
     "grade": false,
     "grade_id": "cell-c73db4d12222b5f7",
     "locked": true,
     "schema_version": 1,
     "solution": false
    }
   },
   "outputs": [],
   "source": [
    "import numpy as np\n",
    "import math\n",
    "import matplotlib.pyplot as plt\n",
    "from sympy import symbols\n",
    "from sympy.plotting import plot\n",
    "from sympy import diff, limit, lambdify"
   ]
  },
  {
   "cell_type": "markdown",
   "metadata": {},
   "source": [
    "### We Need A Demonstration Function"
   ]
  },
  {
   "cell_type": "code",
   "execution_count": 2,
   "metadata": {
    "collapsed": true
   },
   "outputs": [],
   "source": [
    "def function2(x):\n",
    "    \"\"\"returns a third-order polynomial in x\"\"\"\n",
    "    return (x-3)**3-5*(x+2)**2+4*x"
   ]
  },
  {
   "cell_type": "markdown",
   "metadata": {},
   "source": [
    "### Plot `function2` and Compute and Plot the Derivatives with Sympy\n",
    "\n",
    "#### The Derivatives Have meaning\n",
    "\n",
    "1. 1st Derivative (slope): how rapidly is the function changing?\n",
    "1. 2nd Derivative (curvature): are we at a maximum or a minimum (is the function curving down or up)?"
   ]
  },
  {
   "cell_type": "code",
   "execution_count": 3,
   "metadata": {},
   "outputs": [
    {
     "data": {
      "image/png": "[encoded data removed]",
      "text/plain": [
       "<matplotlib.figure.Figure at 0x7ff8287d3208>"
      ]
     },
     "metadata": {},
     "output_type": "display_data"
    }
   ],
   "source": [
    "x = symbols('x')\n",
    "\n",
    "p = plot(function2(x), \n",
    "         diff(function2(x)), \n",
    "         diff(diff(function2(x))), \n",
    "         (x,-5, 15), show=False, legend=True)\n",
    "p[0].line_color = 'red'\n",
    "p[0].label = \"original function\"\n",
    "p[1].line_color = 'green'\n",
    "p[1].label = \"1st derivative (slope)\"\n",
    "p[2].line_color = \"blue\"\n",
    "p[2].label = '2nd derivative (curvature)'\n",
    "p.show()"
   ]
  },
  {
   "cell_type": "markdown",
   "metadata": {},
   "source": [
    "## Demonstrate that the derivative is really just a limit"
   ]
  },
  {
   "cell_type": "code",
   "execution_count": 4,
   "metadata": {},
   "outputs": [
    {
     "data": {
      "image/png": "[encoded data removed]",
      "text/plain": [
       "<matplotlib.figure.Figure at 0x7ff8266de438>"
      ]
     },
     "metadata": {},
     "output_type": "display_data"
    }
   ],
   "source": [
    "x,h = symbols('x h')\n",
    "\n",
    "p = plot(function2(x), \n",
    "         limit((function2(x+h)-function2(x))/h, h, 0), \n",
    "         (x,-5, 15), show=False, legend=True)\n",
    "p[0].line_color = 'red'\n",
    "p[0].label = \"original function\"\n",
    "p[1].line_color = 'green'\n",
    "p[1].label = \"limit of finite difference\"\n",
    "p.show()"
   ]
  },
  {
   "cell_type": "markdown",
   "metadata": {},
   "source": [
    "## We can compute higher-order derivatives directly with ``diff``\n",
    "* Specify the variable to take derivative wrt (with respect to)\n",
    "* Specify the order of the derivative"
   ]
  },
  {
   "cell_type": "code",
   "execution_count": 5,
   "metadata": {},
   "outputs": [
    {
     "data": {
      "image/png": "[encoded data removed]",
      "text/plain": [
       "<matplotlib.figure.Figure at 0x7ff8265db5c0>"
      ]
     },
     "metadata": {},
     "output_type": "display_data"
    }
   ],
   "source": [
    "x = symbols('x')\n",
    "\n",
    "p = plot(function2(x), \n",
    "         diff(function2(x), x, 1), \n",
    "         diff(function2(x), x, 2), (x,-5, 15), show=False, legend=True)\n",
    "p[0].line_color = 'red'\n",
    "p[0].label = \"original function\"\n",
    "p[1].line_color = 'green'\n",
    "p[1].label = \"1st derivative (slope)\"\n",
    "p[2].line_color = \"blue\"\n",
    "p[2].label = '2nd derivative (curvature)'\n",
    "p.show()"
   ]
  },
  {
   "cell_type": "markdown",
   "metadata": {
    "deletable": false,
    "editable": false,
    "nbgrader": {
     "checksum": "62c696ac889329d0df520a769110830d",
     "grade": false,
     "grade_id": "cell-1145d3700f9c749f",
     "locked": true,
     "schema_version": 1,
     "solution": false
    }
   },
   "source": [
    "## Approximate derivative numerically\n",
    "\n",
    "Using our definition of the derivative, we can compute derivatives numerically\n",
    "\n",
    "### Using [Matplotlib](http://matplotlib.org/) to plot  data\n",
    "\n",
    "The most common plotting package in Python is Matplotlib. The simplest plot in matplotlib is a line plot via the [``plot``](http://matplotlib.org/api/pyplot_api.html#matplotlib.pyplot.plot) function."
   ]
  },
  {
   "cell_type": "markdown",
   "metadata": {
    "deletable": false,
    "editable": false,
    "nbgrader": {
     "checksum": "9e077c57dc047f9f986c1609b8d982e2",
     "grade": false,
     "grade_id": "cell-001fe00df6ffd452",
     "locked": true,
     "schema_version": 1,
     "solution": false
    }
   },
   "source": [
    "### Create a range of x values"
   ]
  },
  {
   "cell_type": "code",
   "execution_count": 6,
   "metadata": {
    "collapsed": true,
    "deletable": false,
    "editable": false,
    "nbgrader": {
     "checksum": "0e87c43ce11d3b83ad752f39c6c6a045",
     "grade": false,
     "grade_id": "cell-40c47f075da64fc8",
     "locked": true,
     "schema_version": 1,
     "solution": false
    }
   },
   "outputs": [],
   "source": [
    "xs = np.arange(-5,15, 0.1)"
   ]
  },
  {
   "cell_type": "code",
   "execution_count": 30,
   "metadata": {},
   "outputs": [
    {
     "name": "stdout",
     "output_type": "stream",
     "text": [
      "[ -5.00000000e+00  -4.90000000e+00  -4.80000000e+00  -4.70000000e+00\n",
      "  -4.60000000e+00  -4.50000000e+00  -4.40000000e+00  -4.30000000e+00\n",
      "  -4.20000000e+00  -4.10000000e+00  -4.00000000e+00  -3.90000000e+00\n",
      "  -3.80000000e+00  -3.70000000e+00  -3.60000000e+00  -3.50000000e+00\n",
      "  -3.40000000e+00  -3.30000000e+00  -3.20000000e+00  -3.10000000e+00\n",
      "  -3.00000000e+00  -2.90000000e+00  -2.80000000e+00  -2.70000000e+00\n",
      "  -2.60000000e+00  -2.50000000e+00  -2.40000000e+00  -2.30000000e+00\n",
      "  -2.20000000e+00  -2.10000000e+00  -2.00000000e+00  -1.90000000e+00\n",
      "  -1.80000000e+00  -1.70000000e+00  -1.60000000e+00  -1.50000000e+00\n",
      "  -1.40000000e+00  -1.30000000e+00  -1.20000000e+00  -1.10000000e+00\n",
      "  -1.00000000e+00  -9.00000000e-01  -8.00000000e-01  -7.00000000e-01\n",
      "  -6.00000000e-01  -5.00000000e-01  -4.00000000e-01  -3.00000000e-01\n",
      "  -2.00000000e-01  -1.00000000e-01  -1.77635684e-14   1.00000000e-01\n",
      "   2.00000000e-01   3.00000000e-01   4.00000000e-01   5.00000000e-01\n",
      "   6.00000000e-01   7.00000000e-01   8.00000000e-01   9.00000000e-01\n",
      "   1.00000000e+00   1.10000000e+00   1.20000000e+00   1.30000000e+00\n",
      "   1.40000000e+00   1.50000000e+00   1.60000000e+00   1.70000000e+00\n",
      "   1.80000000e+00   1.90000000e+00   2.00000000e+00   2.10000000e+00\n",
      "   2.20000000e+00   2.30000000e+00   2.40000000e+00   2.50000000e+00\n",
      "   2.60000000e+00   2.70000000e+00   2.80000000e+00   2.90000000e+00\n",
      "   3.00000000e+00   3.10000000e+00   3.20000000e+00   3.30000000e+00\n",
      "   3.40000000e+00   3.50000000e+00   3.60000000e+00   3.70000000e+00\n",
      "   3.80000000e+00   3.90000000e+00   4.00000000e+00   4.10000000e+00\n",
      "   4.20000000e+00   4.30000000e+00   4.40000000e+00   4.50000000e+00\n",
      "   4.60000000e+00   4.70000000e+00   4.80000000e+00   4.90000000e+00\n",
      "   5.00000000e+00   5.10000000e+00   5.20000000e+00   5.30000000e+00\n",
      "   5.40000000e+00   5.50000000e+00   5.60000000e+00   5.70000000e+00\n",
      "   5.80000000e+00   5.90000000e+00   6.00000000e+00   6.10000000e+00\n",
      "   6.20000000e+00   6.30000000e+00   6.40000000e+00   6.50000000e+00\n",
      "   6.60000000e+00   6.70000000e+00   6.80000000e+00   6.90000000e+00\n",
      "   7.00000000e+00   7.10000000e+00   7.20000000e+00   7.30000000e+00\n",
      "   7.40000000e+00   7.50000000e+00   7.60000000e+00   7.70000000e+00\n",
      "   7.80000000e+00   7.90000000e+00   8.00000000e+00   8.10000000e+00\n",
      "   8.20000000e+00   8.30000000e+00   8.40000000e+00   8.50000000e+00\n",
      "   8.60000000e+00   8.70000000e+00   8.80000000e+00   8.90000000e+00\n",
      "   9.00000000e+00   9.10000000e+00   9.20000000e+00   9.30000000e+00\n",
      "   9.40000000e+00   9.50000000e+00   9.60000000e+00   9.70000000e+00\n",
      "   9.80000000e+00   9.90000000e+00   1.00000000e+01   1.01000000e+01\n",
      "   1.02000000e+01   1.03000000e+01   1.04000000e+01   1.05000000e+01\n",
      "   1.06000000e+01   1.07000000e+01   1.08000000e+01   1.09000000e+01\n",
      "   1.10000000e+01   1.11000000e+01   1.12000000e+01   1.13000000e+01\n",
      "   1.14000000e+01   1.15000000e+01   1.16000000e+01   1.17000000e+01\n",
      "   1.18000000e+01   1.19000000e+01   1.20000000e+01   1.21000000e+01\n",
      "   1.22000000e+01   1.23000000e+01   1.24000000e+01   1.25000000e+01\n",
      "   1.26000000e+01   1.27000000e+01   1.28000000e+01   1.29000000e+01\n",
      "   1.30000000e+01   1.31000000e+01   1.32000000e+01   1.33000000e+01\n",
      "   1.34000000e+01   1.35000000e+01   1.36000000e+01   1.37000000e+01\n",
      "   1.38000000e+01   1.39000000e+01   1.40000000e+01   1.41000000e+01\n",
      "   1.42000000e+01   1.43000000e+01   1.44000000e+01   1.45000000e+01\n",
      "   1.46000000e+01   1.47000000e+01   1.48000000e+01   1.49000000e+01]\n",
      "[-577.    -554.689 -532.952 -511.783 -491.176 -471.125 -451.624 -432.667\n",
      " -414.248 -396.361 -379.    -362.159 -345.832 -330.013 -314.696 -299.875\n",
      " -285.544 -271.697 -258.328 -245.431 -233.    -221.029 -209.512 -198.443\n",
      " -187.816 -177.625 -167.864 -158.527 -149.608 -141.101 -133.    -125.299\n",
      " -117.992 -111.073 -104.536  -98.375  -92.584  -87.157  -82.088  -77.371\n",
      "  -73.     -68.969  -65.272  -61.903  -58.856  -56.125  -53.704  -51.587\n",
      "  -49.768  -48.241  -47.     -46.039  -45.352  -44.933  -44.776  -44.875\n",
      "  -45.224  -45.817  -46.648  -47.711  -49.     -50.509  -52.232  -54.163\n",
      "  -56.296  -58.625  -61.144  -63.847  -66.728  -69.781  -73.     -76.379\n",
      "  -79.912  -83.593  -87.416  -91.375  -95.464  -99.677 -104.008 -108.451\n",
      " -113.    -117.649 -122.392 -127.223 -132.136 -137.125 -142.184 -147.307\n",
      " -152.488 -157.721 -163.    -168.319 -173.672 -179.053 -184.456 -189.875\n",
      " -195.304 -200.737 -206.168 -211.591 -217.    -222.389 -227.752 -233.083\n",
      " -238.376 -243.625 -248.824 -253.967 -259.048 -264.061 -269.    -273.859\n",
      " -278.632 -283.313 -287.896 -292.375 -296.744 -300.997 -305.128 -309.131\n",
      " -313.    -316.729 -320.312 -323.743 -327.016 -330.125 -333.064 -335.827\n",
      " -338.408 -340.801 -343.    -344.999 -346.792 -348.373 -349.736 -350.875\n",
      " -351.784 -352.457 -352.888 -353.071 -353.    -352.669 -352.072 -351.203\n",
      " -350.056 -348.625 -346.904 -344.887 -342.568 -339.941 -337.    -333.739\n",
      " -330.152 -326.233 -321.976 -317.375 -312.424 -307.117 -301.448 -295.411\n",
      " -289.    -282.209 -275.032 -267.463 -259.496 -251.125 -242.344 -233.147\n",
      " -223.528 -213.481 -203.    -192.079 -180.712 -168.893 -156.616 -143.875\n",
      " -130.664 -116.977 -102.808  -88.151  -73.     -57.349  -41.192  -24.523\n",
      "   -7.336   10.375   28.616   47.393   66.712   86.579  107.     127.981\n",
      "  149.528  171.647  194.344  217.625  241.496  265.963  291.032  316.709]\n"
     ]
    }
   ],
   "source": [
    "print(xs)\n",
    "print(function2(xs))"
   ]
  },
  {
   "cell_type": "markdown",
   "metadata": {
    "deletable": false,
    "editable": false,
    "nbgrader": {
     "checksum": "5d478ff23bea902dfd35086989652c83",
     "grade": false,
     "grade_id": "cell-4337dbd640264f27",
     "locked": true,
     "schema_version": 1,
     "solution": false
    }
   },
   "source": [
    "### We can use `plot` to just plot an array"
   ]
  },
  {
   "cell_type": "code",
   "execution_count": null,
   "metadata": {
    "collapsed": true
   },
   "outputs": [],
   "source": [
    "#plot(y)           \n",
    "#plot y using x as index array 0..N-1"
   ]
  },
  {
   "cell_type": "code",
   "execution_count": 7,
   "metadata": {
    "deletable": false,
    "editable": false,
    "nbgrader": {
     "checksum": "8b5cc7235b76831f667232b4913e2389",
     "grade": false,
     "grade_id": "cell-7791063962cc11d3",
     "locked": true,
     "schema_version": 1,
     "solution": false
    }
   },
   "outputs": [
    {
     "data": {
      "text/plain": [
       "[<matplotlib.lines.Line2D at 0x7ff82651e748>]"
      ]
     },
     "execution_count": 7,
     "metadata": {},
     "output_type": "execute_result"
    },
    {
     "data": {
      "image/png": "[encoded data removed]",
      "text/plain": [
       "<matplotlib.figure.Figure at 0x7ff8287c1748>"
      ]
     },
     "metadata": {},
     "output_type": "display_data"
    }
   ],
   "source": [
    "plt.plot(function2(xs))"
   ]
  },
  {
   "cell_type": "markdown",
   "metadata": {
    "deletable": false,
    "editable": false,
    "nbgrader": {
     "checksum": "a413ab64dafda1b402aa5d683f23838e",
     "grade": false,
     "grade_id": "cell-6dd18e0bf31da08f",
     "locked": true,
     "schema_version": 1,
     "solution": false
    }
   },
   "source": [
    "### Or we can plot one array vs another array"
   ]
  },
  {
   "cell_type": "code",
   "execution_count": 9,
   "metadata": {
    "deletable": false,
    "editable": false,
    "nbgrader": {
     "checksum": "07ec5bf4de2d8731478d7ded151fc3d5",
     "grade": false,
     "grade_id": "cell-690381e4b62f108d",
     "locked": true,
     "schema_version": 1,
     "solution": false
    }
   },
   "outputs": [
    {
     "data": {
      "text/plain": [
       "[<matplotlib.lines.Line2D at 0x7ff82648d2b0>]"
      ]
     },
     "execution_count": 9,
     "metadata": {},
     "output_type": "execute_result"
    },
    {
     "data": {
      "image/png": "[encoded data removed]",
      "text/plain": [
       "<matplotlib.figure.Figure at 0x7ff8264af8d0>"
      ]
     },
     "metadata": {},
     "output_type": "display_data"
    }
   ],
   "source": [
    "fp2 = lambdify(x, function2(x), \"numpy\")\n",
    "\n",
    "\n",
    "plt.plot(xs, function2(xs))"
   ]
  },
  {
   "cell_type": "markdown",
   "metadata": {
    "deletable": false,
    "editable": false,
    "nbgrader": {
     "checksum": "defea4d3443de7d03e8c329916c9239c",
     "grade": false,
     "grade_id": "cell-797d24c5bb0a14fd",
     "locked": true,
     "schema_version": 1,
     "solution": false
    }
   },
   "source": [
    "### Exercise: write a function that approximates the 1st derivate of a 1-D numpy array using a forward difference\n",
    "1. Use a for loop and an empty list (`derivative_v1`)\n",
    "1. Use a for loop and list comprehension (`derivative_v2`)\n",
    "2. Use array slicing (`derivative_v3`)\n",
    "\n",
    "#### Hints\n",
    "\n",
    "1. What arguments is the function going to need?\n",
    "1. What needs to be the limits of our for loop?"
   ]
  },
  {
   "cell_type": "code",
   "execution_count": 13,
   "metadata": {
    "deletable": false,
    "nbgrader": {
     "checksum": "404fb68b18b778f96ac95e1c188c6083",
     "grade": false,
     "grade_id": "cell-b0863e2d02452957",
     "locked": false,
     "schema_version": 1,
     "solution": true
    }
   },
   "outputs": [
    {
     "data": {
      "text/plain": [
       "[<matplotlib.lines.Line2D at 0x7ff826377128>]"
      ]
     },
     "execution_count": 13,
     "metadata": {},
     "output_type": "execute_result"
    },
    {
     "data": {
      "image/png": "[encoded data removed]",
      "text/plain": [
       "<matplotlib.figure.Figure at 0x7ff826430710>"
      ]
     },
     "metadata": {},
     "output_type": "display_data"
    }
   ],
   "source": [
    "def derivative_v1(x,h=0.1):\n",
    "    result =[]\n",
    "    for i in range(0,len(x)-1):\n",
    "        result.append((x[i+1]-x[i])/h)\n",
    "    return result\n",
    "plt.plot(derivative_v1(fp2(xs),0.1))"
   ]
  },
  {
   "cell_type": "code",
   "execution_count": null,
   "metadata": {
    "collapsed": true,
    "deletable": false,
    "nbgrader": {
     "checksum": "0faa9c6cabe3ffc80b4c0ddbfb8028d0",
     "grade": false,
     "grade_id": "cell-e087231fc8376ba9",
     "locked": false,
     "schema_version": 1,
     "solution": true
    }
   },
   "outputs": [],
   "source": [
    "# YOUR CODE HERE\n",
    "raise NotImplementedError()\n",
    "plt.plot(derivative_v2(fp2(xs)))"
   ]
  },
  {
   "cell_type": "code",
   "execution_count": 31,
   "metadata": {},
   "outputs": [],
   "source": [
    "y = fp2(xs)\n",
    "#print(y)\n",
    "#print(y[1:]) \n",
    "#print(y[:-1])"
   ]
  },
  {
   "cell_type": "code",
   "execution_count": 32,
   "metadata": {
    "deletable": false,
    "nbgrader": {
     "checksum": "564ac1e9e4bc4e16660bf06602da21f6",
     "grade": false,
     "grade_id": "cell-b7b870f5633095f8",
     "locked": false,
     "schema_version": 1,
     "solution": true
    }
   },
   "outputs": [
    {
     "data": {
      "text/plain": [
       "[<matplotlib.lines.Line2D at 0x7ff82674ae10>]"
      ]
     },
     "execution_count": 32,
     "metadata": {},
     "output_type": "execute_result"
    },
    {
     "data": {
      "image/png": "[encoded data removed]",
      "text/plain": [
       "<matplotlib.figure.Figure at 0x7ff826693b70>"
      ]
     },
     "metadata": {},
     "output_type": "display_data"
    }
   ],
   "source": [
    "#we want to subtract each element from the next element\n",
    "#x[1:] gives the \"next element\" set\n",
    "#x[:-1], which chops off the last element, gives us the \"this element\" set\n",
    "\n",
    "def derivative_v3(x, h=0.1):\n",
    "    q = (x[1:] - x[:-1])/h \n",
    "    return q\n",
    "plt.plot(derivative_v3(fp2(xs), 0.1))"
   ]
  },
  {
   "cell_type": "markdown",
   "metadata": {
    "deletable": false,
    "editable": false,
    "nbgrader": {
     "checksum": "0249ef5095dfd10c7d8245746858737d",
     "grade": false,
     "grade_id": "cell-5a8adecca6804678",
     "locked": true,
     "schema_version": 1,
     "solution": false
    }
   },
   "source": [
    "### What are our speed gains?"
   ]
  },
  {
   "cell_type": "code",
   "execution_count": null,
   "metadata": {
    "collapsed": true,
    "deletable": false,
    "editable": false,
    "nbgrader": {
     "checksum": "ee4c827a25540d03d9c6f534bb34f37e",
     "grade": false,
     "grade_id": "cell-194eea54c80311b0",
     "locked": true,
     "schema_version": 1,
     "solution": false
    }
   },
   "outputs": [],
   "source": [
    "%timeit derivative_v1(fp2(xs))"
   ]
  },
  {
   "cell_type": "code",
   "execution_count": null,
   "metadata": {
    "collapsed": true,
    "deletable": false,
    "editable": false,
    "nbgrader": {
     "checksum": "f42304293597af19dfadd080ae3703aa",
     "grade": false,
     "grade_id": "cell-69179057063c0f51",
     "locked": true,
     "schema_version": 1,
     "solution": false
    }
   },
   "outputs": [],
   "source": [
    "%timeit derivative_v2(fp2(xs))"
   ]
  },
  {
   "cell_type": "code",
   "execution_count": null,
   "metadata": {
    "collapsed": true,
    "deletable": false,
    "editable": false,
    "nbgrader": {
     "checksum": "a83e887fe1eebf866843fac34ddd336d",
     "grade": false,
     "grade_id": "cell-a1e8bc013fd952d0",
     "locked": true,
     "schema_version": 1,
     "solution": false
    }
   },
   "outputs": [],
   "source": [
    "%timeit derivative_v3(fp2(xs))"
   ]
  },
  {
   "cell_type": "markdown",
   "metadata": {
    "deletable": false,
    "editable": false,
    "nbgrader": {
     "checksum": "c737b2d88f8451d0f489f04cb110c7ec",
     "grade": false,
     "grade_id": "cell-8313bebde4ac02db",
     "locked": true,
     "schema_version": 1,
     "solution": false
    }
   },
   "source": [
    "## Our plots haven't demonstrated the correct units in `x`"
   ]
  },
  {
   "cell_type": "code",
   "execution_count": null,
   "metadata": {
    "collapsed": true
   },
   "outputs": [],
   "source": [
    "plt.plot(xs, function2(xs))\n",
    "plt.plot(xs, derivative_v1(function2(xs)))"
   ]
  },
  {
   "cell_type": "markdown",
   "metadata": {
    "deletable": false,
    "editable": false,
    "nbgrader": {
     "checksum": "7915bae83b61dce353ca98f0a75ad40f",
     "grade": false,
     "grade_id": "cell-820792408b3ac26e",
     "locked": true,
     "schema_version": 1,
     "solution": false
    }
   },
   "source": [
    "### What Went Wrong?"
   ]
  },
  {
   "cell_type": "markdown",
   "metadata": {
    "deletable": false,
    "editable": false,
    "nbgrader": {
     "checksum": "4c22eab0e0b52f5e11fd8a14a2435753",
     "grade": false,
     "grade_id": "cell-177a9a3a074255ab",
     "locked": true,
     "schema_version": 1,
     "solution": false
    }
   },
   "source": [
    "## Exploring line plots with Matplotlib\n",
    "### Secondary Axis"
   ]
  },
  {
   "cell_type": "code",
   "execution_count": null,
   "metadata": {
    "collapsed": true
   },
   "outputs": [],
   "source": [
    "fig, ax1 = plt.subplots()\n",
    "fig.set_size_inches(5,5)\n",
    "\n",
    "ax1.plot(xs, function2(xs), 'b-')\n",
    "ax1.set_xlabel('x (s)')\n",
    "# Make the y-axis label and tick labels match the line color.\n",
    "ax1.set_ylabel('f(x)', color='b')\n",
    "for tl in ax1.get_yticklabels():\n",
    "    tl.set_color('b')\n",
    "\n",
    "\n",
    "ax2 = ax1.twinx()\n",
    "s2 = derivative_v3(function2(xs))\n",
    "ax2.plot(xs[1:], s2, 'r')\n",
    "ax2.set_ylabel('df/dx', color='r')\n",
    "for tl in ax2.get_yticklabels():\n",
    "    tl.set_color('r')\n",
    "plt.show()"
   ]
  },
  {
   "cell_type": "code",
   "execution_count": null,
   "metadata": {
    "collapsed": true
   },
   "outputs": [],
   "source": []
  }
 ],
 "metadata": {
  "kernelspec": {
   "display_name": "Python 3",
   "language": "python",
   "name": "python3"
  },
  "language_info": {
   "codemirror_mode": {
    "name": "ipython",
    "version": 3
   },
   "file_extension": ".py",
   "mimetype": "text/x-python",
   "name": "python",
   "nbconvert_exporter": "python",
   "pygments_lexer": "ipython3",
   "version": "3.5.2"
  }
 },
 "nbformat": 4,
 "nbformat_minor": 1
}
