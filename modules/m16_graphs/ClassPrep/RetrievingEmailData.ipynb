{
 "cells": [
  {
   "cell_type": "markdown",
   "metadata": {
    "internals": {
     "slide_helper": "subslide_end",
     "slide_type": "subslide"
    },
    "slide_helper": "slide_end",
    "slideshow": {
     "slide_type": "slide"
    }
   },
   "source": [
    "# Using Python to Access Your E-mail\n",
    "\n",
    "Python has several modules in its standard library to work with e-mail and other web tools. Using Python you can compose and send e-mails as well as retrieve e-mails from mail servers and parse the content of e-mail files. In this notebook we will do the later two.\n",
    "\n",
    "For the example here I am going to use my University of Utah e-mail. Similar approaches can be used for other e-mail providers. For example, [here](https://developers.google.com/gmail/api/quickstart/python) are instructions from Google about how to interact with Gmail via Python."
   ]
  },
  {
   "cell_type": "code",
   "execution_count": 1,
   "metadata": {
    "collapsed": true,
    "internals": {
     "slide_helper": "subslide_end"
    },
    "slide_helper": "slide_end",
    "slideshow": {
     "slide_type": "skip"
    }
   },
   "outputs": [],
   "source": [
    "import os\n",
    "DATADIR = os.path.join(os.getcwd())\n",
    "import csv\n",
    "import imaplib\n",
    "import getpass\n",
    "import email\n",
    "from collections import defaultdict\n",
    "import gzip\n",
    "import pickle\n"
   ]
  },
  {
   "cell_type": "markdown",
   "metadata": {
    "internals": {
     "slide_helper": "subslide_end",
     "slide_type": "subslide"
    },
    "slide_helper": "subslide_end",
    "slideshow": {
     "slide_type": "slide"
    }
   },
   "source": [
    "# Working with E-Mail\n",
    "* Python has several modules for working with e-mail, including sending e-mails (not goint o talk about this), working with an inbox, and parsing e-mail messages\n",
    "* [imaplib](http://docs.python.org/2/library/imaplib.html)\n",
    "* Below is a code snippet adapted from the Python documentation\n",
    "* Some notes:\n",
    "    * **``getpass.getpass()``** prompts for a password without echoing it back to the screen\n",
    "    * also **``getpass.getuser()``**; "
   ]
  },
  {
   "cell_type": "markdown",
   "metadata": {},
   "source": [
    "### Here is a script to connect to and pull e-mails from UMail\n",
    "\n",
    "This was very slow for me, probably largely because I don't delete enough e-mails.\n",
    "\n",
    "* [``imaplib.IMAP4_SSl``](https://docs.python.org/3/library/imaplib.html): \"This is a subclass derived from IMAP4 that connects over an SSL encrypted socket.\"\n",
    "* [``getpass.getpass``](https://docs.python.org/3.5/library/getpass.html) ``getpass`` allows us to get passwords (or other text) that we don't want echoed back to the screen. As best practice pass the results of getpass directly to the function that needs the password so that you don't have a variable floating around withe sensitive information."
   ]
  },
  {
   "cell_type": "code",
   "execution_count": 4,
   "metadata": {
    "internals": {
     "slide_helper": "subslide_end",
     "slide_type": "subslide"
    },
    "slide_helper": "subslide_end",
    "slideshow": {
     "slide_type": "subslide"
    }
   },
   "outputs": [
    {
     "name": "stdout",
     "output_type": "stream",
     "text": [
      "Enter your University of Utah ID········\n",
      "Enter your University of Utah password········\n",
      "b'500'\n"
     ]
    }
   ],
   "source": [
    "\n",
    "M = imaplib.IMAP4_SSL(\"imap.umail.utah.edu\",port=993)\n",
    "M.login('%s@umail.utah.edu'%getpass.getpass(\"Enter your University of Utah ID\").strip(),\n",
    "        getpass.getpass(\"Enter your University of Utah password\").strip())\n",
    "M.select()\n",
    "typ,data = M.search(None,\"ALL\")\n",
    "msgs = {}\n",
    "count = 0\n",
    "for num in data[0].split():\n",
    "    count += 1\n",
    "    # My inbox had around 12000 messages in it. \n",
    "    # this was a way to keep my up to date on whether\n",
    "    # my program was really progressing\n",
    "    if count %500 == 0:\n",
    "        print (num),\n",
    "    typ,data = M.fetch(num,'(RFC822)')\n",
    "    msgs[num] = data\n"
   ]
  },
  {
   "cell_type": "markdown",
   "metadata": {
    "internals": {
     "slide_helper": "subslide_end",
     "slide_type": "subslide"
    },
    "slide_helper": "subslide_end",
    "slideshow": {
     "slide_type": "subslide"
    }
   },
   "source": [
    "### Write everything out to a pickle file\n",
    "\n",
    "* I don't want to query my e-mail very often since it is so slow, so let's save the data for later use."
   ]
  },
  {
   "cell_type": "code",
   "execution_count": 5,
   "metadata": {
    "collapsed": true,
    "internals": {
     "slide_helper": "subslide_end",
     "slide_type": "subslide"
    },
    "slide_helper": "subslide_end",
    "slideshow": {
     "slide_type": "subslide"
    }
   },
   "outputs": [],
   "source": [
    "with gzip.open(os.path.join(DATADIR,\n",
    "               \"myEmail11192017.pickle.gzip\"),\"wb\") as fo:\n",
    "    pickle.dump(msgs,fo)"
   ]
  },
  {
   "cell_type": "markdown",
   "metadata": {},
   "source": [
    "#### If we want to start over we can just read in the pickle file and skip the IMAP step"
   ]
  },
  {
   "cell_type": "code",
   "execution_count": 6,
   "metadata": {
    "collapsed": true
   },
   "outputs": [],
   "source": [
    "with gzip.open(os.path.join(DATADIR,\n",
    "               \"myEmail11192017.pickle.gzip\"),\"rb\") as fo:\n",
    "    msgs = pickle.load(fo)"
   ]
  },
  {
   "cell_type": "markdown",
   "metadata": {
    "internals": {
     "slide_helper": "subslide_end",
     "slide_type": "subslide"
    },
    "slide_helper": "subslide_end",
    "slideshow": {
     "slide_type": "subslide"
    }
   },
   "source": [
    "# Parsing e-mail messages\n",
    "* [email:](https://docs.python.org/3/library/email.html#module-email)\n",
    "\n",
    ">The email package is a library for managing email messages, including MIME and other RFC 2822-based message documents. It is specifically not designed to do any sending of email messages to SMTP (RFC 2821), NNTP, or other servers; those are functions of modules such as smtplib and nntplib. The email package attempts to be as RFC-compliant as possible, supporting in addition to RFC 2822, such MIME-related RFCs as RFC 2045, RFC 2046, RFC 2047, and RFC 2231. (Python Documentation)"
   ]
  },
  {
   "cell_type": "code",
   "execution_count": null,
   "metadata": {
    "collapsed": true
   },
   "outputs": [],
   "source": []
  },
  {
   "cell_type": "markdown",
   "metadata": {},
   "source": [
    "## Read e-mails and save 'From'/'to' and `date` information\n",
    "### Always some unicode confusion\n",
    "\n"
   ]
  },
  {
   "cell_type": "markdown",
   "metadata": {},
   "source": [
    "### What does a message look like?"
   ]
  },
  {
   "cell_type": "code",
   "execution_count": 9,
   "metadata": {},
   "outputs": [
    {
     "data": {
      "text/plain": [
       "(list, 2)"
      ]
     },
     "execution_count": 9,
     "metadata": {},
     "output_type": "execute_result"
    }
   ],
   "source": [
    "m = msgs[b'500'] #500 is the key\n",
    "type(m), len(m)"
   ]
  },
  {
   "cell_type": "code",
   "execution_count": 10,
   "metadata": {},
   "outputs": [
    {
     "name": "stdout",
     "output_type": "stream",
     "text": [
      "[(b'500 (RFC822 {23005}', b'Received: from X-MB7.xds.umail.utah.edu ([169.254.12.138]) by\\r\\n X-HUB3.xds.umail.utah.edu ([155.97.181.103]) with mapi id 14.03.0361.001;\\r\\n Thu, 12 Oct 2017 13:59:54 -0600\\r\\nFrom: \"Megan E. Williams\" <megan.williams@neuro.utah.edu>\\r\\nTo: KATHLEEN JENNIFER BENNETT <kathleen.bennett@utah.edu>\\r\\nSubject: Re: TA dev Neuro\\r\\nThread-Topic: TA dev Neuro\\r\\nThread-Index: AQHTJyZebYL8newNIEqzRaco76H78aKow0+AgDfsaACAAHX/gP//tVQA\\r\\nDate: Thu, 12 Oct 2017 13:59:54 -0600\\r\\nMessage-ID: <4A9BA5E5-903B-4923-A859-E5F8271D9273@neuro.utah.edu>\\r\\nReferences: <61B2DBCF-4E88-4D67-A0F7-87B9E20C8912@neuro.utah.edu>\\r\\n <CAEVaRPZ0yHyhJ8DncHHUQHyDCZeeuJDPAqdVYt9t3WXx+ueAzw@mail.gmail.com>\\r\\n <C7500B05-7A17-41F1-B579-985AB993414C@neuro.utah.edu>\\r\\n <CAEVaRPYzcM3PgGp9LF_SYGWkVcii3FihwnR_Q1giVs2__DC8ZQ@mail.gmail.com>\\r\\nIn-Reply-To:\\r\\n <CAEVaRPYzcM3PgGp9LF_SYGWkVcii3FihwnR_Q1giVs2__DC8ZQ@mail.gmail.com>\\r\\nAccept-Language: en-US\\r\\nContent-Language: en-US\\r\\nX-MS-Exchange-Organization-AuthAs: Internal\\r\\nX-MS-Exchange-Organization-AuthMechanism: 04\\r\\nX-MS-Exchange-Organization-AuthSource: X-HUB3.xds.umail.utah.edu\\r\\nX-MS-Has-Attach:\\r\\nX-MS-Exchange-Organization-SCL: -1\\r\\nX-MS-Exchange-Inbox-Rules-Loop: kathleen.bennett@utah.edu\\r\\nX-MS-TNEF-Correlator:\\r\\nContent-Type: text/html; charset=\"utf-8\"\\r\\nContent-ID: <2AA1C933EB484A4588C168B6FF305C1B@umail.utah.edu>\\r\\nContent-Transfer-Encoding: base64\\r\\nMIME-Version: 1.0\\r\\n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\\r\\neT4NCjwvaHRtbD4NCg==\\r\\n'), b' FLAGS (\\\\Seen))']\n"
     ]
    }
   ],
   "source": [
    "print(m)"
   ]
  },
  {
   "cell_type": "markdown",
   "metadata": {},
   "source": [
    "#### The message is a two-tuple\n",
    "* The first element is another tuple \n",
    "    * The first element of which is some index information.\n",
    "    * The second element is a big, nasty string.\n",
    "* The second element is a string describing the message status"
   ]
  },
  {
   "cell_type": "code",
   "execution_count": 11,
   "metadata": {},
   "outputs": [
    {
     "name": "stdout",
     "output_type": "stream",
     "text": [
      "The length of the message tuple is 2\n",
      "b'500 (RFC822 {23005}' b' FLAGS (\\\\Seen))'\n"
     ]
    }
   ],
   "source": [
    "print(\"The length of the message tuple is %s\"%len(m))\n",
    "print(m[0][0],m[1])\n"
   ]
  },
  {
   "cell_type": "code",
   "execution_count": 12,
   "metadata": {},
   "outputs": [
    {
     "name": "stdout",
     "output_type": "stream",
     "text": [
      "Received: from X-MB7.xds.umail.utah.edu ([169.254.12.138]) by\r\n",
      " X-HUB3.xds.umail.utah.edu ([155.97.181.103]) with mapi id 14.03.0361.001;\r\n",
      " Thu, 12 Oct 2017 13:59:54 -0600\r\n",
      "From: \"Megan E. Williams\" <megan.williams@neuro.utah.edu>\r\n",
      "To: KATHLEEN JENNIFER BENNETT <kathleen.bennett@utah.edu>\r\n",
      "Subject: Re: TA dev Neuro\r\n",
      "Thread-Topic: TA dev Neuro\r\n",
      "Thre\n"
     ]
    }
   ],
   "source": [
    "print(m[0][1].decode()[0:350])\n"
   ]
  },
  {
   "cell_type": "markdown",
   "metadata": {},
   "source": [
    "### Now we need to Parse the messages\n",
    "\n",
    "* Create an e-mail parser\n",
    "* Take a look at what a parsed message looks like\n",
    "\n",
    "* [parsestr](https://docs.python.org/3/library/email.parser.html#email.parser.Parser.parsestr)\n",
    "\n",
    "* Lots and lots of header information\n",
    "* Text of e-mail is buried in a bunch of HTML that would have to be parsed."
   ]
  },
  {
   "cell_type": "code",
   "execution_count": 13,
   "metadata": {},
   "outputs": [
    {
     "name": "stdout",
     "output_type": "stream",
     "text": [
      "['Received', 'From', 'To', 'Subject', 'Thread-Topic', 'Thread-Index', 'Date', 'Message-ID', 'References', 'In-Reply-To', 'Accept-Language', 'Content-Language', 'X-MS-Exchange-Organization-AuthAs', 'X-MS-Exchange-Organization-AuthMechanism', 'X-MS-Exchange-Organization-AuthSource', 'X-MS-Has-Attach', 'X-MS-Exchange-Organization-SCL', 'X-MS-Exchange-Inbox-Rules-Loop', 'X-MS-TNEF-Correlator', 'Content-Type', 'Content-ID', 'Content-Transfer-Encoding', 'MIME-Version']\n"
     ]
    }
   ],
   "source": [
    "p = email.parser.Parser()\n",
    "e = p.parsestr(m[0][1].decode())\n",
    "print(e.keys())\n"
   ]
  },
  {
   "cell_type": "code",
   "execution_count": 14,
   "metadata": {},
   "outputs": [
    {
     "name": "stdout",
     "output_type": "stream",
     "text": [
      "Received\n",
      "from X-MB7.xds.umail.utah.edu ([169.254.12.138]) by\r\n",
      " X-HUB3.xds.umail.utah.edu ([155.97.181.103]) with mapi id 14.03.0361.001;\r\n",
      " Thu, 12 Oct 2017 13:59:54 -0600\n",
      "\n",
      "From\n",
      "\"Megan E. Williams\" <megan.williams@neuro.utah.edu>\n",
      "\n",
      "To\n",
      "KATHLEEN JENNIFER BENNETT <kathleen.bennett@utah.edu>\n",
      "\n",
      "Subject\n",
      "Re: TA dev Neuro\n",
      "\n",
      "Thread-Topic\n",
      "TA dev Neuro\n",
      "\n",
      "Thread-Index\n",
      "AQHTJyZebYL8newNIEqzRaco76H78aKow0+AgDfsaACAAHX/gP//tVQA\n",
      "\n",
      "Date\n",
      "Thu, 12 Oct 2017 13:59:54 -0600\n",
      "\n",
      "Message-ID\n",
      "<4A9BA5E5-903B-4923-A859-E5F8271D9273@neuro.utah.edu>\n",
      "\n",
      "References\n",
      "<61B2DBCF-4E88-4D67-A0F7-87B9E20C8912@neuro.utah.edu>\r\n",
      " <CAEVaRPZ0yHyhJ8DncHHUQHyDCZeeuJDPAqdVYt9t3WXx+ueAzw@mail.gmail.com>\r\n",
      " <C7500B05-7A17-41F1-B579-985AB993414C@neuro.utah.edu>\r\n",
      " <CAEVaRPYzcM3PgGp9LF_SYGWkVcii3FihwnR_Q1giVs2__DC8ZQ@mail.gmail.com>\n",
      "\n",
      "In-Reply-To\n",
      "\r\n",
      " <CAEVaRPYzcM3PgGp9LF_SYGWkVcii3FihwnR_Q1giVs2__DC8ZQ@mail.gmail.com>\n",
      "\n",
      "Accept-Language\n",
      "en-US\n",
      "\n",
      "Content-Language\n",
      "en-US\n",
      "\n",
      "X-MS-Exchange-Organization-AuthAs\n",
      "Internal\n",
      "\n",
      "X-MS-Exchange-Organization-AuthMechanism\n",
      "04\n",
      "\n",
      "X-MS-Exchange-Organization-AuthSource\n",
      "X-HUB3.xds.umail.utah.edu\n",
      "\n",
      "X-MS-Has-Attach\n",
      "\n",
      "\n",
      "X-MS-Exchange-Organization-SCL\n",
      "-1\n",
      "\n",
      "X-MS-Exchange-Inbox-Rules-Loop\n",
      "kathleen.bennett@utah.edu\n",
      "\n",
      "X-MS-TNEF-Correlator\n",
      "\n",
      "\n",
      "Content-Type\n",
      "text/html; charset=\"utf-8\"\n",
      "\n",
      "Content-ID\n",
      "<2AA1C933EB484A4588C168B6FF305C1B@umail.utah.edu>\n",
      "\n",
      "Content-Transfer-Encoding\n",
      "base64\n",
      "\n",
      "MIME-Version\n",
      "1.0\n",
      "\n"
     ]
    }
   ],
   "source": [
    "for k,v in e.items():\n",
    "    print(k)\n",
    "    print(v)\n",
    "    print()"
   ]
  },
  {
   "cell_type": "code",
   "execution_count": 15,
   "metadata": {},
   "outputs": [
    {
     "data": {
      "text/plain": [
       "'Thu, 12 Oct 2017 13:59:54 -0600'"
      ]
     },
     "execution_count": 15,
     "metadata": {},
     "output_type": "execute_result"
    }
   ],
   "source": [
    "e[\"date\"]"
   ]
  },
  {
   "cell_type": "code",
   "execution_count": 16,
   "metadata": {
    "collapsed": true
   },
   "outputs": [],
   "source": [
    "import re\n",
    "from itertools import product\n",
    "rclean = re.compile(r\"\"\"\\s+\"\"\")\n",
    "remail = re.compile(r\"\"\"<(?P<email>\\S+@\\S+)>\"\"\")"
   ]
  },
  {
   "cell_type": "markdown",
   "metadata": {},
   "source": [
    "#### How do we want to simplify our data?\n",
    "\n",
    "* No consistency in how names are provided (e.g. \"Yiling Bi\" or \"Bi, Yiling\")\n",
    "* `From` is from one person\n",
    "* `To` can be to one to many people\n",
    "    * Sometimes I find blank entries for both \"To\" and \"From\"\n",
    "    \n",
    "#### In the cell below I'm doing the following:\n",
    "\n",
    "* I'm only keeping \"To\", \"From\", and \"date\" information\n",
    "* I'm going to identify each recipient in the \"To\" list using a regular expression and make a node/edge relationship for each person in the \"To\" list.\n",
    "* Write these out into a tab delimited file\n"
   ]
  },
  {
   "cell_type": "code",
   "execution_count": 17,
   "metadata": {
    "collapsed": true,
    "internals": {
     "slide_type": "subslide"
    },
    "slideshow": {
     "slide_type": "subslide"
    }
   },
   "outputs": [],
   "source": [
    "\n",
    "with open(os.path.join(DATADIR,\n",
    "            \"my_emails_2017.txt\"),\"wt\") as fo:\n",
    "    for key in msgs.keys():\n",
    "        m = msgs[key]\n",
    "        try:\n",
    "            e = p.parsestr(m[0][1].decode())\n",
    "        except UnicodeDecodeError:\n",
    "            e = p.parsestr(m[0][1].decode('windows-1252'))\n",
    "        if e[\"To\"] and e[\"From\"]:\n",
    "            for f,t in product(remail.findall(e[\"From\"]), remail.findall(e[\"To\"])):\n",
    "                fo.write(\"%s\\t%s\\t%s\\n\"%(f, t, e[\"date\"]))"
   ]
  },
  {
   "cell_type": "code",
   "execution_count": null,
   "metadata": {
    "collapsed": true
   },
   "outputs": [],
   "source": []
  },
  {
   "cell_type": "code",
   "execution_count": null,
   "metadata": {
    "collapsed": true
   },
   "outputs": [],
   "source": []
  }
 ],
 "metadata": {
  "kernelspec": {
   "display_name": "Python 3",
   "language": "python",
   "name": "python3"
  },
  "language_info": {
   "codemirror_mode": {
    "name": "ipython",
    "version": 3
   },
   "file_extension": ".py",
   "mimetype": "text/x-python",
   "name": "python",
   "nbconvert_exporter": "python",
   "pygments_lexer": "ipython3",
   "version": "3.5.2"
  }
 },
 "nbformat": 4,
 "nbformat_minor": 1
}
