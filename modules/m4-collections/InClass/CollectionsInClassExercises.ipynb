{
 "cells": [
  {
   "cell_type": "markdown",
   "metadata": {},
   "source": [
    "# Quiz\n",
    "* given **a = [1,2,3]** and **b = [4,5,6]**\n",
    "* Are these two statements equivalent?\n",
    "    * a.extend(b)\n",
    "    * a.append(b)"
   ]
  },
  {
   "cell_type": "markdown",
   "metadata": {},
   "source": [
    "no. extend adds the elements. append makes the list as the last element."
   ]
  },
  {
   "cell_type": "markdown",
   "metadata": {},
   "source": [
    "# Greek Myth for the Day\n",
    "\n",
    "ODYSSEUS    \n",
    ">                                         \"Let me assure you,\n",
    ">      among human beings most are changeable,    \n",
    ">      sometimes friendly, then sometimes bitter.\"   \n",
    ">        \n",
    ">AGAMEMNON    \n",
    ">    \n",
    ">      \"Are those the sort of men you'd recommend    \n",
    ">      that we accept as friends?\"    \n",
    ">    \n",
    ">ODYSSEUS    \n",
    ">  \n",
    ">                            \"Well, I wouldn't recommend\n",
    ">      we choose someone inflexible.\"   \n",
    ">      \n",
    "> (Sophocles, \"Ajax\")"
   ]
  },
  {
   "cell_type": "markdown",
   "metadata": {},
   "source": [
    "## Would Odysseus choose a list or a tuple as a friend?"
   ]
  },
  {
   "cell_type": "markdown",
   "metadata": {},
   "source": [
    "## Tuples: Application\n",
    "* Would a tuple be a more appropriate data structure for representing a patient than a list?\n",
    "* Could we mix lists and tuples together to create a better patient representation?\n"
   ]
  },
  {
   "cell_type": "markdown",
   "metadata": {},
   "source": [
    "## Here are the results of a previous blood test of mine\n",
    "### With your groups, use strings, numbers, lists, tuples  to create a Python representation of this test\n",
    "|Component|Standard Range|Your Value|Flag|\n",
    "|---------|--------------|----------|----|\n",
    "|Glucose|\t70 - 115 mg/dL|\t89\t| |\n",
    "|BUN    |\t6 - 20 mg/dL  |26\t|H|\n",
    "|Creatinine|\t0.67 - 1.17 mg/dL|\t1.39|\tH|\n",
    "|Sodium|\t136 - 145 mmol/L|\t136\t| |\n",
    "|Potassium|\t3.5 - 5.1 mmol/L|\t4.5\t||\n",
    "|Chloride|\t98 - 107 mmol/L\t|101| |\t\n",
    "|Bicarbonate|\t22 - 29 mmol/L|\t25\t| |\n",
    "|Calcium|\t8.6 - 10.5 mg/dL|\t9.4\t| |\n",
    "\n",
    "|General Information|\n",
    "|-------------------|\n",
    "|Collected:|\n",
    "|03/01/2012  9:22 AM|\n",
    "|Resulted: |\n",
    "|03/01/2012  2:19 PM|"
   ]
  },
  {
   "cell_type": "markdown",
   "metadata": {},
   "source": [
    "this is a particular blood test at a particular time. would you want this to be fixed or changable? fixed, aka tuple.\n",
    "look at one row. creatinine = string. take 0.67 and 1.17 in a tuple as numbers, so you can calculate stuff. put mg/dL as a string. your value as float or integer. flag as string."
   ]
  },
  {
   "cell_type": "code",
   "execution_count": null,
   "metadata": {
    "collapsed": true
   },
   "outputs": [],
   "source": [
    "# the test is a tuple and each subtest is a tuple\n",
    "((\"Creatitine\"), (0.67,1.17), \"mg/dL\", 1.39, \"H\"),\n",
    " (\"Sodium\", (136,145), \"mmol/L\", 136, \"\"))"
   ]
  },
  {
   "cell_type": "code",
   "execution_count": 1,
   "metadata": {
    "collapsed": true
   },
   "outputs": [],
   "source": [
    "report1 = \"\"\"The specimens are received in formalin identified on the containers with the\n",
    "patient's name, with the initials BC.\n",
    "Part 1 is labeled as \"posterior neck\". The tissue is white, measuring 0.7 x\n",
    "0.4 x 0.1 cm with a 0.5 x 0.3 cm brown lesion. The tissue is inked, bisected\n",
    "and submitted in cassette labeled lA.\n",
    "Part 2 is labeled as \"right posterior thigh\". The tissue is white, measuring\n",
    "0.6 x 0.4 x 0.1 cm with a 0.3 x 0.2 cm brown lesion. The tissue is inked,\n",
    "bisected and submitted in cassette labeled 2A.\"\"\"\n",
    "\n",
    "report2 = \"\"\"The patient is a 37 year old white male with a history of a new 6 x 6 mm light\n",
    "brown macule on left chest, which was not present at last examination 6/04. Approximately 90% of this melanoma is in-situ; the rest is composed of\n",
    "invasive (dermal) component; however, there is a central area of regression\n",
    "identified, up to 0.6 mm deep, in the close proximity of the early invasive\n",
    "component.\"\"\""
   ]
  },
  {
   "cell_type": "markdown",
   "metadata": {},
   "source": [
    "# Problems\n",
    "\n",
    "1. How many characters are in each report?\n",
    "    1. How many characters are in each report not including whitespaces?\n",
    "1. How many words are in each report?\n",
    "1. What is the average length of each word?\n",
    "1. Create versions of the reports without line breaks?\n",
    "1. Can you split these reports into sentences?"
   ]
  },
  {
   "cell_type": "code",
   "execution_count": 5,
   "metadata": {},
   "outputs": [
    {
     "name": "stdout",
     "output_type": "stream",
     "text": [
      "503\n",
      "388\n"
     ]
    }
   ],
   "source": [
    "# problem 1\n",
    "print(len(report1))\n",
    "print(len(report2))"
   ]
  },
  {
   "cell_type": "code",
   "execution_count": 4,
   "metadata": {},
   "outputs": [
    {
     "name": "stdout",
     "output_type": "stream",
     "text": [
      "411\n"
     ]
    }
   ],
   "source": [
    "#1A\n",
    "#do the thing where you split at the whitespaces\n",
    "#replace returns a string, so you can just keep doing .replace\n",
    "print(len(report1.replace(\" \",\"\").replace(\"\\n\",\"\")))"
   ]
  },
  {
   "cell_type": "code",
   "execution_count": 11,
   "metadata": {},
   "outputs": [
    {
     "data": {
      "text/plain": [
       "93"
      ]
     },
     "execution_count": 11,
     "metadata": {},
     "output_type": "execute_result"
    }
   ],
   "source": [
    "#how many words in a report?\n",
    "#words being a group of characters separated by whitespace\n",
    "#leaving split with no input includes all types of whitespace (space and new lines \"\\n\")\n",
    "\n",
    "#print(report1.split())\n",
    "len(report1.split())\n",
    "\n",
    "#note, we could also split by different things like \" x \""
   ]
  },
  {
   "cell_type": "code",
   "execution_count": 15,
   "metadata": {},
   "outputs": [
    {
     "name": "stdout",
     "output_type": "stream",
     "text": [
      "[3, 9, 3, 8, 2, 8, 10, 2, 3, 10, 4, 3, 9, 5, 4, 3, 8, 3, 4, 1, 2, 7, 2, 10, 6, 3, 6, 2, 6, 9, 3, 1, 3, 1, 3, 2, 4, 1, 3, 1, 3, 2, 5, 7, 3, 6, 2, 6, 8, 3, 9, 2, 8, 7, 3, 4, 1, 2, 7, 2, 6, 9, 7, 3, 6, 2, 6, 9, 3, 1, 3, 1, 3, 2, 4, 1, 3, 1, 3, 2, 5, 7, 3, 6, 2, 6, 8, 3, 9, 2, 8, 7, 3]\n"
     ]
    },
    {
     "data": {
      "text/plain": [
       "4.419354838709677"
      ]
     },
     "execution_count": 15,
     "metadata": {},
     "output_type": "execute_result"
    }
   ],
   "source": [
    "#What is the average length of each word?\n",
    "# create a list of individual string lengths\n",
    "import numpy\n",
    "word_lengths = []\n",
    "for word in report1.split():\n",
    "    word_lengths.append(len(word))\n",
    "#print(word_lengths)\n",
    "numpy.mean(word_lengths)\n"
   ]
  },
  {
   "cell_type": "code",
   "execution_count": 19,
   "metadata": {},
   "outputs": [
    {
     "data": {
      "text/plain": [
       "4.419354838709677"
      ]
     },
     "execution_count": 19,
     "metadata": {},
     "output_type": "execute_result"
    }
   ],
   "source": [
    "#list comprehension would be a shortcut to this\n",
    "#embedding a for loop in a list\n",
    "numpy.mean([len(word) for word in report1.split()])"
   ]
  },
  {
   "cell_type": "code",
   "execution_count": 18,
   "metadata": {},
   "outputs": [
    {
     "data": {
      "text/plain": [
       "['The specimens are received in formalin identified on the containers with the',\n",
       " \"patient's name, with the initials BC.\",\n",
       " 'Part 1 is labeled as \"posterior neck\". The tissue is white, measuring 0.7 x',\n",
       " '0.4 x 0.1 cm with a 0.5 x 0.3 cm brown lesion. The tissue is inked, bisected',\n",
       " 'and submitted in cassette labeled lA.',\n",
       " 'Part 2 is labeled as \"right posterior thigh\". The tissue is white, measuring',\n",
       " '0.6 x 0.4 x 0.1 cm with a 0.3 x 0.2 cm brown lesion. The tissue is inked,',\n",
       " 'bisected and submitted in cassette labeled 2A.']"
      ]
     },
     "execution_count": 18,
     "metadata": {},
     "output_type": "execute_result"
    }
   ],
   "source": [
    "#Create versions of the reports without line breaks?\n",
    "report1.split(\"\\n\")"
   ]
  },
  {
   "cell_type": "code",
   "execution_count": null,
   "metadata": {
    "collapsed": true
   },
   "outputs": [],
   "source": [
    "#Can you split these reports into sentences?\n",
    "#sentences are marked with a pariod and space at the end\n",
    "\n",
    "report1.split(\". \")\n",
    "for string in report1.split(\". \"):\n",
    "    print(string.split(\".\\n\"))\n",
    "\n",
    "#but this is tricky... what if our report included other things with a period and space?\n",
    "#like \"Mr.\" or \"Mrs.\"?\n",
    "#we'd have to include the exceptions"
   ]
  },
  {
   "cell_type": "markdown",
   "metadata": {},
   "source": [
    "## Lists of Lists, tuples with lists, and copies of lists"
   ]
  },
  {
   "cell_type": "code",
   "execution_count": null,
   "metadata": {
    "collapsed": true
   },
   "outputs": [],
   "source": []
  }
 ],
 "metadata": {
  "anaconda-cloud": {},
  "kernelspec": {
   "display_name": "Python 3",
   "language": "python",
   "name": "python3"
  },
  "language_info": {
   "codemirror_mode": {
    "name": "ipython",
    "version": 3
   },
   "file_extension": ".py",
   "mimetype": "text/x-python",
   "name": "python",
   "nbconvert_exporter": "python",
   "pygments_lexer": "ipython3",
   "version": "3.5.2"
  }
 },
 "nbformat": 4,
 "nbformat_minor": 1
}
